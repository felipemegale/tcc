{
 "cells": [
  {
   "cell_type": "code",
   "execution_count": 87,
   "id": "84171a26-0994-4dab-b41a-7c65595d7dca",
   "metadata": {},
   "outputs": [],
   "source": [
    "# import pyspark to process large files\n",
    "from pyspark.sql import SparkSession\n",
    "from pyspark.sql.functions import monotonically_increasing_id"
   ]
  },
  {
   "cell_type": "code",
   "execution_count": 88,
   "id": "084ec160-0098-4126-b590-71179f013a65",
   "metadata": {},
   "outputs": [
    {
     "name": "stdout",
     "output_type": "stream",
     "text": [
      "Spark version:  2.4.0\n"
     ]
    }
   ],
   "source": [
    "# create a new spark session\n",
    "spark = SparkSession.builder.master('local[*]').appName('2019_insights').getOrCreate()\n",
    "print(\"Spark version: \", spark.version)"
   ]
  },
  {
   "cell_type": "code",
   "execution_count": 89,
   "id": "f4709970-0cb4-49db-b71e-c63c29fc3c35",
   "metadata": {},
   "outputs": [],
   "source": [
    "# load taxi zone lookup\n",
    "taxi_zones = spark.read.csv('csv/taxi+_zone_lookup.csv', header=True)"
   ]
  },
  {
   "cell_type": "code",
   "execution_count": 90,
   "id": "d0691e38-2359-488d-810f-3a18a7df861c",
   "metadata": {},
   "outputs": [
    {
     "name": "stdout",
     "output_type": "stream",
     "text": [
      "+----------+-------------+--------------------+------------+\n",
      "|LocationID|      Borough|                Zone|service_zone|\n",
      "+----------+-------------+--------------------+------------+\n",
      "|         1|          EWR|      Newark Airport|         EWR|\n",
      "|         2|       Queens|         Jamaica Bay|   Boro Zone|\n",
      "|         3|        Bronx|Allerton/Pelham G...|   Boro Zone|\n",
      "|         4|    Manhattan|       Alphabet City| Yellow Zone|\n",
      "|         5|Staten Island|       Arden Heights|   Boro Zone|\n",
      "+----------+-------------+--------------------+------------+\n",
      "only showing top 5 rows\n",
      "\n"
     ]
    }
   ],
   "source": [
    "# show five first taxi zones\n",
    "# columns of interest: LocationID, Zone\n",
    "taxi_zones.show(5)"
   ]
  },
  {
   "cell_type": "code",
   "execution_count": 91,
   "id": "655d32b0-a55b-40ed-93e8-14b2ffa07ae3",
   "metadata": {},
   "outputs": [],
   "source": [
    "# load fhv and fhvhv data\n",
    "fhv_tripdata = spark.read.csv('csv/2019/processed_fhv_data.csv', header=True)\n",
    "fhvhv_tripdata = spark.read.csv('csv/2019/processed_fhvhv_data.csv', header=True)"
   ]
  },
  {
   "cell_type": "code",
   "execution_count": 92,
   "id": "1e9cf1b4-6b46-4c3e-bb8f-f1327325d5f5",
   "metadata": {},
   "outputs": [],
   "source": [
    "# leave only PU and DO cols\n",
    "pu_do_fhv = fhv_tripdata.drop('pickup_datetime', 'dropoff_datetime', 'SR_Flag')\n",
    "pu_do_fhvhv = fhvhv_tripdata.drop('pickup_datetime', 'dropoff_datetime', 'SR_Flag')"
   ]
  },
  {
   "cell_type": "code",
   "execution_count": 93,
   "id": "934fd338-4bdd-45b7-a21c-50a91ab1d9cd",
   "metadata": {},
   "outputs": [
    {
     "name": "stdout",
     "output_type": "stream",
     "text": [
      "+------------+------------+\n",
      "|PULocationID|DOLocationID|\n",
      "+------------+------------+\n",
      "|         140|          52|\n",
      "|         141|         237|\n",
      "|         237|         236|\n",
      "|         162|          85|\n",
      "|         237|         246|\n",
      "+------------+------------+\n",
      "only showing top 5 rows\n",
      "\n"
     ]
    }
   ],
   "source": [
    "# show first 5 rows of pu_do_fhv\n",
    "pu_do_fhv.show(5)"
   ]
  },
  {
   "cell_type": "code",
   "execution_count": 94,
   "id": "f157e01f-b6e5-4ae5-8b3b-ab7011261e16",
   "metadata": {},
   "outputs": [],
   "source": [
    "# change possible NaN values to '0'\n",
    "pu_do_fhv = pu_do_fhv.fillna('0')"
   ]
  },
  {
   "cell_type": "code",
   "execution_count": 95,
   "id": "5bb3fd01-5451-44d3-b1a0-9f422d2b580f",
   "metadata": {},
   "outputs": [],
   "source": [
    "# cast PU col to int\n",
    "pu_do_fhv = pu_do_fhv.withColumn(\"PULocationID\", pu_do_fhv.PULocationID.cast('int'))"
   ]
  },
  {
   "cell_type": "code",
   "execution_count": 96,
   "id": "91642233-a390-4935-a19f-ac85fbb18c4c",
   "metadata": {},
   "outputs": [],
   "source": [
    "# cast DO col to int\n",
    "pu_do_fhv = pu_do_fhv.withColumn(\"DOLocationID\", pu_do_fhv.DOLocationID.cast('int'))"
   ]
  },
  {
   "cell_type": "code",
   "execution_count": 97,
   "id": "2b4d3363-1258-4367-9fe1-4bff39a7726f",
   "metadata": {},
   "outputs": [
    {
     "name": "stdout",
     "output_type": "stream",
     "text": [
      "+------------+------------+\n",
      "|PULocationID|DOLocationID|\n",
      "+------------+------------+\n",
      "|         245|         251|\n",
      "|         216|         197|\n",
      "|         261|         234|\n",
      "|          87|          87|\n",
      "|          87|         198|\n",
      "+------------+------------+\n",
      "only showing top 5 rows\n",
      "\n"
     ]
    }
   ],
   "source": [
    "# show first five rows of pu_do_fhvhv\n",
    "pu_do_fhvhv.show(5)"
   ]
  },
  {
   "cell_type": "code",
   "execution_count": 98,
   "id": "cec0371a-a096-4d0f-839b-55f1aa825639",
   "metadata": {},
   "outputs": [],
   "source": [
    "# change possible NaN values to '0'\n",
    "pu_do_fhvhv = pu_do_fhvhv.fillna('0')"
   ]
  },
  {
   "cell_type": "code",
   "execution_count": 99,
   "id": "8c5ba697-55d7-4181-91ec-396f1d175f1f",
   "metadata": {},
   "outputs": [],
   "source": [
    "# cast PU col to int\n",
    "pu_do_fhvhv = pu_do_fhvhv.withColumn(\"PULocationID\", pu_do_fhvhv.PULocationID.cast('int'))"
   ]
  },
  {
   "cell_type": "code",
   "execution_count": 100,
   "id": "f803d258-35c9-4385-9f3c-81d9ba6239ed",
   "metadata": {},
   "outputs": [],
   "source": [
    "# cast DO col to int\n",
    "pu_do_fhvhv = pu_do_fhvhv.withColumn(\"DOLocationID\", pu_do_fhvhv.DOLocationID.cast('int'))"
   ]
  },
  {
   "cell_type": "code",
   "execution_count": 101,
   "id": "ffa011c2-b099-4dec-a54c-cab19fc89d3a",
   "metadata": {},
   "outputs": [],
   "source": [
    "# filter off rows where either PU or DO are 0\n",
    "pu_do_fhv.createOrReplaceTempView(\"FHV_VIEW\")\n",
    "pu_do_fhv_tripdata = spark.sql(\"SELECT * FROM FHV_VIEW WHERE PULocationID > 0 AND DOLocationID > 0\")\n",
    "\n",
    "pu_do_fhvhv.createOrReplaceTempView(\"FHVHV_VIEW\")\n",
    "pu_do_fhvhv_tripdata = spark.sql(\"SELECT * FROM FHVHV_VIEW WHERE PULocationID > 0 AND DOLocationID > 0\")"
   ]
  },
  {
   "cell_type": "code",
   "execution_count": 102,
   "id": "42b61d73-58f1-4fee-8f25-33940f469897",
   "metadata": {},
   "outputs": [],
   "source": [
    "# create taxi zone OD matrix\n",
    "# the +1 is to compensate for 0-index\n",
    "od_matrix_size = taxi_zones.count()+1\n",
    "od_matrix = [[0 for x in range(od_matrix_size)] for y in range(od_matrix_size)]"
   ]
  },
  {
   "cell_type": "code",
   "execution_count": 103,
   "id": "da9a8552-9523-4814-a1ad-673f69fec582",
   "metadata": {},
   "outputs": [],
   "source": [
    "# iterate over fhv tripdata and fill OD matrix\n",
    "fhv_collect = pu_do_fhv_tripdata.rdd.toLocalIterator()\n",
    "\n",
    "for fhv_row in fhv_collect:\n",
    "    od_matrix[fhv_row.PULocationID][fhv_row.DOLocationID] += 1"
   ]
  },
  {
   "cell_type": "code",
   "execution_count": 104,
   "id": "93e719c2-9192-4d1f-9252-da9b9f2a4932",
   "metadata": {},
   "outputs": [],
   "source": [
    "# iterate over fhvhv tripdata and fill OD matrix\n",
    "fhvhv_collect = pu_do_fhvhv_tripdata.rdd.toLocalIterator()\n",
    "\n",
    "for fhvhv_row in fhvhv_collect:\n",
    "    od_matrix[fhvhv_row.PULocationID][fhvhv_row.DOLocationID] += 1"
   ]
  },
  {
   "cell_type": "code",
   "execution_count": 105,
   "id": "3d2e2395-ae25-43b3-82fb-b5bb551ec9e1",
   "metadata": {},
   "outputs": [],
   "source": [
    "# get taxi zones as int\n",
    "zone_ids = [int(row.LocationID) for row in taxi_zones.select(\"LocationID\").collect()]\n",
    "zone_ids.insert(0,0)\n",
    "zone_ids = list(map(lambda x: str(x), zone_ids))"
   ]
  },
  {
   "cell_type": "code",
   "execution_count": 106,
   "id": "1885a421-214d-4caf-826a-13f1f33b965d",
   "metadata": {},
   "outputs": [],
   "source": [
    "# create OD dataframe from od_matrix\n",
    "od_df = spark.createDataFrame(data=od_matrix,schema=zone_ids)"
   ]
  },
  {
   "cell_type": "code",
   "execution_count": 107,
   "id": "1be46cc8-0db2-4a4b-8d32-c0e6bb47a86c",
   "metadata": {},
   "outputs": [],
   "source": [
    "# add index O/D column to dataframe\n",
    "od_df_with_index = od_df.withColumn(\"O/D\", monotonically_increasing_id())"
   ]
  },
  {
   "cell_type": "code",
   "execution_count": 108,
   "id": "851ef72e-4094-4505-aca5-0f62d0d29ac8",
   "metadata": {},
   "outputs": [],
   "source": [
    "# write OD dataframe to file\n",
    "od_df_with_index.repartition(1).write.format(\"com.databricks.spark.csv\").option(\"header\", \"true\").save(\"csv/2019/fhv_fhvhv_od.csv\")"
   ]
  },
  {
   "cell_type": "code",
   "execution_count": 131,
   "id": "ecc8e107-ad92-4737-b54f-56b70ea0ec76",
   "metadata": {},
   "outputs": [],
   "source": [
    "# create and populate list containing max values from each row in od_df_with_index\n",
    "od_df_iter = od_df.rdd.toLocalIterator()\n",
    "origin = 0\n",
    "od_greatest_values = []\n",
    "\n",
    "for row in od_df_iter:\n",
    "    max_val = max(list(row))\n",
    "    destination = row.index(max_val)\n",
    "    od_greatest_values.append((origin, destination, max_val))\n",
    "    origin += 1\n",
    "\n",
    "# create dataframe from od_greatest_values list\n",
    "od_gr_df_cols = [\"PULocationID\", \"DOLocationID\", \"TripQty\"]\n",
    "od_gr_df = spark.createDataFrame(data=od_greatest_values, schema=od_gr_df_cols)"
   ]
  },
  {
   "cell_type": "code",
   "execution_count": 132,
   "id": "11b47bf4-e2cb-4418-9425-087431dfb59d",
   "metadata": {},
   "outputs": [
    {
     "name": "stdout",
     "output_type": "stream",
     "text": [
      "+------------+------------+-------+\n",
      "|PULocationID|DOLocationID|TripQty|\n",
      "+------------+------------+-------+\n",
      "|           0|           0|      0|\n",
      "|           1|         265|   6794|\n",
      "|           2|         124|     42|\n",
      "|           3|           3|  41602|\n",
      "|           4|          79|  48830|\n",
      "+------------+------------+-------+\n",
      "only showing top 5 rows\n",
      "\n"
     ]
    }
   ],
   "source": [
    "od_gr_df.show(5)"
   ]
  },
  {
   "cell_type": "code",
   "execution_count": null,
   "id": "df90a5e1-511f-4c46-9cf9-dc7e300e319c",
   "metadata": {},
   "outputs": [],
   "source": []
  }
 ],
 "metadata": {
  "kernelspec": {
   "display_name": "Python 3",
   "language": "python",
   "name": "python3"
  },
  "language_info": {
   "codemirror_mode": {
    "name": "ipython",
    "version": 3
   },
   "file_extension": ".py",
   "mimetype": "text/x-python",
   "name": "python",
   "nbconvert_exporter": "python",
   "pygments_lexer": "ipython3",
   "version": "3.7.10"
  }
 },
 "nbformat": 4,
 "nbformat_minor": 5
}
