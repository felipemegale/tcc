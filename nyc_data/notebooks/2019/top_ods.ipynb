{
 "cells": [
  {
   "cell_type": "code",
   "execution_count": 1,
   "id": "4fc676c6-a301-434f-a985-9601b0d84297",
   "metadata": {},
   "outputs": [],
   "source": [
    "# import pyspark to process large files and create a new spark session\n",
    "from pyspark.sql import SparkSession\n",
    "from pyspark.sql.functions import col, asc, desc, to_timestamp\n",
    "import geopandas\n",
    "import numpy as np\n",
    "import matplotlib.pyplot as plt\n",
    "\n",
    "spark = SparkSession\\\n",
    "    .builder\\\n",
    "    .master('local[*]')\\\n",
    "    .config(\"spark.driver.memory\", \"4g\")\\\n",
    "    .appName('process_tripdata')\\\n",
    "    .getOrCreate()"
   ]
  },
  {
   "cell_type": "code",
   "execution_count": 2,
   "id": "e0c8bfc2-193c-46ef-9fdc-9055154ab145",
   "metadata": {},
   "outputs": [],
   "source": [
    "# read all months top_ods\n",
    "jan_top_ods = spark\\\n",
    "    .read\\\n",
    "    .csv('/media/felipe/Files/repos/tcc/nyc_data/csv/2019/01/top_ods.csv', header=True)\n",
    "\n",
    "feb_top_ods = spark\\\n",
    "    .read\\\n",
    "    .csv('/media/felipe/Files/repos/tcc/nyc_data/csv/2019/02/top_ods.csv', header=True)\n",
    "\n",
    "mar_top_ods = spark\\\n",
    "    .read\\\n",
    "    .csv('/media/felipe/Files/repos/tcc/nyc_data/csv/2019/03/top_ods.csv', header=True)\n",
    "\n",
    "apr_top_ods = spark\\\n",
    "    .read\\\n",
    "    .csv('/media/felipe/Files/repos/tcc/nyc_data/csv/2019/04/top_ods.csv', header=True)\n",
    "\n",
    "may_top_ods = spark\\\n",
    "    .read\\\n",
    "    .csv('/media/felipe/Files/repos/tcc/nyc_data/csv/2019/05/top_ods.csv', header=True)\n",
    "\n",
    "jun_top_ods = spark\\\n",
    "    .read\\\n",
    "    .csv('/media/felipe/Files/repos/tcc/nyc_data/csv/2019/06/top_ods.csv', header=True)\n",
    "\n",
    "jul_top_ods = spark\\\n",
    "    .read\\\n",
    "    .csv('/media/felipe/Files/repos/tcc/nyc_data/csv/2019/07/top_ods.csv', header=True)\n",
    "\n",
    "aug_top_ods = spark\\\n",
    "    .read\\\n",
    "    .csv('/media/felipe/Files/repos/tcc/nyc_data/csv/2019/08/top_ods.csv', header=True)\n",
    "\n",
    "sep_top_ods = spark\\\n",
    "    .read\\\n",
    "    .csv('/media/felipe/Files/repos/tcc/nyc_data/csv/2019/09/top_ods.csv', header=True)\n",
    "\n",
    "oct_top_ods = spark\\\n",
    "    .read\\\n",
    "    .csv('/media/felipe/Files/repos/tcc/nyc_data/csv/2019/10/top_ods.csv', header=True)\n",
    "\n",
    "nov_top_ods = spark\\\n",
    "    .read\\\n",
    "    .csv('/media/felipe/Files/repos/tcc/nyc_data/csv/2019/11/top_ods.csv', header=True)\n",
    "\n",
    "dec_top_ods = spark\\\n",
    "    .read\\\n",
    "    .csv('/media/felipe/Files/repos/tcc/nyc_data/csv/2019/12/top_ods.csv', header=True)"
   ]
  },
  {
   "cell_type": "code",
   "execution_count": 23,
   "id": "6f8c9d22-aa9f-4208-83e0-32bb37379c4f",
   "metadata": {},
   "outputs": [
    {
     "name": "stdout",
     "output_type": "stream",
     "text": [
      "+------------+------------+------------+\n",
      "|PULocationID|DOLocationID|sum(TripQty)|\n",
      "+------------+------------+------------+\n",
      "|          76|          76|      624925|\n",
      "|          26|          26|      444398|\n",
      "|          39|          39|      438670|\n",
      "|          61|          61|      434057|\n",
      "|         129|         129|      374251|\n",
      "|           7|           7|      350187|\n",
      "|          14|          14|      321833|\n",
      "|         181|         181|      302383|\n",
      "|          37|          37|      279627|\n",
      "|          36|          37|      260248|\n",
      "+------------+------------+------------+\n",
      "only showing top 10 rows\n",
      "\n"
     ]
    }
   ],
   "source": [
    "# merge all top_ods together\n",
    "top_ods = jan_top_ods\\\n",
    "    .union(feb_top_ods)\\\n",
    "    .union(mar_top_ods)\\\n",
    "    .union(apr_top_ods)\\\n",
    "    .union(may_top_ods)\\\n",
    "    .union(jun_top_ods)\\\n",
    "    .union(jul_top_ods)\\\n",
    "    .union(aug_top_ods)\\\n",
    "    .union(sep_top_ods)\\\n",
    "    .union(oct_top_ods)\\\n",
    "    .union(nov_top_ods)\\\n",
    "    .union(dec_top_ods)\n",
    "\n",
    "top_ods = top_ods.withColumn(\"TripQty\", col(\"TripQty\").cast(\"int\"))\n",
    "\n",
    "top_ods = top_ods.drop(\"LocationID\")\n",
    "top_ods = top_ods\\\n",
    "    .groupBy(\"PULocationID\", \"DOLocationID\")\\\n",
    "    .sum(\"TripQty\")\\\n",
    "    .orderBy(col(\"sum(TripQty)\")\\\n",
    "    .desc())\n",
    "\n",
    "top_ods.show(10)"
   ]
  },
  {
   "cell_type": "code",
   "execution_count": null,
   "id": "36e2c0be-ff89-4adb-8d95-fdf85bdcb9c8",
   "metadata": {},
   "outputs": [],
   "source": []
  }
 ],
 "metadata": {
  "kernelspec": {
   "display_name": "Python 3",
   "language": "python",
   "name": "python3"
  },
  "language_info": {
   "codemirror_mode": {
    "name": "ipython",
    "version": 3
   },
   "file_extension": ".py",
   "mimetype": "text/x-python",
   "name": "python",
   "nbconvert_exporter": "python",
   "pygments_lexer": "ipython3",
   "version": "3.7.7"
  }
 },
 "nbformat": 4,
 "nbformat_minor": 5
}
