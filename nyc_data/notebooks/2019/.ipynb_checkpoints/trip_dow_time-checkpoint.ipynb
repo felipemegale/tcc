{
 "cells": [
  {
   "cell_type": "code",
   "execution_count": 79,
   "id": "3ade5a16-7412-42f8-b44e-e9c87ddd631f",
   "metadata": {},
   "outputs": [],
   "source": [
    "# import pyspark to process large files and create a new spark session\n",
    "from pyspark.sql import SparkSession\n",
    "from pyspark.sql.functions import col, asc, desc, to_timestamp, first\n",
    "import geopandas\n",
    "import numpy as np\n",
    "import matplotlib.pyplot as plt\n",
    "import pandas as pd\n",
    "\n",
    "spark = SparkSession\\\n",
    "    .builder\\\n",
    "    .master('local[*]')\\\n",
    "    .config(\"spark.driver.memory\", \"4g\")\\\n",
    "    .appName('process_tripdata')\\\n",
    "    .getOrCreate()"
   ]
  },
  {
   "cell_type": "code",
   "execution_count": 2,
   "id": "2e9287d0-27d8-4796-8910-e5e76f47df4d",
   "metadata": {},
   "outputs": [],
   "source": [
    "# read all months trip_dow_time\n",
    "jan_trip_dow_time = spark\\\n",
    "    .read\\\n",
    "    .csv('/media/felipe/Files/repos/tcc/nyc_data/csv/2019/01/trip_dow_time.csv', header=True)\n",
    "\n",
    "feb_trip_dow_time = spark\\\n",
    "    .read\\\n",
    "    .csv('/media/felipe/Files/repos/tcc/nyc_data/csv/2019/02/trip_dow_time.csv', header=True)\n",
    "\n",
    "mar_trip_dow_time = spark\\\n",
    "    .read\\\n",
    "    .csv('/media/felipe/Files/repos/tcc/nyc_data/csv/2019/03/trip_dow_time.csv', header=True)\n",
    "\n",
    "apr_trip_dow_time = spark\\\n",
    "    .read\\\n",
    "    .csv('/media/felipe/Files/repos/tcc/nyc_data/csv/2019/04/trip_dow_time.csv', header=True)\n",
    "\n",
    "may_trip_dow_time = spark\\\n",
    "    .read\\\n",
    "    .csv('/media/felipe/Files/repos/tcc/nyc_data/csv/2019/05/trip_dow_time.csv', header=True)\n",
    "\n",
    "jun_trip_dow_time = spark\\\n",
    "    .read\\\n",
    "    .csv('/media/felipe/Files/repos/tcc/nyc_data/csv/2019/06/trip_dow_time.csv', header=True)\n",
    "\n",
    "jul_trip_dow_time = spark\\\n",
    "    .read\\\n",
    "    .csv('/media/felipe/Files/repos/tcc/nyc_data/csv/2019/07/trip_dow_time.csv', header=True)\n",
    "\n",
    "aug_trip_dow_time = spark\\\n",
    "    .read\\\n",
    "    .csv('/media/felipe/Files/repos/tcc/nyc_data/csv/2019/08/trip_dow_time.csv', header=True)\n",
    "\n",
    "sep_trip_dow_time = spark\\\n",
    "    .read\\\n",
    "    .csv('/media/felipe/Files/repos/tcc/nyc_data/csv/2019/09/trip_dow_time.csv', header=True)\n",
    "\n",
    "oct_trip_dow_time = spark\\\n",
    "    .read\\\n",
    "    .csv('/media/felipe/Files/repos/tcc/nyc_data/csv/2019/10/trip_dow_time.csv', header=True)\n",
    "\n",
    "nov_trip_dow_time = spark\\\n",
    "    .read\\\n",
    "    .csv('/media/felipe/Files/repos/tcc/nyc_data/csv/2019/11/trip_dow_time.csv', header=True)\n",
    "\n",
    "dec_trip_dow_time = spark\\\n",
    "    .read\\\n",
    "    .csv('/media/felipe/Files/repos/tcc/nyc_data/csv/2019/12/trip_dow_time.csv', header=True)"
   ]
  },
  {
   "cell_type": "code",
   "execution_count": 230,
   "id": "97636f2a-6a42-4322-90ce-24aa838418a2",
   "metadata": {},
   "outputs": [
    {
     "name": "stdout",
     "output_type": "stream",
     "text": [
      "+---+-------+-------+--------+--------+\n",
      "|dow|morning|    day|    noon|   night|\n",
      "+---+-------+-------+--------+--------+\n",
      "|fri|4144559|9525900|10533866|14496387|\n",
      "|thu|3277257|9484917| 9849273|12534655|\n",
      "|tue|3056159|9172815| 9360345|11127788|\n",
      "|sat|7179158|7547399|12015681|15170632|\n",
      "|wed|2979883|9141856| 9499647|11539368|\n",
      "|mon|3192441|8838168| 9233146| 9916741|\n",
      "|sun|8296191|6770696|11326296|10581675|\n",
      "+---+-------+-------+--------+--------+\n",
      "\n"
     ]
    }
   ],
   "source": [
    "trip_dow_times = jan_trip_dow_time\\\n",
    "    .union(feb_trip_dow_time)\\\n",
    "    .union(mar_trip_dow_time)\\\n",
    "    .union(apr_trip_dow_time)\\\n",
    "    .union(may_trip_dow_time)\\\n",
    "    .union(jun_trip_dow_time)\\\n",
    "    .union(jul_trip_dow_time)\\\n",
    "    .union(aug_trip_dow_time)\\\n",
    "    .union(sep_trip_dow_time)\\\n",
    "    .union(oct_trip_dow_time)\\\n",
    "    .union(nov_trip_dow_time)\\\n",
    "    .union(dec_trip_dow_time)\n",
    "\n",
    "trip_dow_times = trip_dow_times\\\n",
    "    .withColumn('morning', col('morning').cast('int'))\\\n",
    "    .withColumn('day', col('day').cast('int'))\\\n",
    "    .withColumn('noon', col('noon').cast('int'))\\\n",
    "    .withColumn('night', col('night').cast('int'))\n",
    "\n",
    "trip_dow_times = trip_dow_times\\\n",
    "    .groupBy('day of week')\\\n",
    "    .sum('morning', 'day', 'noon', 'night')\n",
    "\n",
    "trip_dow_times = trip_dow_times\\\n",
    "    .withColumnRenamed(\"day of week\", \"dow\")\\\n",
    "    .withColumnRenamed(\"sum(morning)\", \"morning\")\\\n",
    "    .withColumnRenamed(\"sum(day)\", \"day\")\\\n",
    "    .withColumnRenamed(\"sum(noon)\", \"noon\")\\\n",
    "    .withColumnRenamed(\"sum(night)\", \"night\")\n",
    "\n",
    "trip_dow_times.show()"
   ]
  },
  {
   "cell_type": "code",
   "execution_count": 231,
   "id": "66a5d32a-b29a-47e2-a6f6-17c10f7e555f",
   "metadata": {},
   "outputs": [
    {
     "name": "stdout",
     "output_type": "stream",
     "text": [
      "+---+-------+-------+--------+--------+----+\n",
      "|dow|morning|    day|    noon|   night|code|\n",
      "+---+-------+-------+--------+--------+----+\n",
      "|mon|3192441|8838168| 9233146| 9916741|   0|\n",
      "|tue|3056159|9172815| 9360345|11127788|   1|\n",
      "|wed|2979883|9141856| 9499647|11539368|   2|\n",
      "|thu|3277257|9484917| 9849273|12534655|   3|\n",
      "|fri|4144559|9525900|10533866|14496387|   4|\n",
      "|sat|7179158|7547399|12015681|15170632|   5|\n",
      "|sun|8296191|6770696|11326296|10581675|   6|\n",
      "+---+-------+-------+--------+--------+----+\n",
      "\n"
     ]
    }
   ],
   "source": [
    "# change day of week string to number\n",
    "dow_map_names = [['mon',0],['tue',1],['wed',2],['thu',3],['fri',4],['sat',5],['sun',6]]\n",
    "dow_map_names_schema = ['map_dow', 'code']\n",
    "\n",
    "dow_map_df = spark.createDataFrame(data=dow_map_names, schema=dow_map_names_schema)\n",
    "\n",
    "# dow_map_df.show()\n",
    "\n",
    "trip_dow_times = trip_dow_times.join(dow_map_df, trip_dow_times.dow == dow_map_df.map_dow)\n",
    "trip_dow_times = trip_dow_times.drop(\"map_dow\")\n",
    "trip_dow_times = trip_dow_times.withColumn('morning', trip_dow_times.morning.cast('int'))\n",
    "trip_dow_times = trip_dow_times.withColumn('day', trip_dow_times.day.cast('int'))\n",
    "trip_dow_times = trip_dow_times.withColumn('noon', trip_dow_times.noon.cast('int'))\n",
    "trip_dow_times = trip_dow_times.withColumn('night', trip_dow_times.night.cast('int'))\n",
    "\n",
    "trip_dow_times.show()"
   ]
  },
  {
   "cell_type": "code",
   "execution_count": 237,
   "id": "6b83e4c0-026e-4221-8f09-a1e100a9960b",
   "metadata": {},
   "outputs": [
    {
     "name": "stdout",
     "output_type": "stream",
     "text": [
      "[Row(dow='mon', morning=3192441, day=8838168, noon=9233146, night=9916741), Row(dow='tue', morning=3056159, day=9172815, noon=9360345, night=11127788), Row(dow='wed', morning=2979883, day=9141856, noon=9499647, night=11539368), Row(dow='thu', morning=3277257, day=9484917, noon=9849273, night=12534655), Row(dow='fri', morning=4144559, day=9525900, noon=10533866, night=14496387), Row(dow='sat', morning=7179158, day=7547399, noon=12015681, night=15170632), Row(dow='sun', morning=8296191, day=6770696, noon=11326296, night=10581675)]\n",
      "[['mon' '3192441' '8838168' '9233146' '9916741']\n",
      " ['tue' '3056159' '9172815' '9360345' '11127788']\n",
      " ['wed' '2979883' '9141856' '9499647' '11539368']\n",
      " ['thu' '3277257' '9484917' '9849273' '12534655']\n",
      " ['fri' '4144559' '9525900' '10533866' '14496387']\n",
      " ['sat' '7179158' '7547399' '12015681' '15170632']\n",
      " ['sun' '8296191' '6770696' '11326296' '10581675']]\n"
     ]
    }
   ],
   "source": [
    "# cast trip_dow_time df to array of array\n",
    "trip_dow_times_col = trip_dow_times\\\n",
    "    .orderBy(\"code\")\\\n",
    "    .select(\"dow\",\"morning\",\"day\",\"noon\",\"night\")\\\n",
    "    .collect()\n",
    "\n",
    "trip_dow_times_arr = np.array(trip_dow_times_col)\n",
    "print(trip_dow_times_arr)"
   ]
  },
  {
   "cell_type": "code",
   "execution_count": 221,
   "id": "d7cd7bb3-3e33-4da8-8bdc-86e0110c3c4e",
   "metadata": {},
   "outputs": [
    {
     "name": "stdout",
     "output_type": "stream",
     "text": [
      "[-0.0625  0.9375  1.9375  2.9375  3.9375  4.9375  5.9375]\n",
      "[0.0625 1.0625 2.0625 3.0625 4.0625 5.0625 6.0625]\n",
      "[0.1875 1.1875 2.1875 3.1875 4.1875 5.1875 6.1875]\n",
      "[0.3125 1.3125 2.3125 3.3125 4.3125 5.3125 6.3125]\n"
     ]
    },
    {
     "data": {
      "image/png": "[encoded data removed]",
      "text/plain": [
       "<Figure size 432x288 with 1 Axes>"
      ]
     },
     "metadata": {
      "needs_background": "light"
     },
     "output_type": "display_data"
    }
   ],
   "source": [
    "transposed = trip_dow_times_arr.transpose()\n",
    "labels = ['Mon ','Tue','Wed','Thu', 'Fri', 'Sat', 'Sun']\n",
    "\n",
    "morning_qty = transposed[0]\n",
    "day_qty = transposed[1]\n",
    "noon_qty = transposed[2]\n",
    "night_qty = transposed[3]\n",
    "\n",
    "x = np.arange(len(labels))  # the label locations\n",
    "width = 0.25  # the width of the bars\n",
    "\n",
    "fig, ax = plt.subplots()\n",
    "morning_rects = ax.bar(x - width/4, morning_qty, width/3, label='Morning')\n",
    "day_rects = ax.bar(x + width/4, day_qty, width/3, label='Day')\n",
    "noon_rects = ax.bar(x + (3*width)/4, noon_qty, width/3, label='Noon')\n",
    "night_rects = ax.bar(x + (5*width)/4, night_qty, width/3, label='Night')\n",
    "\n",
    "# Add some text for labels, title and custom x-axis tick labels, etc.\n",
    "ax.set_ylabel('Trip qty')\n",
    "ax.set_yscale()\n",
    "ax.set_title('Trip qty by day of week and time of day')\n",
    "ax.set_xticks(x)\n",
    "ax.set_xticklabels(labels)\n",
    "ax.legend()\n",
    "\n",
    "fig.tight_layout()\n",
    "\n",
    "plt.show()"
   ]
  },
  {
   "cell_type": "code",
   "execution_count": 224,
   "id": "34d29a3c-e5c2-4e5d-891c-6ee887d9ddf8",
   "metadata": {},
   "outputs": [
    {
     "name": "stdout",
     "output_type": "stream",
     "text": [
      "  Day of week  Morning      Day      Noon     Night\n",
      "0         mon  3192441  8838168   9233146   9916741\n",
      "1         tue  3056159  9172815   9360345  11127788\n",
      "2         wed  2979883  9141856   9499647  11539368\n",
      "3         thu  3277257  9484917   9849273  12534655\n",
      "4         fri  4144559  9525900  10533866  14496387\n",
      "5         sat  7179158  7547399  12015681  15170632\n",
      "6         sun  8296191  6770696  11326296  10581675\n"
     ]
    }
   ],
   "source": [
    "pandas_df = pd.DataFrame(trip_dow_times_arr, columns=['Day of week','Morning','Day','Noon','Night'])\n",
    "print(pandas_df)"
   ]
  },
  {
   "cell_type": "code",
   "execution_count": 251,
   "id": "abb2fc3e-bf02-42e4-a959-5e73488ff601",
   "metadata": {},
   "outputs": [
    {
     "data": {
      "image/png": "[encoded data removed]",
      "text/plain": [
       "<Figure size 432x288 with 1 Axes>"
      ]
     },
     "metadata": {
      "needs_background": "light"
     },
     "output_type": "display_data"
    }
   ],
   "source": [
    "pandas_df['Morning'] = pd.to_numeric(pandas_df['Morning'])\n",
    "pandas_df['Day'] = pd.to_numeric(pandas_df['Day'])\n",
    "pandas_df['Noon'] = pd.to_numeric(pandas_df['Noon'])\n",
    "pandas_df['Night'] = pd.to_numeric(pandas_df['Night'])\n",
    "\n",
    "pandas_df.plot(x='Day of week'\n",
    "               ,kind='bar'\n",
    "               ,stacked=False\n",
    "               ,title='Trip qty by day of week and time of day')\\\n",
    "    .get_figure()\\\n",
    "    .savefig('/media/felipe/Files/repos/tcc/nyc_data/imgs/2019_trip_dow_time.jpg')"
   ]
  },
  {
   "cell_type": "code",
   "execution_count": null,
   "id": "6fe7f2c0-8001-40aa-9101-5efa6741e7d1",
   "metadata": {},
   "outputs": [],
   "source": []
  }
 ],
 "metadata": {
  "kernelspec": {
   "display_name": "Python 3",
   "language": "python",
   "name": "python3"
  },
  "language_info": {
   "codemirror_mode": {
    "name": "ipython",
    "version": 3
   },
   "file_extension": ".py",
   "mimetype": "text/x-python",
   "name": "python",
   "nbconvert_exporter": "python",
   "pygments_lexer": "ipython3",
   "version": "3.7.7"
  }
 },
 "nbformat": 4,
 "nbformat_minor": 5
}
