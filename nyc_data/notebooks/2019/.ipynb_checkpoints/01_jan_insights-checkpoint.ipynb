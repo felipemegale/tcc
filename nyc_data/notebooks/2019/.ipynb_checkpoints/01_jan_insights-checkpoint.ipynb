{
 "cells": [
  {
   "cell_type": "code",
   "execution_count": 1,
   "id": "7d246aa5-0424-4a94-94f0-68d28e5e5dee",
   "metadata": {
    "tags": []
   },
   "outputs": [],
   "source": [
    "# import pyspark to process large files\n",
    "from pyspark.sql import SparkSession\n",
    "from pyspark.sql.functions import col, asc, desc, to_timestamp\n",
    "import geopandas"
   ]
  },
  {
   "cell_type": "code",
   "execution_count": 2,
   "id": "f8e88d40-5ee4-42fa-94e8-b6639ca555e4",
   "metadata": {},
   "outputs": [
    {
     "name": "stdout",
     "output_type": "stream",
     "text": [
      "Spark version:  2.4.0\n"
     ]
    }
   ],
   "source": [
    "# create a new spark session\n",
    "spark = SparkSession\\\n",
    "    .builder\\\n",
    "    .master('local[*]')\\\n",
    "    .config(\"spark.driver.memory\", \"4g\")\\\n",
    "    .appName('process_tripdata')\\\n",
    "    .getOrCreate()\n",
    "print(\"Spark version: \", spark.version)"
   ]
  },
  {
   "cell_type": "code",
   "execution_count": 76,
   "id": "5d96e907-e5c8-4414-a5d2-173dc2e8787e",
   "metadata": {},
   "outputs": [],
   "source": [
    "# read 2019-01 data\n",
    "jan_data = spark\\\n",
    "    .read\\\n",
    "    .csv('/media/felipe/Files/repos/tcc/nyc_data/csv/2019/01/fhv_tripdata_2019-01.csv', header=True)"
   ]
  },
  {
   "cell_type": "code",
   "execution_count": 77,
   "id": "2eb83ffa-e341-4193-abc4-d25bbb88577b",
   "metadata": {},
   "outputs": [
    {
     "name": "stdout",
     "output_type": "stream",
     "text": [
      "root\n",
      " |-- dispatching_base_num: string (nullable = true)\n",
      " |-- pickup_datetime: string (nullable = true)\n",
      " |-- dropoff_datetime: string (nullable = true)\n",
      " |-- PULocationID: string (nullable = true)\n",
      " |-- DOLocationID: string (nullable = true)\n",
      " |-- SR_Flag: string (nullable = true)\n",
      "\n",
      "+--------------------+-------------------+-------------------+------------+------------+-------+\n",
      "|dispatching_base_num|    pickup_datetime|   dropoff_datetime|PULocationID|DOLocationID|SR_Flag|\n",
      "+--------------------+-------------------+-------------------+------------+------------+-------+\n",
      "|              B00001|2019-01-01 00:30:00|2019-01-01 02:51:55|        null|        null|   null|\n",
      "|              B00001|2019-01-01 00:45:00|2019-01-01 00:54:49|        null|        null|   null|\n",
      "|              B00001|2019-01-01 00:15:00|2019-01-01 00:54:52|        null|        null|   null|\n",
      "|              B00008|2019-01-01 00:19:00|2019-01-01 00:39:00|        null|        null|   null|\n",
      "|              B00008|2019-01-01 00:27:00|2019-01-01 00:37:00|        null|        null|   null|\n",
      "+--------------------+-------------------+-------------------+------------+------------+-------+\n",
      "only showing top 5 rows\n",
      "\n"
     ]
    }
   ],
   "source": [
    "# show jan_data head\n",
    "teste = jan_data.printSchema()\n",
    "jan_data.show(5)"
   ]
  },
  {
   "cell_type": "code",
   "execution_count": 78,
   "id": "acef4643-fc0f-4435-901f-53102f1ca173",
   "metadata": {},
   "outputs": [],
   "source": [
    "# get jan data count -> 23,130,810\n",
    "# print(jan_data.count())"
   ]
  },
  {
   "cell_type": "code",
   "execution_count": 27,
   "id": "870d42a6-841d-404d-9825-b917cb5e2fbd",
   "metadata": {},
   "outputs": [],
   "source": [
    "# filter off null PU and DO location IDs\n",
    "jan_data.createOrReplaceTempView(\"JAN_DATA_TEMP_VIEW\")\n",
    "jan_data = spark.sql(\"SELECT * FROM JAN_DATA_TEMP_VIEW WHERE PULocationID IS NOT NULL AND DOLocationID IS NOT NULL\")\n",
    "# jan_data.show(5)"
   ]
  },
  {
   "cell_type": "code",
   "execution_count": 28,
   "id": "c385f0f7-14d0-436b-955a-8b2c39ee59d6",
   "metadata": {},
   "outputs": [],
   "source": [
    "# get jan data count after filtering -> 21,306,221\n",
    "# print(jan_data.count())"
   ]
  },
  {
   "cell_type": "code",
   "execution_count": 29,
   "id": "84312522-43f5-4e4d-bb8e-d10651f14999",
   "metadata": {},
   "outputs": [],
   "source": [
    "# convert PU and DO location ID cols to int\n",
    "jan_data = jan_data.withColumn(\"PULocationID\", jan_data.PULocationID.cast('int'))\n",
    "jan_data = jan_data.withColumn(\"DOLocationID\", jan_data.DOLocationID.cast('int'))"
   ]
  },
  {
   "cell_type": "code",
   "execution_count": 30,
   "id": "74ba221f-b849-4e09-8117-e1f46fc9dbd0",
   "metadata": {},
   "outputs": [],
   "source": [
    "# view jan_data schema after casting PU and DO cols to int\n",
    "# jan_data"
   ]
  },
  {
   "cell_type": "code",
   "execution_count": 31,
   "id": "5349be45-8c0c-49f2-b0cf-45ad117ce318",
   "metadata": {},
   "outputs": [],
   "source": [
    "# load taxi zones\n",
    "taxi_zones = spark.read.csv('/media/felipe/Files/repos/tcc/nyc_data/csv/taxi_zone_lookup.csv', header=True)"
   ]
  },
  {
   "cell_type": "code",
   "execution_count": 32,
   "id": "9deffed9-f481-4190-93e0-0969a384a42a",
   "metadata": {},
   "outputs": [
    {
     "name": "stdout",
     "output_type": "stream",
     "text": [
      "+----------+-------------+--------------------+------------+\n",
      "|LocationID|      Borough|                Zone|service_zone|\n",
      "+----------+-------------+--------------------+------------+\n",
      "|         1|          EWR|      Newark Airport|         EWR|\n",
      "|         2|       Queens|         Jamaica Bay|   Boro Zone|\n",
      "|         3|        Bronx|Allerton/Pelham G...|   Boro Zone|\n",
      "|         4|    Manhattan|       Alphabet City| Yellow Zone|\n",
      "|         5|Staten Island|       Arden Heights|   Boro Zone|\n",
      "+----------+-------------+--------------------+------------+\n",
      "only showing top 5 rows\n",
      "\n"
     ]
    }
   ],
   "source": [
    "# show taxi_zones head\n",
    "taxi_zones.show(5)"
   ]
  },
  {
   "cell_type": "code",
   "execution_count": 33,
   "id": "948bec43-b25b-4ca4-bed9-e0205df06f1a",
   "metadata": {},
   "outputs": [],
   "source": [
    "# get how many trips departured from or went to unknown zones\n",
    "jan_data = jan_data.where(\"PULocationID < 264 AND DOLocationID < 264\")"
   ]
  },
  {
   "cell_type": "code",
   "execution_count": 34,
   "id": "a4e3cb2e-247d-46f4-b3ce-745c292a2bfd",
   "metadata": {},
   "outputs": [],
   "source": [
    "# count how many trips did not depart or arrive to unknown zones -> 19,847,478\n",
    "# print(jan_data.count())"
   ]
  },
  {
   "cell_type": "code",
   "execution_count": 35,
   "id": "e35f01ed-8914-42dc-a4ad-b85677705983",
   "metadata": {},
   "outputs": [],
   "source": [
    "# remove rows where PU and DO cols are 0\n",
    "jan_data.createOrReplaceTempView(\"JAN_DATA_TEMP_VIEW\")\n",
    "jan_data = spark.sql(\"SELECT * FROM JAN_DATA_TEMP_VIEW WHERE PULocationID <> 0 AND DOLocationID <> 0\")"
   ]
  },
  {
   "cell_type": "code",
   "execution_count": 36,
   "id": "04fe9bcc-5018-4169-b80c-0bccf0037603",
   "metadata": {},
   "outputs": [],
   "source": [
    "# count how many trips PU and DO locations are 0 -> 19,847,263\n",
    "# print(jan_data.count())"
   ]
  },
  {
   "cell_type": "code",
   "execution_count": 37,
   "id": "860ce041-1a8d-420f-ad97-78c577c7b111",
   "metadata": {},
   "outputs": [],
   "source": [
    "# get greatest PU and DO location ID to begin assembly of OD dataframe\n",
    "# jan_data.createOrReplaceTempView(\"JAN_DATA_TEMP_VIEW\")\n",
    "# spark.sql(\"SELECT MAX(PULocationID) AS MAX_PU, MAX(DOLocationID) AS MAX_DO FROM JAN_DATA_TEMP_VIEW\")\\\n",
    "#     .first()"
   ]
  },
  {
   "cell_type": "code",
   "execution_count": 38,
   "id": "142588c3-7228-4d59-9c4e-f1b8f73b7e19",
   "metadata": {},
   "outputs": [],
   "source": [
    "# begin OD matrix dataframe assembly\n",
    "# od_size = 264 # 263 + 1 to account for 0-index in list\n",
    "# od_data = [[0 for x in range(od_size)] for y in range(od_size)]\n",
    "# od_cols = [str(x) for x in range(od_size)]"
   ]
  },
  {
   "cell_type": "code",
   "execution_count": 39,
   "id": "6e85ab29-eda6-4f71-a050-53ca5fe5a2cf",
   "metadata": {},
   "outputs": [],
   "source": [
    "# fill january OD matrix dataframe\n",
    "# jan_data_collect = jan_data.toLocalIterator()\n",
    "# for row in jan_data_collect:\n",
    "#     origin = row.PULocationID\n",
    "#     destination = row.DOLocationID\n",
    "#     od_data[origin][destination] += 1"
   ]
  },
  {
   "cell_type": "code",
   "execution_count": 40,
   "id": "fc61f9b5-9fa8-43ec-9307-6a86c83c4a53",
   "metadata": {},
   "outputs": [],
   "source": [
    "# create OD dataframe from OD matrix\n",
    "# od_dataframe = spark.createDataFrame(data=od_data,schema=od_cols)"
   ]
  },
  {
   "cell_type": "code",
   "execution_count": 41,
   "id": "11fa419f-16dc-47c0-b222-e9c852790e98",
   "metadata": {},
   "outputs": [],
   "source": [
    "# create and populate list of max trips from to location\n",
    "# od_dataframe_collect = od_dataframe.toLocalIterator()\n",
    "# origin = 0\n",
    "# od_greatest_values = []\n",
    "\n",
    "# for row in od_dataframe_collect:\n",
    "#     max_val = max(list(row))\n",
    "#     destination = row.index(max_val)\n",
    "#     od_greatest_values.append((origin, destination, max_val))\n",
    "#     origin += 1\n",
    "\n",
    "# # create dataframe from od_greatest_values list\n",
    "# od_gr_df_cols = [\"PULocationID\", \"DOLocationID\", \"TripQty\"]\n",
    "# od_gr_df = spark.createDataFrame(data=od_greatest_values, schema=od_gr_df_cols)"
   ]
  },
  {
   "cell_type": "code",
   "execution_count": 42,
   "id": "8399338f-c7c9-4eb1-a407-1ddc1fb2efaa",
   "metadata": {},
   "outputs": [],
   "source": [
    "# show od_gr_df head\n",
    "# od_gr_df.show(5)"
   ]
  },
  {
   "cell_type": "code",
   "execution_count": 43,
   "id": "6d2af6ae-9114-462a-9d5a-b1ed64df8d94",
   "metadata": {},
   "outputs": [],
   "source": [
    "# order by TripQty to find find the top destinations\n",
    "# od_gr_df = od_gr_df.orderBy(col(\"TripQty\").desc())\n",
    "# od_gr_df.show(10)"
   ]
  },
  {
   "cell_type": "code",
   "execution_count": 44,
   "id": "a576b826-f2ae-4c1c-9461-e98f0fe5c44c",
   "metadata": {},
   "outputs": [],
   "source": [
    "# extract january top OD data\n",
    "# jan_top_ods = od_gr_df.join(taxi_zones,od_gr_df.PULocationID == taxi_zones.LocationID, \"inner\")\\\n",
    "#     .drop(\"Borough\", \"service_zone\")"
   ]
  },
  {
   "cell_type": "code",
   "execution_count": 45,
   "id": "81a42891-daa3-4659-b518-fa891fd5af3e",
   "metadata": {},
   "outputs": [],
   "source": [
    "# save january top ODs to file\n",
    "# try:\n",
    "#     jan_top_ods\\\n",
    "#         .repartition(1)\\\n",
    "#         .write.format(\"com.databricks.spark.csv\")\\\n",
    "#         .option(\"header\", \"true\")\\\n",
    "#         .save(\"/media/felipe/Files/repos/tcc/nyc_data/csv/2019/01/top_ods.csv\")\n",
    "# except:\n",
    "#     print(\"Could not write top_ods to file or file already exists\")"
   ]
  },
  {
   "cell_type": "code",
   "execution_count": 46,
   "id": "ede82660-37a2-45dd-ad10-fae7c71715a8",
   "metadata": {
    "tags": []
   },
   "outputs": [],
   "source": [
    "# set up helper lists for trip division by time of day\n",
    "# jan_pickup_times = jan_data.select(\"pickup_datetime\")\n",
    "# jan_pickup_times = jan_pickup_times.withColumn(\"pickup_datetime\",to_timestamp(\"pickup_datetime\"))\n",
    "# jan_pickup_times.printSchema()\n",
    "# jan_pickup_times.show(5)"
   ]
  },
  {
   "cell_type": "code",
   "execution_count": 47,
   "id": "31ba1d94-6c47-454a-ae50-533a193fcf0e",
   "metadata": {},
   "outputs": [],
   "source": [
    "# count how many trips per day period\n",
    "# morning: 0:00 to 5:59\n",
    "# day: 6:00 to 11:59\n",
    "# noon: 12:00 to 17:59\n",
    "# night: 18:00 to 23:59\n",
    "# weekday is 0-index starting monday (0), then tuesday (1), etc.\n",
    "\n",
    "# MORNING=1\n",
    "# DAY=2\n",
    "# NOON=3\n",
    "# NIGHT=4\n",
    "# trip_groups_schema = ['day of week', 'morning', 'day', 'noon', 'night']\n",
    "# trip_groups = [['mon', 0, 0, 0, 0],\\\n",
    "#                ['tue', 0, 0, 0, 0],\\\n",
    "#                ['wed', 0, 0, 0, 0],\\\n",
    "#                ['thu', 0, 0, 0, 0],\\\n",
    "#                ['fri', 0, 0, 0, 0],\\\n",
    "#                ['sat', 0, 0, 0, 0],\\\n",
    "#                ['sun', 0, 0, 0, 0]]\n",
    "\n",
    "# jan_pickup_times_collect = jan_pickup_times.toLocalIterator()\n",
    "# rows_with_issues = []\n",
    "\n",
    "# for row in jan_pickup_times_collect:\n",
    "#     trip_weekday = row.pickup_datetime.weekday()\n",
    "#     trip_hour = row.pickup_datetime.hour\n",
    "#     if 0 <= trip_hour <= 5:\n",
    "#         trip_groups[trip_weekday][MORNING] += 1\n",
    "#     elif 6 <= trip_hour <= 11:\n",
    "#         trip_groups[trip_weekday][DAY] += 1\n",
    "#     elif 12 <= trip_hour <= 17:\n",
    "#         trip_groups[trip_weekday][NOON] += 1\n",
    "#     elif 18 <= trip_hour <= 23:\n",
    "#         trip_groups[trip_weekday][NIGHT] += 1"
   ]
  },
  {
   "cell_type": "code",
   "execution_count": 48,
   "id": "bf7bb15e-1284-4eab-a41e-52ba5872b74c",
   "metadata": {},
   "outputs": [],
   "source": [
    "# create DF from trip dow group matrix\n",
    "# trip_dow_df = spark.createDataFrame(data=trip_groups, schema=trip_groups_schema)"
   ]
  },
  {
   "cell_type": "code",
   "execution_count": 49,
   "id": "928bb7e1-c9e6-4fbc-b140-d91dc76a892c",
   "metadata": {},
   "outputs": [],
   "source": [
    "# show trip_dow_df\n",
    "# trip_dow_df.show()"
   ]
  },
  {
   "cell_type": "code",
   "execution_count": 50,
   "id": "977ce638-352e-4541-9e1a-a45306929ceb",
   "metadata": {},
   "outputs": [],
   "source": [
    "# write trip_dow_df to file\n",
    "# try:\n",
    "#     trip_dow_df\\\n",
    "#         .repartition(1)\\\n",
    "#         .write.format(\"com.databricks.spark.csv\")\\\n",
    "#         .option(\"header\", \"true\")\\\n",
    "#         .save(\"/media/felipe/Files/repos/tcc/nyc_data/csv/2019/01/trip_dow_time.csv\")\n",
    "# except:\n",
    "#     print(\"Could not write trip_dow_time to file or file already exists\")"
   ]
  },
  {
   "cell_type": "code",
   "execution_count": 72,
   "id": "3b56c94f-c479-49a0-885a-8f159b1be959",
   "metadata": {},
   "outputs": [],
   "source": [
    "# get trips that were shared\n",
    "jan_data.createOrReplaceTempView(\"JAN_DATA_TEMP_VIEW\")\n",
    "shared_trips = spark.sql(\"SELECT * FROM JAN_DATA_TEMP_VIEW WHERE SR_Flag IS NOT NULL\")\n",
    "# shared_trips.show(5)"
   ]
  },
  {
   "cell_type": "code",
   "execution_count": 73,
   "id": "9c636381-4cc3-45ac-aa33-c3dcdba9e5c2",
   "metadata": {},
   "outputs": [
    {
     "name": "stdout",
     "output_type": "stream",
     "text": [
      "shared jan trips 5361332\n"
     ]
    }
   ],
   "source": [
    "# count how many trips were shared -> 5,361,332\n",
    "\n",
    "# As per the documentation, there are trips that were flagged as shareable.\n",
    "# however, this does not mean that it was, since Lyft flags as shared even though\n",
    "# the original rider wasnt matched with someone else.\n",
    "# For the purposes of this study, we will analyze the users intent to share.\n",
    "\n",
    "# print('shared jan trips', shared_trips.count())"
   ]
  },
  {
   "cell_type": "code",
   "execution_count": 62,
   "id": "6c01ad21-391c-45b5-a70c-c443217cf90f",
   "metadata": {},
   "outputs": [],
   "source": [
    "# count top departure zones and write trips_by_pu to file\n",
    "trips_by_pu = jan_data\\\n",
    "    .groupBy(\"PULocationID\")\\\n",
    "    .count()\\\n",
    "    .orderBy(col(\"count\").desc())\n",
    "\n",
    "try:\n",
    "    trips_by_pu\\\n",
    "        .repartition(1)\\\n",
    "        .write.format(\"com.databricks.spark.csv\")\\\n",
    "        .option(\"header\", \"true\")\\\n",
    "        .save(\"/media/felipe/Files/repos/tcc/nyc_data/csv/2019/01/trips_by_pu.csv\")\n",
    "except:\n",
    "    print(\"Could not write trips_by_pu to file or file already exists\")"
   ]
  },
  {
   "cell_type": "code",
   "execution_count": 65,
   "id": "7c7a973e-49ee-4c0b-81dc-100f041760ed",
   "metadata": {},
   "outputs": [],
   "source": [
    "# count top arrival zones and write trips_by_do to file\n",
    "trips_by_do = jan_data\\\n",
    "    .groupBy(\"DOLocationID\")\\\n",
    "    .count()\\\n",
    "    .orderBy(col(\"count\").desc())\n",
    "\n",
    "try:\n",
    "    trips_by_do\\\n",
    "        .repartition(1)\\\n",
    "        .write.format(\"com.databricks.spark.csv\")\\\n",
    "        .option(\"header\", \"true\")\\\n",
    "        .save(\"/media/felipe/Files/repos/tcc/nyc_data/csv/2019/01/trips_by_do.csv\")\n",
    "except:\n",
    "    print(\"Could not write trips_by_do to file or file already exists\")"
   ]
  },
  {
   "cell_type": "code",
   "execution_count": 4,
   "id": "605512fe-fc40-4e22-8bab-3ae1d35b5f3f",
   "metadata": {},
   "outputs": [],
   "source": [
    "gdf = geopandas.read_file('/media/felipe/Files/repos/tcc/nyc_data/shapes/taxi_zones/taxi_zones.dbf')"
   ]
  },
  {
   "cell_type": "code",
   "execution_count": 5,
   "id": "ecb04348-2eae-4311-8d21-d23420e1d8f4",
   "metadata": {},
   "outputs": [
    {
     "data": {
      "text/plain": [
       "<AxesSubplot:>"
      ]
     },
     "execution_count": 5,
     "metadata": {},
     "output_type": "execute_result"
    },
    {
     "data": {
      "image/png": "[encoded data removed]",
      "text/plain": [
       "<Figure size 432x288 with 1 Axes>"
      ]
     },
     "metadata": {
      "needs_background": "light"
     },
     "output_type": "display_data"
    }
   ],
   "source": [
    "gdf.plot()"
   ]
  },
  {
   "cell_type": "code",
   "execution_count": null,
   "id": "4ce683b4-66cd-4ec5-afa1-ca8a503fb626",
   "metadata": {},
   "outputs": [],
   "source": []
  }
 ],
 "metadata": {
  "kernelspec": {
   "display_name": "Python 3",
   "language": "python",
   "name": "python3"
  },
  "language_info": {
   "codemirror_mode": {
    "name": "ipython",
    "version": 3
   },
   "file_extension": ".py",
   "mimetype": "text/x-python",
   "name": "python",
   "nbconvert_exporter": "python",
   "pygments_lexer": "ipython3",
   "version": "3.7.7"
  }
 },
 "nbformat": 4,
 "nbformat_minor": 5
}
