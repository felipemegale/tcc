{
 "cells": [
  {
   "cell_type": "code",
   "execution_count": 1,
   "id": "3ade5a16-7412-42f8-b44e-e9c87ddd631f",
   "metadata": {},
   "outputs": [],
   "source": [
    "# import pyspark to process large files and create a new spark session\n",
    "from pyspark.sql import SparkSession\n",
    "from pyspark.sql.functions import col, asc, desc, to_timestamp\n",
    "import geopandas\n",
    "import numpy as np\n",
    "import matplotlib.pyplot as plt\n",
    "\n",
    "spark = SparkSession\\\n",
    "    .builder\\\n",
    "    .master('local[*]')\\\n",
    "    .config(\"spark.driver.memory\", \"4g\")\\\n",
    "    .appName('process_tripdata')\\\n",
    "    .getOrCreate()"
   ]
  },
  {
   "cell_type": "code",
   "execution_count": 2,
   "id": "2e9287d0-27d8-4796-8910-e5e76f47df4d",
   "metadata": {},
   "outputs": [],
   "source": [
    "# read all months trip_dow_time\n",
    "jan_trip_dow_time = spark\\\n",
    "    .read\\\n",
    "    .csv('/media/felipe/Files/repos/tcc/nyc_data/csv/2019/01/trip_dow_time.csv', header=True)\n",
    "\n",
    "feb_trip_dow_time = spark\\\n",
    "    .read\\\n",
    "    .csv('/media/felipe/Files/repos/tcc/nyc_data/csv/2019/02/trip_dow_time.csv', header=True)\n",
    "\n",
    "mar_trip_dow_time = spark\\\n",
    "    .read\\\n",
    "    .csv('/media/felipe/Files/repos/tcc/nyc_data/csv/2019/03/trip_dow_time.csv', header=True)\n",
    "\n",
    "apr_trip_dow_time = spark\\\n",
    "    .read\\\n",
    "    .csv('/media/felipe/Files/repos/tcc/nyc_data/csv/2019/04/trip_dow_time.csv', header=True)\n",
    "\n",
    "may_trip_dow_time = spark\\\n",
    "    .read\\\n",
    "    .csv('/media/felipe/Files/repos/tcc/nyc_data/csv/2019/05/trip_dow_time.csv', header=True)\n",
    "\n",
    "jun_trip_dow_time = spark\\\n",
    "    .read\\\n",
    "    .csv('/media/felipe/Files/repos/tcc/nyc_data/csv/2019/06/trip_dow_time.csv', header=True)\n",
    "\n",
    "jul_trip_dow_time = spark\\\n",
    "    .read\\\n",
    "    .csv('/media/felipe/Files/repos/tcc/nyc_data/csv/2019/07/trip_dow_time.csv', header=True)\n",
    "\n",
    "aug_trip_dow_time = spark\\\n",
    "    .read\\\n",
    "    .csv('/media/felipe/Files/repos/tcc/nyc_data/csv/2019/08/trip_dow_time.csv', header=True)\n",
    "\n",
    "sep_trip_dow_time = spark\\\n",
    "    .read\\\n",
    "    .csv('/media/felipe/Files/repos/tcc/nyc_data/csv/2019/09/trip_dow_time.csv', header=True)\n",
    "\n",
    "oct_trip_dow_time = spark\\\n",
    "    .read\\\n",
    "    .csv('/media/felipe/Files/repos/tcc/nyc_data/csv/2019/10/trip_dow_time.csv', header=True)\n",
    "\n",
    "nov_trip_dow_time = spark\\\n",
    "    .read\\\n",
    "    .csv('/media/felipe/Files/repos/tcc/nyc_data/csv/2019/11/trip_dow_time.csv', header=True)\n",
    "\n",
    "dec_trip_dow_time = spark\\\n",
    "    .read\\\n",
    "    .csv('/media/felipe/Files/repos/tcc/nyc_data/csv/2019/12/trip_dow_time.csv', header=True)"
   ]
  },
  {
   "cell_type": "code",
   "execution_count": 7,
   "id": "97636f2a-6a42-4322-90ce-24aa838418a2",
   "metadata": {},
   "outputs": [
    {
     "name": "stdout",
     "output_type": "stream",
     "text": [
      "+-----------+------------+--------+---------+----------+\n",
      "|day of week|sum(morning)|sum(day)|sum(noon)|sum(night)|\n",
      "+-----------+------------+--------+---------+----------+\n",
      "|        fri|     4144559| 9525900| 10533866|  14496387|\n",
      "|        thu|     3277257| 9484917|  9849273|  12534655|\n",
      "|        tue|     3056159| 9172815|  9360345|  11127788|\n",
      "|        sat|     7179158| 7547399| 12015681|  15170632|\n",
      "|        wed|     2979883| 9141856|  9499647|  11539368|\n",
      "|        mon|     3192441| 8838168|  9233146|   9916741|\n",
      "|        sun|     8296191| 6770696| 11326296|  10581675|\n",
      "+-----------+------------+--------+---------+----------+\n",
      "\n"
     ]
    }
   ],
   "source": [
    "trip_dow_times = jan_trip_dow_time\\\n",
    "    .union(feb_trip_dow_time)\\\n",
    "    .union(mar_trip_dow_time)\\\n",
    "    .union(apr_trip_dow_time)\\\n",
    "    .union(may_trip_dow_time)\\\n",
    "    .union(jun_trip_dow_time)\\\n",
    "    .union(jul_trip_dow_time)\\\n",
    "    .union(aug_trip_dow_time)\\\n",
    "    .union(sep_trip_dow_time)\\\n",
    "    .union(oct_trip_dow_time)\\\n",
    "    .union(nov_trip_dow_time)\\\n",
    "    .union(dec_trip_dow_time)\n",
    "\n",
    "trip_dow_times = trip_dow_times\\\n",
    "    .withColumn('morning', col('morning').cast('int'))\\\n",
    "    .withColumn('day', col('day').cast('int'))\\\n",
    "    .withColumn('noon', col('noon').cast('int'))\\\n",
    "    .withColumn('night', col('night').cast('int'))\n",
    "\n",
    "trip_dow_times = trip_dow_times\\\n",
    "    .groupBy('day of week')\\\n",
    "    .sum('morning', 'day', 'noon', 'night')\n",
    "\n",
    "trip_dow_times.show()"
   ]
  },
  {
   "cell_type": "code",
   "execution_count": 16,
   "id": "66a5d32a-b29a-47e2-a6f6-17c10f7e555f",
   "metadata": {},
   "outputs": [
    {
     "name": "stdout",
     "output_type": "stream",
     "text": [
      "+---+----+\n",
      "|dow|code|\n",
      "+---+----+\n",
      "|mon|   0|\n",
      "|tue|   1|\n",
      "|wed|   2|\n",
      "|thu|   3|\n",
      "|fri|   4|\n",
      "|sat|   5|\n",
      "|sun|   6|\n",
      "+---+----+\n",
      "\n"
     ]
    }
   ],
   "source": [
    "# cast dataframe to array of array\n",
    "dow_map_names = [['mon',0],['tue',1],['wed',2],['thu',3],['fri',4],['sat',5],['sun',6]]\n",
    "dow_map_names_schema = ['dow', 'code']\n",
    "\n",
    "dow_map_df = spark.createDataFrame(data=dow_map_names, schema=dow_map_names_schema)\n",
    "\n",
    "dow_map_df.show()\n",
    "\n",
    "# trip_dow_times_collect = trip_dow_times.toLocalIterator()\n",
    "\n",
    "# for row in trip_dow_times_collect:\n",
    "#     print(dow_name_code_map[row[0]])"
   ]
  },
  {
   "cell_type": "code",
   "execution_count": null,
   "id": "6b83e4c0-026e-4221-8f09-a1e100a9960b",
   "metadata": {},
   "outputs": [],
   "source": []
  }
 ],
 "metadata": {
  "kernelspec": {
   "display_name": "Python 3",
   "language": "python",
   "name": "python3"
  },
  "language_info": {
   "codemirror_mode": {
    "name": "ipython",
    "version": 3
   },
   "file_extension": ".py",
   "mimetype": "text/x-python",
   "name": "python",
   "nbconvert_exporter": "python",
   "pygments_lexer": "ipython3",
   "version": "3.7.7"
  }
 },
 "nbformat": 4,
 "nbformat_minor": 5
}
