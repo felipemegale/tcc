{
 "cells": [
  {
   "cell_type": "code",
   "execution_count": 2,
   "id": "8c26ebf7-5ca5-4f83-878a-f58bee3f5d58",
   "metadata": {},
   "outputs": [],
   "source": [
    "import pandas as pd\n",
    "import numpy as np\n",
    "from datetime import datetime, date\n",
    "\n",
    "covid_data = pd.read_csv('/home/felipe/repos/tcc/nyc_data/csv/coronavirus-data/trends/cases-by-day.csv')\n",
    "covid_data = covid_data.drop('INCOMPLETE', axis=1)\n",
    "\n",
    "covid_data['date_of_interest'] = covid_data['date_of_interest']\\\n",
    "    .apply(lambda x: datetime.strptime(x, '%m/%d/%Y').date())\n",
    "\n",
    "covid_data_2020 = covid_data[(covid_data['date_of_interest'] >= date(2020,1,1)) & (covid_data['date_of_interest'] <= date(2020,12,31))]\n",
    "covid_data_2021 = covid_data[(covid_data['date_of_interest'] >= date(2021,1,1)) & (covid_data['date_of_interest'] <= date(2021,12,31))]\n",
    "\n",
    "bx_covid_data_2020 = covid_data_2020\\\n",
    "    .filter(items=['date_of_interest','BX_CASE_COUNT','BX_PROBABLE_CASE_COUNT','BX_CASE_COUNT_7DAY_AVG', 'BX_ALL_CASE_COUNT_7DAY_AVG'])\\\n",
    "    .rename(columns={\"BX_CASE_COUNT\":\"CASE_COUNT\", \"BX_PROBABLE_CASE_COUNT\":\"PROBABLE_CASE_COUNT\", \"BX_CASE_COUNT_7DAY_AVG\":\"CASE_COUNT_7DAY_AVG\"})\n",
    "bx_covid_data_2020['month_of_interest'] = bx_covid_data_2020['date_of_interest'].apply(lambda x: x.month)\n",
    "\n",
    "bx_covid_data_2021 = covid_data_2021\\\n",
    "    .filter(items=['date_of_interest','BX_CASE_COUNT','BX_PROBABLE_CASE_COUNT','BX_CASE_COUNT_7DAY_AVG', 'BX_ALL_CASE_COUNT_7DAY_AVG'])\\\n",
    "    .rename(columns={\"BX_CASE_COUNT\":\"CASE_COUNT\", \"BX_PROBABLE_CASE_COUNT\":\"PROBABLE_CASE_COUNT\", \"BX_CASE_COUNT_7DAY_AVG\":\"CASE_COUNT_7DAY_AVG\"})\n",
    "bx_covid_data_2021['month_of_interest'] = bx_covid_data_2021['date_of_interest'].apply(lambda x: x.month)\n",
    "\n",
    "bk_covid_data_2020 = covid_data_2020\\\n",
    "    .filter(items=['date_of_interest','BK_CASE_COUNT','BK_PROBABLE_CASE_COUNT','BK_CASE_COUNT_7DAY_AVG', 'BK_ALL_CASE_COUNT_7DAY_AVG'])\\\n",
    "    .rename(columns={\"BK_CASE_COUNT\":\"CASE_COUNT\", \"BK_PROBABLE_CASE_COUNT\":\"PROBABLE_CASE_COUNT\", \"BK_CASE_COUNT_7DAY_AVG\":\"CASE_COUNT_7DAY_AVG\"})\n",
    "bk_covid_data_2020['month_of_interest'] = bk_covid_data_2020['date_of_interest'].apply(lambda x: x.month)\n",
    "\n",
    "bk_covid_data_2021 = covid_data_2021\\\n",
    "    .filter(items=['date_of_interest','BK_CASE_COUNT','BK_PROBABLE_CASE_COUNT','BK_CASE_COUNT_7DAY_AVG', 'BK_ALL_CASE_COUNT_7DAY_AVG'])\\\n",
    "    .rename(columns={\"BK_CASE_COUNT\":\"CASE_COUNT\", \"BK_PROBABLE_CASE_COUNT\":\"PROBABLE_CASE_COUNT\", \"BK_CASE_COUNT_7DAY_AVG\":\"CASE_COUNT_7DAY_AVG\"})\n",
    "bk_covid_data_2021['month_of_interest'] = bk_covid_data_2021['date_of_interest'].apply(lambda x: x.month)\n",
    "\n",
    "qn_covid_data_2020 = covid_data_2020\\\n",
    "    .filter(items=['date_of_interest','QN_CASE_COUNT','QN_PROBABLE_CASE_COUNT','QN_CASE_COUNT_7DAY_AVG', 'QN_ALL_CASE_COUNT_7DAY_AVG'])\\\n",
    "    .rename(columns={\"QN_CASE_COUNT\":\"CASE_COUNT\", \"QN_PROBABLE_CASE_COUNT\":\"PROBABLE_CASE_COUNT\", \"QN_CASE_COUNT_7DAY_AVG\":\"CASE_COUNT_7DAY_AVG\"})\n",
    "qn_covid_data_2020['month_of_interest'] = qn_covid_data_2020['date_of_interest'].apply(lambda x: x.month)\n",
    "\n",
    "qn_covid_data_2021 = covid_data_2021\\\n",
    "    .filter(items=['date_of_interest','QN_CASE_COUNT','QN_PROBABLE_CASE_COUNT','QN_CASE_COUNT_7DAY_AVG', 'QN_ALL_CASE_COUNT_7DAY_AVG'])\\\n",
    "    .rename(columns={\"QN_CASE_COUNT\":\"CASE_COUNT\", \"QN_PROBABLE_CASE_COUNT\":\"PROBABLE_CASE_COUNT\", \"QN_CASE_COUNT_7DAY_AVG\":\"CASE_COUNT_7DAY_AVG\"})\n",
    "qn_covid_data_2021['month_of_interest'] = qn_covid_data_2021['date_of_interest'].apply(lambda x: x.month)\n",
    "\n",
    "mn_covid_data_2020 = covid_data_2020\\\n",
    "    .filter(items=['date_of_interest','MN_CASE_COUNT','MN_PROBABLE_CASE_COUNT','MN_CASE_COUNT_7DAY_AVG', 'MN_ALL_CASE_COUNT_7DAY_AVG'])\\\n",
    "    .rename(columns={\"MN_CASE_COUNT\":\"CASE_COUNT\", \"MN_PROBABLE_CASE_COUNT\":\"PROBABLE_CASE_COUNT\", \"MN_CASE_COUNT_7DAY_AVG\":\"CASE_COUNT_7DAY_AVG\"})\n",
    "mn_covid_data_2020['month_of_interest'] = mn_covid_data_2020['date_of_interest'].apply(lambda x: x.month)\n",
    "\n",
    "mn_covid_data_2021 = covid_data_2021\\\n",
    "    .filter(items=['date_of_interest','MN_CASE_COUNT','MN_PROBABLE_CASE_COUNT','MN_CASE_COUNT_7DAY_AVG', 'MN_ALL_CASE_COUNT_7DAY_AVG'])\\\n",
    "    .rename(columns={\"MN_CASE_COUNT\":\"CASE_COUNT\", \"MN_PROBABLE_CASE_COUNT\":\"PROBABLE_CASE_COUNT\", \"MN_CASE_COUNT_7DAY_AVG\":\"CASE_COUNT_7DAY_AVG\"})\n",
    "mn_covid_data_2021['month_of_interest'] = mn_covid_data_2021['date_of_interest'].apply(lambda x: x.month)\n",
    "\n",
    "si_covid_data_2020 = covid_data_2020\\\n",
    "    .filter(items=['date_of_interest','SI_CASE_COUNT','SI_PROBABLE_CASE_COUNT','SI_CASE_COUNT_7DAY_AVG', 'SI_ALL_CASE_COUNT_7DAY_AVG'])\\\n",
    "    .rename(columns={\"SI_CASE_COUNT\":\"CASE_COUNT\", \"SI_PROBABLE_CASE_COUNT\":\"PROBABLE_CASE_COUNT\", \"SI_CASE_COUNT_7DAY_AVG\":\"CASE_COUNT_7DAY_AVG\"})\n",
    "si_covid_data_2020['month_of_interest'] = si_covid_data_2020['date_of_interest'].apply(lambda x: x.month)\n",
    "\n",
    "si_covid_data_2021 = covid_data_2021\\\n",
    "    .filter(items=['date_of_interest','SI_CASE_COUNT','SI_PROBABLE_CASE_COUNT','SI_CASE_COUNT_7DAY_AVG', 'SI_ALL_CASE_COUNT_7DAY_AVG'])\\\n",
    "    .rename(columns={\"SI_CASE_COUNT\":\"CASE_COUNT\", \"SI_PROBABLE_CASE_COUNT\":\"PROBABLE_CASE_COUNT\", \"SI_CASE_COUNT_7DAY_AVG\":\"CASE_COUNT_7DAY_AVG\"})\n",
    "si_covid_data_2021['month_of_interest'] = si_covid_data_2021['date_of_interest'].apply(lambda x: x.month)"
   ]
  },
  {
   "cell_type": "code",
   "execution_count": 4,
   "id": "a57014a7-fbcd-4f43-99a5-f57cbff6f1ab",
   "metadata": {},
   "outputs": [],
   "source": [
    "bx_2020_total_cases = np.sum(bx_covid_data_2020['CASE_COUNT'])\n",
    "bk_2020_total_cases = np.sum(bk_covid_data_2020['CASE_COUNT'])\n",
    "qn_2020_total_cases = np.sum(qn_covid_data_2020['CASE_COUNT'])\n",
    "mn_2020_total_cases = np.sum(mn_covid_data_2020['CASE_COUNT'])\n",
    "si_2020_total_cases = np.sum(si_covid_data_2020['CASE_COUNT'])\n",
    "\n",
    "bx_2021_total_cases = np.sum(bx_covid_data_2021['CASE_COUNT'])\n",
    "bk_2021_total_cases = np.sum(bk_covid_data_2021['CASE_COUNT'])\n",
    "qn_2021_total_cases = np.sum(qn_covid_data_2021['CASE_COUNT'])\n",
    "mn_2021_total_cases = np.sum(mn_covid_data_2021['CASE_COUNT'])\n",
    "si_2021_total_cases = np.sum(si_covid_data_2021['CASE_COUNT'])"
   ]
  },
  {
   "cell_type": "code",
   "execution_count": 5,
   "id": "9bb67976-42ff-4cb8-a3ed-4a8ed4c10500",
   "metadata": {},
   "outputs": [
    {
     "name": "stdout",
     "output_type": "stream",
     "text": [
      "Bronx 2020: 80469\n",
      "Bronx 2021: 92349\n",
      "Brooklyn 2020: 115359\n",
      "Brooklyn 2021: 172222\n",
      "Queens 2020: 116952\n",
      "Queens 2021: 151228\n",
      "Manhattan 2020: 55405\n",
      "Manhattan 2021: 84061\n",
      "Staten Island 2020: 32622\n",
      "Staten Island 2021: 44652\n"
     ]
    }
   ],
   "source": [
    "print(\"Bronx 2020:\", bx_2020_total_cases)\n",
    "print(\"Bronx 2021:\", bx_2021_total_cases)\n",
    "print(\"Brooklyn 2020:\", bk_2020_total_cases)\n",
    "print(\"Brooklyn 2021:\", bk_2021_total_cases)\n",
    "print(\"Queens 2020:\", qn_2020_total_cases)\n",
    "print(\"Queens 2021:\", qn_2021_total_cases)\n",
    "print(\"Manhattan 2020:\", mn_2020_total_cases)\n",
    "print(\"Manhattan 2021:\", mn_2021_total_cases)\n",
    "print(\"Staten Island 2020:\", si_2020_total_cases)\n",
    "print(\"Staten Island 2021:\", si_2021_total_cases)"
   ]
  },
  {
   "cell_type": "code",
   "execution_count": 16,
   "id": "5a1a3edd-0291-40ee-b5f5-68678df8f02b",
   "metadata": {},
   "outputs": [
    {
     "data": {
      "text/plain": [
       "[32622, 55405, 80469, 115359, 116952]"
      ]
     },
     "execution_count": 16,
     "metadata": {},
     "output_type": "execute_result"
    }
   ],
   "source": [
    "sorted([bx_2020_total_cases, bk_2020_total_cases, qn_2020_total_cases, mn_2020_total_cases, si_2020_total_cases])"
   ]
  },
  {
   "cell_type": "code",
   "execution_count": 17,
   "id": "e4fe56d9-dee4-43d2-bba4-6cde4733e0d8",
   "metadata": {},
   "outputs": [
    {
     "data": {
      "text/plain": [
       "[44652, 84061, 92349, 151228, 172222]"
      ]
     },
     "execution_count": 17,
     "metadata": {},
     "output_type": "execute_result"
    }
   ],
   "source": [
    "sorted([bx_2021_total_cases, bk_2021_total_cases, qn_2021_total_cases, mn_2021_total_cases, si_2021_total_cases])"
   ]
  },
  {
   "cell_type": "code",
   "execution_count": null,
   "id": "3a5dcf41-bbbf-4b3e-8736-5e20f588e3d9",
   "metadata": {},
   "outputs": [],
   "source": []
  }
 ],
 "metadata": {
  "kernelspec": {
   "display_name": "Python 3 (ipykernel)",
   "language": "python",
   "name": "python3"
  },
  "language_info": {
   "codemirror_mode": {
    "name": "ipython",
    "version": 3
   },
   "file_extension": ".py",
   "mimetype": "text/x-python",
   "name": "python",
   "nbconvert_exporter": "python",
   "pygments_lexer": "ipython3",
   "version": "3.7.11"
  }
 },
 "nbformat": 4,
 "nbformat_minor": 5
}
