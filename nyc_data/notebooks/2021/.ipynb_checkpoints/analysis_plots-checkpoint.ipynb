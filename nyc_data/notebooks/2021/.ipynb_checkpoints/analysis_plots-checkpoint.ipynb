{
 "cells": [
  {
   "cell_type": "code",
   "execution_count": 1,
   "id": "d1c04291-217f-4b4d-825d-690c60828cd9",
   "metadata": {},
   "outputs": [],
   "source": [
    "import json\n",
    "import numpy as np\n",
    "import pandas as pd\n",
    "\n",
    "with open('2021_scores.json', 'r') as json_file:\n",
    "    scores_json = json.load(json_file)"
   ]
  },
  {
   "cell_type": "code",
   "execution_count": 2,
   "id": "dfc374ab-314f-4c28-b0e5-2101fe3c1e33",
   "metadata": {},
   "outputs": [],
   "source": [
    "decision_tree_scores = scores_json['decision_tree']\n",
    "random_forest_scores = scores_json['random_forest']\n",
    "knn_scores = scores_json['knn']\n",
    "kmeans_scores = scores_json['kmeans']\n",
    "mlp_scores = scores_json['mlp']\n",
    "gnb_scores = scores_json['gnb']\n",
    "cnb_scores = scores_json['cnb']\n",
    "mnb_scores = scores_json['mnb']"
   ]
  },
  {
   "cell_type": "code",
   "execution_count": 3,
   "id": "07c35188-f517-414f-a82c-6b5fcfd0fec6",
   "metadata": {},
   "outputs": [],
   "source": [
    "decision_tree_acc = np.mean(decision_tree_scores['accuracy'])\n",
    "random_forest_acc = max([(x['depth'], np.mean(x['accuracy'])) for x in random_forest_scores], key=lambda x:x[1])\n",
    "knn_acc = max([(x['k'], np.mean(x['accuracy'])) for x in knn_scores], key=lambda x:x[1])\n",
    "kmeans_acc = max([(x['k'], np.mean(x['accuracy'])) for x in kmeans_scores], key=lambda x:x[1])\n",
    "mlp_acc = np.mean(mlp_scores['accuracy'])\n",
    "gnb_acc = np.mean(gnb_scores['accuracy'])\n",
    "cnb_acc = np.mean(cnb_scores['accuracy'])\n",
    "mnb_acc = np.mean(mnb_scores['accuracy'])"
   ]
  },
  {
   "cell_type": "code",
   "execution_count": 4,
   "id": "a840ba1d-5ce4-4d0f-8f57-68d9157922c3",
   "metadata": {},
   "outputs": [],
   "source": [
    "decision_tree_prec = np.mean(decision_tree_scores['precision'])\n",
    "random_forest_prec = max([(x['depth'], np.mean(x['precision'])) for x in random_forest_scores], key=lambda x:x[1])\n",
    "knn_prec = max([(x['k'], np.mean(x['precision'])) for x in knn_scores], key=lambda x:x[1])\n",
    "kmeans_prec = max([(x['k'], np.mean(x['precision'])) for x in kmeans_scores], key=lambda x:x[1])\n",
    "mlp_prec = np.mean(mlp_scores['precision'])\n",
    "gnb_prec = np.mean(gnb_scores['precision'])\n",
    "cnb_prec = np.mean(cnb_scores['precision'])\n",
    "mnb_prec = np.mean(mnb_scores['precision'])"
   ]
  },
  {
   "cell_type": "code",
   "execution_count": 5,
   "id": "c2cb5187-ea2a-411b-8e0f-6278ab7709b2",
   "metadata": {},
   "outputs": [],
   "source": [
    "decision_tree_recall = np.mean(decision_tree_scores['recall'])\n",
    "random_forest_recall = max([(x['depth'], np.mean(x['recall'])) for x in random_forest_scores], key=lambda x:x[1])\n",
    "knn_recall = max([(x['k'], np.mean(x['recall'])) for x in knn_scores], key=lambda x:x[1])\n",
    "kmeans_recall = max([(x['k'], np.mean(x['recall'])) for x in kmeans_scores], key=lambda x:x[1])\n",
    "mlp_recall = np.mean(mlp_scores['recall'])\n",
    "gnb_recall = np.mean(gnb_scores['recall'])\n",
    "cnb_recall = np.mean(cnb_scores['recall'])\n",
    "mnb_recall = np.mean(mnb_scores['recall'])"
   ]
  },
  {
   "cell_type": "code",
   "execution_count": 6,
   "id": "050d591a-07ae-4d0b-9c07-9b931da9c74a",
   "metadata": {},
   "outputs": [],
   "source": [
    "decision_tree_f1 = np.mean(decision_tree_scores['f1'])\n",
    "random_forest_f1 = max([(x['depth'], np.mean(x['f1'])) for x in random_forest_scores], key=lambda x:x[1])\n",
    "knn_f1 = max([(x['k'], np.mean(x['f1'])) for x in knn_scores], key=lambda x:x[1])\n",
    "kmeans_f1 = max([(x['k'], np.mean(x['f1'])) for x in kmeans_scores], key=lambda x:x[1])\n",
    "mlp_f1 = np.mean(mlp_scores['f1'])\n",
    "gnb_f1 = np.mean(gnb_scores['f1'])\n",
    "cnb_f1 = np.mean(cnb_scores['f1'])\n",
    "mnb_f1 = np.mean(mnb_scores['f1'])"
   ]
  },
  {
   "cell_type": "code",
   "execution_count": 7,
   "id": "e2db1a10-d775-4750-84a6-0bb911e88c8c",
   "metadata": {},
   "outputs": [],
   "source": [
    "decision_tree_rmse = np.mean(decision_tree_scores['rmse'])\n",
    "random_forest_rmse = min([(x['depth'], np.mean(x['rmse'])) for x in random_forest_scores], key=lambda x:x[1])\n",
    "knn_rmse = min([(x['k'], np.mean(x['rmse'])) for x in knn_scores], key=lambda x:x[1])\n",
    "kmeans_rmse = min([(x['k'], np.mean(x['rmse'])) for x in kmeans_scores], key=lambda x:x[1])\n",
    "mlp_rmse = np.mean(mlp_scores['rmse'])\n",
    "gnb_rmse = np.mean(gnb_scores['rmse'])\n",
    "cnb_rmse = np.mean(cnb_scores['rmse'])\n",
    "mnb_rmse = np.mean(mnb_scores['rmse'])"
   ]
  },
  {
   "cell_type": "markdown",
   "id": "80a5387b-f444-4624-a98f-ee4d1075b3d9",
   "metadata": {},
   "source": [
    "### Accuracy"
   ]
  },
  {
   "cell_type": "code",
   "execution_count": 8,
   "id": "873ee02a-e5a2-44fa-99a7-629e641f140e",
   "metadata": {},
   "outputs": [
    {
     "data": {
      "text/plain": [
       "0.9423356654661059"
      ]
     },
     "execution_count": 8,
     "metadata": {},
     "output_type": "execute_result"
    }
   ],
   "source": [
    "np.mean([np.mean(x['accuracy']) for x in random_forest_scores])"
   ]
  },
  {
   "cell_type": "markdown",
   "id": "df9d41f9-052d-4efd-8d4f-3f6f67ba166a",
   "metadata": {},
   "source": [
    "### Precision"
   ]
  },
  {
   "cell_type": "code",
   "execution_count": 9,
   "id": "7a2c9866-67f3-4a44-8c13-88d3d1c9642b",
   "metadata": {},
   "outputs": [
    {
     "data": {
      "text/plain": [
       "0.9990543920258425"
      ]
     },
     "execution_count": 9,
     "metadata": {},
     "output_type": "execute_result"
    }
   ],
   "source": [
    "np.mean([np.mean(x['precision']) for x in random_forest_scores])"
   ]
  },
  {
   "cell_type": "markdown",
   "id": "812486d5-caa8-4369-89bb-1bafac440a73",
   "metadata": {},
   "source": [
    "### Recall"
   ]
  },
  {
   "cell_type": "code",
   "execution_count": 10,
   "id": "084f8866-5f99-4b9f-ade3-0216928e3e0e",
   "metadata": {},
   "outputs": [
    {
     "data": {
      "text/plain": [
       "0.045"
      ]
     },
     "execution_count": 10,
     "metadata": {},
     "output_type": "execute_result"
    }
   ],
   "source": [
    "np.mean([np.mean(x['recall']) for x in random_forest_scores])"
   ]
  },
  {
   "cell_type": "markdown",
   "id": "c23cf381-4aa8-4846-81a2-ef9f931625c3",
   "metadata": {},
   "source": [
    "### F1"
   ]
  },
  {
   "cell_type": "code",
   "execution_count": 11,
   "id": "462f7e09-77c6-4127-8595-190f74591f0c",
   "metadata": {},
   "outputs": [
    {
     "data": {
      "text/plain": [
       "0.0013591762669776992"
      ]
     },
     "execution_count": 11,
     "metadata": {},
     "output_type": "execute_result"
    }
   ],
   "source": [
    "np.mean([np.mean(x['f1']) for x in random_forest_scores])"
   ]
  },
  {
   "cell_type": "markdown",
   "id": "b359293c-df68-4ad5-935f-498cbf76c6ff",
   "metadata": {},
   "source": [
    "### RMSE"
   ]
  },
  {
   "cell_type": "code",
   "execution_count": 12,
   "id": "ed9a39d8-408b-49dd-862c-59bab803fc7c",
   "metadata": {},
   "outputs": [
    {
     "data": {
      "text/plain": [
       "0.15481128580282214"
      ]
     },
     "execution_count": 12,
     "metadata": {},
     "output_type": "execute_result"
    }
   ],
   "source": [
    "np.mean([np.mean(x['rmse']) for x in random_forest_scores])"
   ]
  },
  {
   "cell_type": "code",
   "execution_count": 21,
   "id": "9043d8d9-a33f-4aca-b0a6-d85ffaf74d94",
   "metadata": {},
   "outputs": [
    {
     "name": "stdout",
     "output_type": "stream",
     "text": [
      "Decision tree\n",
      "Acc: 0.946227129817111 | Prec: 0.9990584262128669 | Recall: 0.045 | F1: 0.0010700571810175717 | RMSE: 0.15366887340134147\n",
      "\n",
      "Random forest\n",
      "Acc: (6, 0.9500908927989242) | Prec: (6, 0.9990607415561138) | Recall: (1, 0.045) | F1: (5, 0.0017978368851934445) | RMSE: (6, 0.14782346161424686)\n",
      "\n",
      "KNN\n",
      "Acc: (4, 0.9396512132142787) | Prec: (4, 0.9990263932542455) | Recall: (1, 0.0) | F1: (1, 0.0) | RMSE: (4, 0.14440115564301642)\n",
      "\n",
      "KMeans\n",
      "Acc: (1, 0.9995316827719426) | Prec: (1, 0.9990639252028473) | Recall: (1, 0.9995316827719426) | F1: (1, 0.9992976641994324) | RMSE: (1, 0.017731197805237457)\n",
      "\n",
      "Multilayer Perceptron\n",
      "Acc: 0.9995316974985788 | Prec: 0.999063617021322 | Recall: 0.0 | F1: 0.0 | RMSE: 0.021607403969124823\n",
      "\n",
      "Gaussian Naive Bayes\n",
      "Acc: 0.9995316974985788 | Prec: 0.999063617021322 | Recall: 0.0 | F1: 0.0 | RMSE: 0.021607403969124823\n",
      "\n",
      "Complement Naive Bayes\n",
      "Acc: 0.49452960518341343 | Prec: 0.49970762285157944 | Recall: 0.76 | F1: 0.09445359912493637 | RMSE: 0.5352029817399762\n",
      "\n",
      "Multinomial Naive Bayes\n",
      "Acc: 0.495232031747909 | Prec: 0.49970771082424736 | Recall: 0.76 | F1: 0.09477693833716447 | RMSE: 0.5335843709059677\n"
     ]
    }
   ],
   "source": [
    "print(\"Decision tree\")\n",
    "print(\"Acc: {} | Prec: {} | Recall: {} | F1: {} | RMSE: {}\".format(decision_tree_acc, decision_tree_prec, decision_tree_recall, decision_tree_f1, decision_tree_rmse))\n",
    "print()\n",
    "print(\"Random forest\")\n",
    "print(\"Acc: {} | Prec: {} | Recall: {} | F1: {} | RMSE: {}\".format(random_forest_acc, random_forest_prec, random_forest_recall, random_forest_f1, random_forest_rmse))\n",
    "print()\n",
    "print(\"KNN\")\n",
    "print(\"Acc: {} | Prec: {} | Recall: {} | F1: {} | RMSE: {}\".format(knn_acc, knn_prec, knn_recall, knn_f1, knn_rmse))\n",
    "print()\n",
    "print(\"KMeans\")\n",
    "print(\"Acc: {} | Prec: {} | Recall: {} | F1: {} | RMSE: {}\".format(kmeans_acc, kmeans_prec, kmeans_recall, kmeans_f1, kmeans_rmse))\n",
    "print()\n",
    "print(\"Multilayer Perceptron\")\n",
    "print(\"Acc: {} | Prec: {} | Recall: {} | F1: {} | RMSE: {}\".format(mlp_acc, mlp_prec, mlp_recall, mlp_f1, mlp_rmse))\n",
    "print()\n",
    "print(\"Gaussian Naive Bayes\")\n",
    "print(\"Acc: {} | Prec: {} | Recall: {} | F1: {} | RMSE: {}\".format(gnb_acc, gnb_prec, gnb_recall, gnb_f1, gnb_rmse))\n",
    "print()\n",
    "print(\"Complement Naive Bayes\")\n",
    "print(\"Acc: {} | Prec: {} | Recall: {} | F1: {} | RMSE: {}\".format(cnb_acc, cnb_prec, cnb_recall, cnb_f1, cnb_rmse))\n",
    "print()\n",
    "print(\"Multinomial Naive Bayes\")\n",
    "print(\"Acc: {} | Prec: {} | Recall: {} | F1: {} | RMSE: {}\".format(mnb_acc, mnb_prec, mnb_recall, mnb_f1, mnb_rmse))"
   ]
  }
 ],
 "metadata": {
  "kernelspec": {
   "display_name": "Python 3 (ipykernel)",
   "language": "python",
   "name": "python3"
  },
  "language_info": {
   "codemirror_mode": {
    "name": "ipython",
    "version": 3
   },
   "file_extension": ".py",
   "mimetype": "text/x-python",
   "name": "python",
   "nbconvert_exporter": "python",
   "pygments_lexer": "ipython3",
   "version": "3.7.11"
  }
 },
 "nbformat": 4,
 "nbformat_minor": 5
}
