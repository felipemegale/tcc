{
 "cells": [
  {
   "cell_type": "code",
   "execution_count": 1,
   "id": "bd1d8a90-1170-434c-8379-abd60c575579",
   "metadata": {},
   "outputs": [
    {
     "name": "stderr",
     "output_type": "stream",
     "text": [
      "21/11/25 12:27:36 WARN Utils: Your hostname, LAPTOP-VD4O2HIL resolves to a loopback address: 127.0.1.1; using 172.30.168.139 instead (on interface eth0)\n",
      "21/11/25 12:27:36 WARN Utils: Set SPARK_LOCAL_IP if you need to bind to another address\n",
      "21/11/25 12:27:37 WARN NativeCodeLoader: Unable to load native-hadoop library for your platform... using builtin-java classes where applicable\n",
      "Using Spark's default log4j profile: org/apache/spark/log4j-defaults.properties\n",
      "Setting default log level to \"WARN\".\n",
      "To adjust logging level use sc.setLogLevel(newLevel). For SparkR, use setLogLevel(newLevel).\n"
     ]
    }
   ],
   "source": [
    "# import pyspark to process large files and create a new spark session\n",
    "from pyspark.sql import SparkSession\n",
    "from pyspark.sql.functions import col, asc, desc, to_timestamp, unix_timestamp, from_unixtime\n",
    "\n",
    "spark = SparkSession\\\n",
    "    .builder\\\n",
    "    .master('local[*]')\\\n",
    "    .config(\"spark.driver.memory\", \"4g\")\\\n",
    "    .appName('process_tripdata')\\\n",
    "    .getOrCreate()"
   ]
  },
  {
   "cell_type": "code",
   "execution_count": 2,
   "id": "1076d3a7-5723-4d4c-94bb-b7cb2e298fe1",
   "metadata": {},
   "outputs": [
    {
     "name": "stderr",
     "output_type": "stream",
     "text": [
      "                                                                                \r"
     ]
    }
   ],
   "source": [
    "# read 2021 samples\n",
    "jan_sample = spark\\\n",
    "    .read\\\n",
    "    .csv('/home/felipe/repos/tcc/nyc_data/csv/202101_sample.csv', header=True)\n",
    "feb_sample = spark\\\n",
    "    .read\\\n",
    "    .csv('/home/felipe/repos/tcc/nyc_data/csv/202102_sample.csv', header=True)\n",
    "mar_sample = spark\\\n",
    "    .read\\\n",
    "    .csv('/home/felipe/repos/tcc/nyc_data/csv/202103_sample.csv', header=True)\n",
    "apr_sample = spark\\\n",
    "    .read\\\n",
    "    .csv('/home/felipe/repos/tcc/nyc_data/csv/202104_sample.csv', header=True)\n",
    "may_sample = spark\\\n",
    "    .read\\\n",
    "    .csv('/home/felipe/repos/tcc/nyc_data/csv/202105_sample.csv', header=True)\n",
    "jun_sample = spark\\\n",
    "    .read\\\n",
    "    .csv('/home/felipe/repos/tcc/nyc_data/csv/202106_sample.csv', header=True)\n",
    "jul_sample = spark\\\n",
    "    .read\\\n",
    "    .csv('/home/felipe/repos/tcc/nyc_data/csv/202107_sample.csv', header=True)"
   ]
  },
  {
   "cell_type": "code",
   "execution_count": 3,
   "id": "93e1af21-8ba3-4ba3-a95a-1962d045144b",
   "metadata": {},
   "outputs": [],
   "source": [
    "# cast string cols to appropriate data type\n",
    "jan_sample = jan_sample\\\n",
    "    .withColumn('pickup_datetime', to_timestamp('pickup_datetime'))\\\n",
    "    .withColumn('dropoff_datetime', to_timestamp('dropoff_datetime'))\\\n",
    "    .withColumn('PULocationID', col('PULocationID').cast('int'))\\\n",
    "    .withColumn('DOLocationID', col('DOLocationID').cast('int'))\\\n",
    "    .withColumn('SR_Flag', col('SR_Flag').cast('int'))\\\n",
    "    .na.fill(value=0, subset=[\"SR_Flag\"])\n",
    "\n",
    "feb_sample = feb_sample\\\n",
    "    .withColumn('pickup_datetime', to_timestamp('pickup_datetime'))\\\n",
    "    .withColumn('dropoff_datetime', to_timestamp('dropoff_datetime'))\\\n",
    "    .withColumn('PULocationID', col('PULocationID').cast('int'))\\\n",
    "    .withColumn('DOLocationID', col('DOLocationID').cast('int'))\\\n",
    "    .withColumn('SR_Flag', col('SR_Flag').cast('int'))\\\n",
    "    .na.fill(value=0, subset=[\"SR_Flag\"])\n",
    "\n",
    "mar_sample = mar_sample\\\n",
    "    .withColumn('pickup_datetime', to_timestamp('pickup_datetime'))\\\n",
    "    .withColumn('dropoff_datetime', to_timestamp('dropoff_datetime'))\\\n",
    "    .withColumn('PULocationID', col('PULocationID').cast('int'))\\\n",
    "    .withColumn('DOLocationID', col('DOLocationID').cast('int'))\\\n",
    "    .withColumn('SR_Flag', col('SR_Flag').cast('int'))\\\n",
    "    .na.fill(value=0, subset=[\"SR_Flag\"])\n",
    "\n",
    "apr_sample = apr_sample\\\n",
    "    .withColumn('pickup_datetime', to_timestamp('pickup_datetime'))\\\n",
    "    .withColumn('dropoff_datetime', to_timestamp('dropoff_datetime'))\\\n",
    "    .withColumn('PULocationID', col('PULocationID').cast('int'))\\\n",
    "    .withColumn('DOLocationID', col('DOLocationID').cast('int'))\\\n",
    "    .withColumn('SR_Flag', col('SR_Flag').cast('int'))\\\n",
    "    .na.fill(value=0, subset=[\"SR_Flag\"])\n",
    "\n",
    "may_sample = may_sample\\\n",
    "    .withColumn('pickup_datetime', to_timestamp('pickup_datetime'))\\\n",
    "    .withColumn('dropoff_datetime', to_timestamp('dropoff_datetime'))\\\n",
    "    .withColumn('PULocationID', col('PULocationID').cast('int'))\\\n",
    "    .withColumn('DOLocationID', col('DOLocationID').cast('int'))\\\n",
    "    .withColumn('SR_Flag', col('SR_Flag').cast('int'))\\\n",
    "    .na.fill(value=0, subset=[\"SR_Flag\"])\n",
    "\n",
    "jun_sample = jun_sample\\\n",
    "    .withColumn('pickup_datetime', to_timestamp('pickup_datetime'))\\\n",
    "    .withColumn('dropoff_datetime', to_timestamp('dropoff_datetime'))\\\n",
    "    .withColumn('PULocationID', col('PULocationID').cast('int'))\\\n",
    "    .withColumn('DOLocationID', col('DOLocationID').cast('int'))\\\n",
    "    .withColumn('SR_Flag', col('SR_Flag').cast('int'))\\\n",
    "    .na.fill(value=0, subset=[\"SR_Flag\"])\n",
    "\n",
    "jul_sample = jul_sample\\\n",
    "    .withColumn('pickup_datetime', to_timestamp('pickup_datetime'))\\\n",
    "    .withColumn('dropoff_datetime', to_timestamp('dropoff_datetime'))\\\n",
    "    .withColumn('PULocationID', col('PULocationID').cast('int'))\\\n",
    "    .withColumn('DOLocationID', col('DOLocationID').cast('int'))\\\n",
    "    .withColumn('SR_Flag', col('SR_Flag').cast('int'))\\\n",
    "    .na.fill(value=0, subset=[\"SR_Flag\"])"
   ]
  },
  {
   "cell_type": "code",
   "execution_count": 4,
   "id": "97c9a812-2d7d-41aa-8505-1238bafe3dac",
   "metadata": {},
   "outputs": [],
   "source": [
    "# read covid data cases by day\n",
    "covid_data = spark\\\n",
    "    .read\\\n",
    "    .csv('/home/felipe/repos/tcc/nyc_data/csv/coronavirus-data/trends/cases-by-day.csv', header=True)"
   ]
  },
  {
   "cell_type": "code",
   "execution_count": 5,
   "id": "aab30f32-efec-427a-82d3-f5b2fad2516d",
   "metadata": {},
   "outputs": [],
   "source": [
    "# drop columns with info by borough\n",
    "covid_data = covid_data\\\n",
    "    .drop(\"BX_CASE_COUNT\")\\\n",
    "    .drop(\"BX_PROBABLE_CASE_COUNT\")\\\n",
    "    .drop(\"BX_CASE_COUNT_7DAY_AVG\")\\\n",
    "    .drop(\"BX_ALL_CASE_COUNT_7DAY_AVG\")\\\n",
    "    .drop(\"BK_CASE_COUNT\")\\\n",
    "    .drop(\"BK_PROBABLE_CASE_COUNT\")\\\n",
    "    .drop(\"BK_CASE_COUNT_7DAY_AVG\")\\\n",
    "    .drop(\"BK_ALL_CASE_COUNT_7DAY_AVG\")\\\n",
    "    .drop(\"MN_CASE_COUNT\")\\\n",
    "    .drop(\"MN_PROBABLE_CASE_COUNT\")\\\n",
    "    .drop(\"MN_CASE_COUNT_7DAY_AVG\")\\\n",
    "    .drop(\"MN_ALL_CASE_COUNT_7DAY_AVG\")\\\n",
    "    .drop(\"QN_CASE_COUNT\")\\\n",
    "    .drop(\"QN_PROBABLE_CASE_COUNT\")\\\n",
    "    .drop(\"QN_CASE_COUNT_7DAY_AVG\")\\\n",
    "    .drop(\"QN_ALL_CASE_COUNT_7DAY_AVG\")\\\n",
    "    .drop(\"SI_CASE_COUNT\")\\\n",
    "    .drop(\"SI_PROBABLE_CASE_COUNT\")\\\n",
    "    .drop(\"SI_CASE_COUNT_7DAY_AVG\")\\\n",
    "    .drop(\"SI_ALL_CASE_COUNT_7DAY_AVG\")"
   ]
  },
  {
   "cell_type": "code",
   "execution_count": 6,
   "id": "72208f9f-c6e9-4827-89f6-9529c1621ac1",
   "metadata": {},
   "outputs": [],
   "source": [
    "# cast columns to appropriate data type\n",
    "covid_data = covid_data\\\n",
    "    .withColumn('date_of_interest', to_timestamp('date_of_interest', 'MM/dd/yyy'))\\\n",
    "    .withColumn('CASE_COUNT', col('CASE_COUNT').cast('int'))\\\n",
    "    .withColumn('PROBABLE_CASE_COUNT', col('PROBABLE_CASE_COUNT').cast('int'))\\\n",
    "    .withColumn('CASE_COUNT_7DAY_AVG', col('CASE_COUNT_7DAY_AVG').cast('int'))\\\n",
    "    .withColumn('ALL_CASE_COUNT_7DAY_AVG', col('ALL_CASE_COUNT_7DAY_AVG').cast('int'))\\\n",
    "    .withColumn('INCOMPLETE', col('INCOMPLETE').cast('int'))"
   ]
  },
  {
   "cell_type": "code",
   "execution_count": 7,
   "id": "836651c1-2ee4-413b-9ae4-95d077222066",
   "metadata": {},
   "outputs": [],
   "source": [
    "# aggregate all months samples into one pyspark dataframe\n",
    "sample_data = jan_sample.union(feb_sample)\\\n",
    "    .union(mar_sample)\\\n",
    "    .union(apr_sample)\\\n",
    "    .union(may_sample)\\\n",
    "    .union(jun_sample)\\\n",
    "    .union(jul_sample)\\\n",
    "    .drop('dispatching_base_num')"
   ]
  },
  {
   "cell_type": "code",
   "execution_count": 8,
   "id": "8727d84a-243b-4da2-aa08-7da554a6620b",
   "metadata": {},
   "outputs": [],
   "source": [
    "from pyspark.sql.functions import concat_ws\n",
    "sample_data.createOrReplaceTempView(\"SAMPLE_DATA\")\n",
    "trip_by_day = spark.sql(\"SELECT COUNT(*) as trip_count, YEAR(pickup_datetime) as year, MONTH(pickup_datetime) as month, DAY(pickup_datetime) as day FROM SAMPLE_DATA GROUP BY YEAR(pickup_datetime), MONTH(pickup_datetime), DAY(pickup_datetime) ORDER BY day, month, year\")\n",
    "trip_by_day = trip_by_day\\\n",
    "    .select(col('trip_count'), to_timestamp(concat_ws('-', col('year'), col('month'), col('day')))\\\n",
    "    .alias('date_time'))\\\n",
    "    .orderBy(col('date_time').asc())"
   ]
  },
  {
   "cell_type": "code",
   "execution_count": 9,
   "id": "87a6a225-9286-427c-9c32-12fa164b663b",
   "metadata": {},
   "outputs": [
    {
     "name": "stderr",
     "output_type": "stream",
     "text": [
      "21/11/25 12:27:46 WARN package: Truncated the string representation of a plan since it was too large. This behavior can be adjusted by setting 'spark.sql.debug.maxToStringFields'.\n"
     ]
    }
   ],
   "source": [
    "covid_data.createOrReplaceTempView(\"COVID_DATA\")\n",
    "covid_data_by_day = spark.sql(\"SELECT date_of_interest, CASE_COUNT, CASE_COUNT_7DAY_AVG from COVID_DATA where YEAR(date_of_interest) = 2021\")"
   ]
  },
  {
   "cell_type": "code",
   "execution_count": 10,
   "id": "801b34da-1053-4c14-8699-819eadfa0e00",
   "metadata": {},
   "outputs": [],
   "source": [
    "covid_case_trip_by_day = covid_data_by_day\\\n",
    "    .join(trip_by_day, covid_data_by_day.date_of_interest == trip_by_day.date_time, \"full\")\\\n",
    "    .drop('date_of_interest')\\\n",
    "    .na.fill(value=0, subset=['CASE_COUNT', \"CASE_COUNT_7DAY_AVG\"])\\\n",
    "    .orderBy('date_time')"
   ]
  },
  {
   "cell_type": "code",
   "execution_count": 11,
   "id": "6e89006a-5a91-4564-b65a-4f1d0e06983a",
   "metadata": {},
   "outputs": [
    {
     "name": "stderr",
     "output_type": "stream",
     "text": [
      "                                                                                \r"
     ]
    }
   ],
   "source": [
    "covid_case_trip_by_day_df = covid_case_trip_by_day.toPandas()"
   ]
  },
  {
   "cell_type": "code",
   "execution_count": 12,
   "id": "d332f473-2480-42ae-9bc9-6bd62aaf5cb1",
   "metadata": {},
   "outputs": [
    {
     "data": {
      "text/plain": [
       "<AxesSubplot:xlabel='date_time'>"
      ]
     },
     "execution_count": 12,
     "metadata": {},
     "output_type": "execute_result"
    },
    {
     "data": {
      "image/png": "[encoded data removed]",
      "text/plain": [
       "<Figure size 432x288 with 1 Axes>"
      ]
     },
     "metadata": {
      "needs_background": "light"
     },
     "output_type": "display_data"
    }
   ],
   "source": [
    "covid_case_trip_by_day_df.plot(x=\"date_time\")"
   ]
  },
  {
   "cell_type": "code",
   "execution_count": 13,
   "id": "8a1b669a-3050-49e2-9925-a52d37c1efba",
   "metadata": {},
   "outputs": [
    {
     "name": "stdout",
     "output_type": "stream",
     "text": [
      "0.0% of trips were shared in January 2021\n",
      "0.02646436132674665% of trips were shared in February 2021\n",
      "0.03656307129798903% of trips were shared in March 2021\n",
      "0.02882882882882883% of trips were shared in April 2021\n",
      "0.021095562899936714% of trips were shared in May 2021\n",
      "0.034274746366876885% of trips were shared in June 2021\n",
      "0.163265306122449% of trips were shared in July 2021\n"
     ]
    }
   ],
   "source": [
    "jan_sample.createOrReplaceTempView(\"JAN_SAMPLE\")\n",
    "jan_shared_trips = spark.sql(\"SELECT (SELECT COUNT(SR_Flag) as jan_shared_trips_count FROM JAN_SAMPLE WHERE SR_Flag <> 0) / COUNT(SR_Flag) from JAN_SAMPLE\").first()[0]\n",
    "print(\"{}% of trips were shared in January 2021\".format(jan_shared_trips*100))\n",
    "\n",
    "feb_sample.createOrReplaceTempView(\"FEB_SAMPLE\")\n",
    "feb_shared_trips = spark.sql(\"SELECT (SELECT COUNT(SR_Flag) as feb_shared_trips_count FROM FEB_SAMPLE WHERE SR_Flag <> 0) / COUNT(SR_Flag) from FEB_SAMPLE\").first()[0]\n",
    "print(\"{}% of trips were shared in February 2021\".format(feb_shared_trips*100))\n",
    "\n",
    "mar_sample.createOrReplaceTempView(\"MAR_SAMPLE\")\n",
    "mar_shared_trips = spark.sql(\"SELECT (SELECT COUNT(SR_Flag) as mar_shared_trips_count FROM MAR_SAMPLE WHERE SR_Flag <> 0) / COUNT(SR_Flag) from MAR_SAMPLE\").first()[0]\n",
    "print(\"{}% of trips were shared in March 2021\".format(mar_shared_trips*100))\n",
    "\n",
    "apr_sample.createOrReplaceTempView(\"APR_SAMPLE\")\n",
    "apr_shared_trips = spark.sql(\"SELECT (SELECT COUNT(SR_Flag) as apr_shared_trips_count FROM APR_SAMPLE WHERE SR_Flag <> 0) / COUNT(SR_Flag) from APR_SAMPLE\").first()[0]\n",
    "print(\"{}% of trips were shared in April 2021\".format(apr_shared_trips*100))\n",
    "\n",
    "may_sample.createOrReplaceTempView(\"MAY_SAMPLE\")\n",
    "may_shared_trips = spark.sql(\"SELECT (SELECT COUNT(SR_Flag) as may_shared_trips_count FROM MAY_SAMPLE WHERE SR_Flag <> 0) / COUNT(SR_Flag) from MAY_SAMPLE\").first()[0]\n",
    "print(\"{}% of trips were shared in May 2021\".format(may_shared_trips*100))\n",
    "\n",
    "jun_sample.createOrReplaceTempView(\"JUN_SAMPLE\")\n",
    "jun_shared_trips = spark.sql(\"SELECT (SELECT COUNT(SR_Flag) as jun_shared_trips_count FROM JUN_SAMPLE WHERE SR_Flag <> 0) / COUNT(SR_Flag) from JUN_SAMPLE\").first()[0]\n",
    "print(\"{}% of trips were shared in June 2021\".format(jun_shared_trips*100))\n",
    "\n",
    "jul_sample.createOrReplaceTempView(\"JUL_SAMPLE\")\n",
    "jul_shared_trips = spark.sql(\"SELECT (SELECT COUNT(SR_Flag) as jul_shared_trips_count FROM JUL_SAMPLE WHERE SR_Flag <> 0) / COUNT(SR_Flag) from JUL_SAMPLE\").first()[0]\n",
    "print(\"{}% of trips were shared in July 2021\".format(jul_shared_trips*100))"
   ]
  },
  {
   "cell_type": "code",
   "execution_count": 14,
   "id": "4a148026-7697-4437-84bc-606e4272eeae",
   "metadata": {},
   "outputs": [],
   "source": [
    "# project pyspark data to pandas dataframe\n",
    "sample_df = sample_data.toPandas()"
   ]
  },
  {
   "cell_type": "code",
   "execution_count": 15,
   "id": "5329cf8a-d2da-46d1-8513-8a27f6750cf5",
   "metadata": {},
   "outputs": [],
   "source": [
    "# get pickup and dropoff period of day\n",
    "def get_pickup_day_period(x):\n",
    "    hour = x['pickup_datetime'].hour\n",
    "    if 0 <= hour <= 5:\n",
    "        return 0\n",
    "    elif 6 <= hour <= 11:\n",
    "        return 1\n",
    "    elif 12 <= hour <= 17:\n",
    "        return 2\n",
    "    else:\n",
    "        return 3\n",
    "\n",
    "def get_dropoff_day_period(x):\n",
    "    hour = x['dropoff_datetime'].hour\n",
    "    if 0 <= hour <= 5:\n",
    "        return 0\n",
    "    elif 6 <= hour <= 11:\n",
    "        return 1\n",
    "    elif 12 <= hour <= 17:\n",
    "        return 2\n",
    "    else:\n",
    "        return 3\n",
    "    \n",
    "def add_pickup_date(x):\n",
    "    return x['pickup_datetime'].date()\n",
    "\n",
    "def add_dropoff_date(x):\n",
    "    return x['dropoff_datetime'].date()\n",
    "\n",
    "sample_df['pickup_day_period'] = sample_df.apply(get_pickup_day_period, axis=1)\n",
    "sample_df['dropoff_day_period'] = sample_df.apply(get_dropoff_day_period, axis=1)\n",
    "sample_df['pickup_date'] = sample_df.apply(add_pickup_date, axis=1)\n",
    "sample_df['dropoff_date'] = sample_df.apply(add_dropoff_date, axis=1)\n",
    "sample_df['trip_duration'] = sample_df.apply(lambda x: (x['dropoff_datetime'] - x['pickup_datetime']).total_seconds(), axis=1)\n",
    "# sample_df = sample_df.drop(['pickup_datetime','dropoff_datetime'], axis=1)"
   ]
  },
  {
   "cell_type": "code",
   "execution_count": 16,
   "id": "92407aa3-1dca-4dff-8804-e500279e9727",
   "metadata": {},
   "outputs": [],
   "source": [
    "covid_df = covid_data.toPandas()\n",
    "def cast_date_of_interest(x):\n",
    "    return x['date_of_interest'].date()\n",
    "covid_df['date_of_interest'] = covid_df.apply(cast_date_of_interest, axis=1)"
   ]
  },
  {
   "cell_type": "code",
   "execution_count": 17,
   "id": "1dd3be78-b62f-408e-aa78-256ea346853b",
   "metadata": {},
   "outputs": [],
   "source": [
    "import pandas as pd\n",
    "merged_sample_covid_df = pd.merge(sample_df, covid_df, left_on='pickup_date', right_on='date_of_interest', how='left')"
   ]
  },
  {
   "cell_type": "code",
   "execution_count": 18,
   "id": "5af8a7ea-d1b5-4373-9265-29c79a798d43",
   "metadata": {},
   "outputs": [],
   "source": [
    "merged_sample_covid_df['pickup_datetime'] = merged_sample_covid_df.apply(lambda x: pd.Timestamp(x['pickup_datetime']).timestamp(), axis=1)\n",
    "merged_sample_covid_df['dropoff_datetime'] = merged_sample_covid_df.apply(lambda x: pd.Timestamp(x['dropoff_datetime']).timestamp(), axis=1)"
   ]
  },
  {
   "cell_type": "code",
   "execution_count": 19,
   "id": "94034663-c7b3-4d2b-ae57-9517b5a9e2af",
   "metadata": {},
   "outputs": [],
   "source": [
    "merged_sample_covid_df = merged_sample_covid_df.drop(['date_of_interest', 'INCOMPLETE', 'pickup_date','dropoff_date'], axis=1)"
   ]
  },
  {
   "cell_type": "code",
   "execution_count": 20,
   "id": "59524986-b593-4944-a4c2-ddaed7a8b2c6",
   "metadata": {},
   "outputs": [],
   "source": [
    "merged_sample_covid_df = merged_sample_covid_df.fillna(0)"
   ]
  },
  {
   "cell_type": "code",
   "execution_count": 21,
   "id": "cfe8835a-5964-4ec0-8bbe-67cc07c26dcb",
   "metadata": {},
   "outputs": [],
   "source": [
    "merged_sample_covid_df.to_csv('/home/felipe/repos/tcc/nyc_data/csv/2021_preprocessed_sample.csv', index=False)"
   ]
  },
  {
   "cell_type": "code",
   "execution_count": 22,
   "id": "de805240-bb7f-48cc-b872-fa20781b7bf6",
   "metadata": {},
   "outputs": [
    {
     "data": {
      "text/html": [
       "<div>\n",
       "<style scoped>\n",
       "    .dataframe tbody tr th:only-of-type {\n",
       "        vertical-align: middle;\n",
       "    }\n",
       "\n",
       "    .dataframe tbody tr th {\n",
       "        vertical-align: top;\n",
       "    }\n",
       "\n",
       "    .dataframe thead th {\n",
       "        text-align: right;\n",
       "    }\n",
       "</style>\n",
       "<table border=\"1\" class=\"dataframe\">\n",
       "  <thead>\n",
       "    <tr style=\"text-align: right;\">\n",
       "      <th></th>\n",
       "      <th>pickup_datetime</th>\n",
       "      <th>dropoff_datetime</th>\n",
       "      <th>PULocationID</th>\n",
       "      <th>DOLocationID</th>\n",
       "      <th>SR_Flag</th>\n",
       "      <th>pickup_day_period</th>\n",
       "      <th>dropoff_day_period</th>\n",
       "      <th>trip_duration</th>\n",
       "      <th>CASE_COUNT</th>\n",
       "      <th>PROBABLE_CASE_COUNT</th>\n",
       "      <th>CASE_COUNT_7DAY_AVG</th>\n",
       "      <th>ALL_CASE_COUNT_7DAY_AVG</th>\n",
       "    </tr>\n",
       "  </thead>\n",
       "  <tbody>\n",
       "    <tr>\n",
       "      <th>0</th>\n",
       "      <td>1.609460e+09</td>\n",
       "      <td>1.609462e+09</td>\n",
       "      <td>245</td>\n",
       "      <td>221</td>\n",
       "      <td>0</td>\n",
       "      <td>0</td>\n",
       "      <td>0</td>\n",
       "      <td>1620.0</td>\n",
       "      <td>1336</td>\n",
       "      <td>784</td>\n",
       "      <td>3806</td>\n",
       "      <td>4752</td>\n",
       "    </tr>\n",
       "    <tr>\n",
       "      <th>1</th>\n",
       "      <td>1.609515e+09</td>\n",
       "      <td>1.609517e+09</td>\n",
       "      <td>206</td>\n",
       "      <td>115</td>\n",
       "      <td>0</td>\n",
       "      <td>2</td>\n",
       "      <td>2</td>\n",
       "      <td>1140.0</td>\n",
       "      <td>1336</td>\n",
       "      <td>784</td>\n",
       "      <td>3806</td>\n",
       "      <td>4752</td>\n",
       "    </tr>\n",
       "    <tr>\n",
       "      <th>2</th>\n",
       "      <td>1.609575e+09</td>\n",
       "      <td>1.609576e+09</td>\n",
       "      <td>56</td>\n",
       "      <td>56</td>\n",
       "      <td>0</td>\n",
       "      <td>1</td>\n",
       "      <td>1</td>\n",
       "      <td>542.0</td>\n",
       "      <td>4188</td>\n",
       "      <td>1066</td>\n",
       "      <td>3911</td>\n",
       "      <td>4881</td>\n",
       "    </tr>\n",
       "    <tr>\n",
       "      <th>3</th>\n",
       "      <td>1.609575e+09</td>\n",
       "      <td>1.609576e+09</td>\n",
       "      <td>130</td>\n",
       "      <td>122</td>\n",
       "      <td>0</td>\n",
       "      <td>1</td>\n",
       "      <td>1</td>\n",
       "      <td>649.0</td>\n",
       "      <td>4188</td>\n",
       "      <td>1066</td>\n",
       "      <td>3911</td>\n",
       "      <td>4881</td>\n",
       "    </tr>\n",
       "    <tr>\n",
       "      <th>4</th>\n",
       "      <td>1.609609e+09</td>\n",
       "      <td>1.609609e+09</td>\n",
       "      <td>92</td>\n",
       "      <td>73</td>\n",
       "      <td>0</td>\n",
       "      <td>2</td>\n",
       "      <td>2</td>\n",
       "      <td>2.0</td>\n",
       "      <td>4188</td>\n",
       "      <td>1066</td>\n",
       "      <td>3911</td>\n",
       "      <td>4881</td>\n",
       "    </tr>\n",
       "    <tr>\n",
       "      <th>...</th>\n",
       "      <td>...</td>\n",
       "      <td>...</td>\n",
       "      <td>...</td>\n",
       "      <td>...</td>\n",
       "      <td>...</td>\n",
       "      <td>...</td>\n",
       "      <td>...</td>\n",
       "      <td>...</td>\n",
       "      <td>...</td>\n",
       "      <td>...</td>\n",
       "      <td>...</td>\n",
       "      <td>...</td>\n",
       "    </tr>\n",
       "    <tr>\n",
       "      <th>93952</th>\n",
       "      <td>1.627775e+09</td>\n",
       "      <td>1.627778e+09</td>\n",
       "      <td>114</td>\n",
       "      <td>72</td>\n",
       "      <td>0</td>\n",
       "      <td>3</td>\n",
       "      <td>0</td>\n",
       "      <td>2139.0</td>\n",
       "      <td>845</td>\n",
       "      <td>324</td>\n",
       "      <td>1098</td>\n",
       "      <td>1467</td>\n",
       "    </tr>\n",
       "    <tr>\n",
       "      <th>93953</th>\n",
       "      <td>1.627775e+09</td>\n",
       "      <td>1.627775e+09</td>\n",
       "      <td>236</td>\n",
       "      <td>239</td>\n",
       "      <td>0</td>\n",
       "      <td>3</td>\n",
       "      <td>3</td>\n",
       "      <td>503.0</td>\n",
       "      <td>845</td>\n",
       "      <td>324</td>\n",
       "      <td>1098</td>\n",
       "      <td>1467</td>\n",
       "    </tr>\n",
       "    <tr>\n",
       "      <th>93954</th>\n",
       "      <td>1.627774e+09</td>\n",
       "      <td>1.627775e+09</td>\n",
       "      <td>90</td>\n",
       "      <td>88</td>\n",
       "      <td>0</td>\n",
       "      <td>3</td>\n",
       "      <td>3</td>\n",
       "      <td>1052.0</td>\n",
       "      <td>845</td>\n",
       "      <td>324</td>\n",
       "      <td>1098</td>\n",
       "      <td>1467</td>\n",
       "    </tr>\n",
       "    <tr>\n",
       "      <th>93955</th>\n",
       "      <td>1.627774e+09</td>\n",
       "      <td>1.627775e+09</td>\n",
       "      <td>17</td>\n",
       "      <td>80</td>\n",
       "      <td>0</td>\n",
       "      <td>3</td>\n",
       "      <td>3</td>\n",
       "      <td>1003.0</td>\n",
       "      <td>845</td>\n",
       "      <td>324</td>\n",
       "      <td>1098</td>\n",
       "      <td>1467</td>\n",
       "    </tr>\n",
       "    <tr>\n",
       "      <th>93956</th>\n",
       "      <td>1.627775e+09</td>\n",
       "      <td>1.627776e+09</td>\n",
       "      <td>56</td>\n",
       "      <td>260</td>\n",
       "      <td>0</td>\n",
       "      <td>3</td>\n",
       "      <td>3</td>\n",
       "      <td>886.0</td>\n",
       "      <td>845</td>\n",
       "      <td>324</td>\n",
       "      <td>1098</td>\n",
       "      <td>1467</td>\n",
       "    </tr>\n",
       "  </tbody>\n",
       "</table>\n",
       "<p>93957 rows × 12 columns</p>\n",
       "</div>"
      ],
      "text/plain": [
       "       pickup_datetime  dropoff_datetime  PULocationID  DOLocationID  SR_Flag  \\\n",
       "0         1.609460e+09      1.609462e+09           245           221        0   \n",
       "1         1.609515e+09      1.609517e+09           206           115        0   \n",
       "2         1.609575e+09      1.609576e+09            56            56        0   \n",
       "3         1.609575e+09      1.609576e+09           130           122        0   \n",
       "4         1.609609e+09      1.609609e+09            92            73        0   \n",
       "...                ...               ...           ...           ...      ...   \n",
       "93952     1.627775e+09      1.627778e+09           114            72        0   \n",
       "93953     1.627775e+09      1.627775e+09           236           239        0   \n",
       "93954     1.627774e+09      1.627775e+09            90            88        0   \n",
       "93955     1.627774e+09      1.627775e+09            17            80        0   \n",
       "93956     1.627775e+09      1.627776e+09            56           260        0   \n",
       "\n",
       "       pickup_day_period  dropoff_day_period  trip_duration  CASE_COUNT  \\\n",
       "0                      0                   0         1620.0        1336   \n",
       "1                      2                   2         1140.0        1336   \n",
       "2                      1                   1          542.0        4188   \n",
       "3                      1                   1          649.0        4188   \n",
       "4                      2                   2            2.0        4188   \n",
       "...                  ...                 ...            ...         ...   \n",
       "93952                  3                   0         2139.0         845   \n",
       "93953                  3                   3          503.0         845   \n",
       "93954                  3                   3         1052.0         845   \n",
       "93955                  3                   3         1003.0         845   \n",
       "93956                  3                   3          886.0         845   \n",
       "\n",
       "       PROBABLE_CASE_COUNT  CASE_COUNT_7DAY_AVG  ALL_CASE_COUNT_7DAY_AVG  \n",
       "0                      784                 3806                     4752  \n",
       "1                      784                 3806                     4752  \n",
       "2                     1066                 3911                     4881  \n",
       "3                     1066                 3911                     4881  \n",
       "4                     1066                 3911                     4881  \n",
       "...                    ...                  ...                      ...  \n",
       "93952                  324                 1098                     1467  \n",
       "93953                  324                 1098                     1467  \n",
       "93954                  324                 1098                     1467  \n",
       "93955                  324                 1098                     1467  \n",
       "93956                  324                 1098                     1467  \n",
       "\n",
       "[93957 rows x 12 columns]"
      ]
     },
     "execution_count": 22,
     "metadata": {},
     "output_type": "execute_result"
    }
   ],
   "source": [
    "merged_sample_covid_df"
   ]
  },
  {
   "cell_type": "code",
   "execution_count": null,
   "id": "ae0592e5-c57f-4bdf-99d3-0760dd90e502",
   "metadata": {},
   "outputs": [],
   "source": []
  }
 ],
 "metadata": {
  "kernelspec": {
   "display_name": "Python 3 (ipykernel)",
   "language": "python",
   "name": "python3"
  },
  "language_info": {
   "codemirror_mode": {
    "name": "ipython",
    "version": 3
   },
   "file_extension": ".py",
   "mimetype": "text/x-python",
   "name": "python",
   "nbconvert_exporter": "python",
   "pygments_lexer": "ipython3",
   "version": "3.7.11"
  }
 },
 "nbformat": 4,
 "nbformat_minor": 5
}
