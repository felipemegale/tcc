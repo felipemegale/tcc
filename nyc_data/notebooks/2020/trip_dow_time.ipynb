{
 "cells": [
  {
   "cell_type": "code",
   "execution_count": 1,
   "id": "3ade5a16-7412-42f8-b44e-e9c87ddd631f",
   "metadata": {},
   "outputs": [],
   "source": [
    "# import pyspark to process large files and create a new spark session\n",
    "from pyspark.sql import SparkSession\n",
    "from pyspark.sql.functions import col, asc, desc, to_timestamp, first\n",
    "import geopandas\n",
    "import numpy as np\n",
    "import matplotlib.pyplot as plt\n",
    "import pandas as pd\n",
    "\n",
    "spark = SparkSession\\\n",
    "    .builder\\\n",
    "    .master('local[*]')\\\n",
    "    .config(\"spark.driver.memory\", \"4g\")\\\n",
    "    .appName('process_tripdata')\\\n",
    "    .getOrCreate()"
   ]
  },
  {
   "cell_type": "code",
   "execution_count": 2,
   "id": "2e9287d0-27d8-4796-8910-e5e76f47df4d",
   "metadata": {},
   "outputs": [],
   "source": [
    "# read all months trip_dow_time\n",
    "jan_trip_dow_time = spark\\\n",
    "    .read\\\n",
    "    .csv('/media/felipe/Files/repos/tcc/nyc_data/csv/2020/01/trip_dow_time.csv', header=True)\n",
    "\n",
    "feb_trip_dow_time = spark\\\n",
    "    .read\\\n",
    "    .csv('/media/felipe/Files/repos/tcc/nyc_data/csv/2020/02/trip_dow_time.csv', header=True)\n",
    "\n",
    "mar_trip_dow_time = spark\\\n",
    "    .read\\\n",
    "    .csv('/media/felipe/Files/repos/tcc/nyc_data/csv/2020/03/trip_dow_time.csv', header=True)\n",
    "\n",
    "apr_trip_dow_time = spark\\\n",
    "    .read\\\n",
    "    .csv('/media/felipe/Files/repos/tcc/nyc_data/csv/2020/04/trip_dow_time.csv', header=True)\n",
    "\n",
    "may_trip_dow_time = spark\\\n",
    "    .read\\\n",
    "    .csv('/media/felipe/Files/repos/tcc/nyc_data/csv/2020/05/trip_dow_time.csv', header=True)\n",
    "\n",
    "jun_trip_dow_time = spark\\\n",
    "    .read\\\n",
    "    .csv('/media/felipe/Files/repos/tcc/nyc_data/csv/2020/06/trip_dow_time.csv', header=True)\n",
    "\n",
    "jul_trip_dow_time = spark\\\n",
    "    .read\\\n",
    "    .csv('/media/felipe/Files/repos/tcc/nyc_data/csv/2020/07/trip_dow_time.csv', header=True)\n",
    "\n",
    "aug_trip_dow_time = spark\\\n",
    "    .read\\\n",
    "    .csv('/media/felipe/Files/repos/tcc/nyc_data/csv/2020/08/trip_dow_time.csv', header=True)\n",
    "\n",
    "sep_trip_dow_time = spark\\\n",
    "    .read\\\n",
    "    .csv('/media/felipe/Files/repos/tcc/nyc_data/csv/2020/09/trip_dow_time.csv', header=True)\n",
    "\n",
    "oct_trip_dow_time = spark\\\n",
    "    .read\\\n",
    "    .csv('/media/felipe/Files/repos/tcc/nyc_data/csv/2020/10/trip_dow_time.csv', header=True)\n",
    "\n",
    "nov_trip_dow_time = spark\\\n",
    "    .read\\\n",
    "    .csv('/media/felipe/Files/repos/tcc/nyc_data/csv/2020/11/trip_dow_time.csv', header=True)\n",
    "\n",
    "dec_trip_dow_time = spark\\\n",
    "    .read\\\n",
    "    .csv('/media/felipe/Files/repos/tcc/nyc_data/csv/2020/12/trip_dow_time.csv', header=True)"
   ]
  },
  {
   "cell_type": "code",
   "execution_count": 3,
   "id": "97636f2a-6a42-4322-90ce-24aa838418a2",
   "metadata": {},
   "outputs": [
    {
     "name": "stdout",
     "output_type": "stream",
     "text": [
      "+---+-------+-------+-------+-------+\n",
      "|dow|morning|    day|   noon|  night|\n",
      "+---+-------+-------+-------+-------+\n",
      "|fri|2032424|5601520|6880310|7892084|\n",
      "|thu|1735793|5461211|6414592|6630789|\n",
      "|tue|1468262|5171909|5865954|5456322|\n",
      "|sat|3361363|4189715|7175256|8216296|\n",
      "|wed|1877630|5342216|6170346|5946375|\n",
      "|mon|1787667|5062334|5672118|5029105|\n",
      "|sun|3938023|3532234|6232366|5729858|\n",
      "+---+-------+-------+-------+-------+\n",
      "\n"
     ]
    }
   ],
   "source": [
    "trip_dow_times = jan_trip_dow_time\\\n",
    "    .union(feb_trip_dow_time)\\\n",
    "    .union(mar_trip_dow_time)\\\n",
    "    .union(apr_trip_dow_time)\\\n",
    "    .union(may_trip_dow_time)\\\n",
    "    .union(jun_trip_dow_time)\\\n",
    "    .union(jul_trip_dow_time)\\\n",
    "    .union(aug_trip_dow_time)\\\n",
    "    .union(sep_trip_dow_time)\\\n",
    "    .union(oct_trip_dow_time)\\\n",
    "    .union(nov_trip_dow_time)\\\n",
    "    .union(dec_trip_dow_time)\n",
    "\n",
    "trip_dow_times = trip_dow_times\\\n",
    "    .withColumn('morning', col('morning').cast('int'))\\\n",
    "    .withColumn('day', col('day').cast('int'))\\\n",
    "    .withColumn('noon', col('noon').cast('int'))\\\n",
    "    .withColumn('night', col('night').cast('int'))\n",
    "\n",
    "trip_dow_times = trip_dow_times\\\n",
    "    .groupBy('day of week')\\\n",
    "    .sum('morning', 'day', 'noon', 'night')\n",
    "\n",
    "trip_dow_times = trip_dow_times\\\n",
    "    .withColumnRenamed(\"day of week\", \"dow\")\\\n",
    "    .withColumnRenamed(\"sum(morning)\", \"morning\")\\\n",
    "    .withColumnRenamed(\"sum(day)\", \"day\")\\\n",
    "    .withColumnRenamed(\"sum(noon)\", \"noon\")\\\n",
    "    .withColumnRenamed(\"sum(night)\", \"night\")\n",
    "\n",
    "trip_dow_times.show()"
   ]
  },
  {
   "cell_type": "code",
   "execution_count": 4,
   "id": "66a5d32a-b29a-47e2-a6f6-17c10f7e555f",
   "metadata": {},
   "outputs": [
    {
     "name": "stdout",
     "output_type": "stream",
     "text": [
      "+---+-------+-------+-------+-------+----+\n",
      "|dow|morning|    day|   noon|  night|code|\n",
      "+---+-------+-------+-------+-------+----+\n",
      "|mon|1787667|5062334|5672118|5029105|   0|\n",
      "|tue|1468262|5171909|5865954|5456322|   1|\n",
      "|wed|1877630|5342216|6170346|5946375|   2|\n",
      "|thu|1735793|5461211|6414592|6630789|   3|\n",
      "|fri|2032424|5601520|6880310|7892084|   4|\n",
      "|sat|3361363|4189715|7175256|8216296|   5|\n",
      "|sun|3938023|3532234|6232366|5729858|   6|\n",
      "+---+-------+-------+-------+-------+----+\n",
      "\n"
     ]
    }
   ],
   "source": [
    "# change day of week string to number\n",
    "dow_map_names = [['mon',0],['tue',1],['wed',2],['thu',3],['fri',4],['sat',5],['sun',6]]\n",
    "dow_map_names_schema = ['map_dow', 'code']\n",
    "\n",
    "dow_map_df = spark.createDataFrame(data=dow_map_names, schema=dow_map_names_schema)\n",
    "\n",
    "# dow_map_df.show()\n",
    "\n",
    "trip_dow_times = trip_dow_times.join(dow_map_df, trip_dow_times.dow == dow_map_df.map_dow)\n",
    "trip_dow_times = trip_dow_times.drop(\"map_dow\")\n",
    "trip_dow_times = trip_dow_times.withColumn('morning', trip_dow_times.morning.cast('int'))\n",
    "trip_dow_times = trip_dow_times.withColumn('day', trip_dow_times.day.cast('int'))\n",
    "trip_dow_times = trip_dow_times.withColumn('noon', trip_dow_times.noon.cast('int'))\n",
    "trip_dow_times = trip_dow_times.withColumn('night', trip_dow_times.night.cast('int'))\n",
    "\n",
    "trip_dow_times.show()"
   ]
  },
  {
   "cell_type": "code",
   "execution_count": 5,
   "id": "6b83e4c0-026e-4221-8f09-a1e100a9960b",
   "metadata": {},
   "outputs": [],
   "source": [
    "# cast trip_dow_time df to array of array\n",
    "trip_dow_times_col = trip_dow_times\\\n",
    "    .orderBy(\"code\")\\\n",
    "    .select(\"dow\",\"morning\",\"day\",\"noon\",\"night\")\\\n",
    "    .collect()\n",
    "\n",
    "trip_dow_times_arr = np.array(trip_dow_times_col)\n",
    "# print(trip_dow_times_arr)"
   ]
  },
  {
   "cell_type": "code",
   "execution_count": 11,
   "id": "abb2fc3e-bf02-42e4-a959-5e73488ff601",
   "metadata": {},
   "outputs": [
    {
     "data": {
      "image/png": "[encoded data removed]",
      "text/plain": [
       "<Figure size 432x288 with 1 Axes>"
      ]
     },
     "metadata": {
      "needs_background": "light"
     },
     "output_type": "display_data"
    }
   ],
   "source": [
    "pandas_df = pd.DataFrame(trip_dow_times_arr, columns=['Day of week','Morning','Day','Noon','Night'])\n",
    "\n",
    "pandas_df['Morning'] = pd.to_numeric(pandas_df['Morning'])\n",
    "pandas_df['Day'] = pd.to_numeric(pandas_df['Day'])\n",
    "pandas_df['Noon'] = pd.to_numeric(pandas_df['Noon'])\n",
    "pandas_df['Night'] = pd.to_numeric(pandas_df['Night'])\n",
    "\n",
    "pandas_df.plot(x='Day of week'\n",
    "               ,kind='bar'\n",
    "               ,stacked=False\n",
    "               ,title='Trip qty by day of week and time of day, 2020'\n",
    "               ,rot=0)\\\n",
    "    .get_figure()\\\n",
    "    .savefig('/media/felipe/Files/repos/tcc/nyc_data/imgs/2020-trip_dow_time.jpg')"
   ]
  },
  {
   "cell_type": "code",
   "execution_count": null,
   "id": "6fe7f2c0-8001-40aa-9101-5efa6741e7d1",
   "metadata": {},
   "outputs": [],
   "source": []
  }
 ],
 "metadata": {
  "kernelspec": {
   "display_name": "Python 3",
   "language": "python",
   "name": "python3"
  },
  "language_info": {
   "codemirror_mode": {
    "name": "ipython",
    "version": 3
   },
   "file_extension": ".py",
   "mimetype": "text/x-python",
   "name": "python",
   "nbconvert_exporter": "python",
   "pygments_lexer": "ipython3",
   "version": "3.7.7"
  }
 },
 "nbformat": 4,
 "nbformat_minor": 5
}
