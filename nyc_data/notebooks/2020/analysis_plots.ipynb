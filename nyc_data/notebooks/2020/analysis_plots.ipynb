{
 "cells": [
  {
   "cell_type": "code",
   "execution_count": 1,
   "id": "d1c04291-217f-4b4d-825d-690c60828cd9",
   "metadata": {},
   "outputs": [],
   "source": [
    "import json\n",
    "import numpy as np\n",
    "import pandas as pd\n",
    "import matplotlib.pyplot as plt\n",
    "\n",
    "with open('2020_scores.json', 'r') as json_file:\n",
    "    scores_json = json.load(json_file)"
   ]
  },
  {
   "cell_type": "code",
   "execution_count": 2,
   "id": "dfc374ab-314f-4c28-b0e5-2101fe3c1e33",
   "metadata": {},
   "outputs": [],
   "source": [
    "decision_tree_scores = scores_json['decision_tree']\n",
    "random_forest_scores = scores_json['random_forest']\n",
    "knn_scores = scores_json['knn']\n",
    "kmeans_scores = scores_json['kmeans']\n",
    "mlp_scores = scores_json['mlp']\n",
    "gnb_scores = scores_json['gnb']\n",
    "cnb_scores = scores_json['cnb']\n",
    "mnb_scores = scores_json['mnb']"
   ]
  },
  {
   "cell_type": "code",
   "execution_count": 3,
   "id": "07c35188-f517-414f-a82c-6b5fcfd0fec6",
   "metadata": {},
   "outputs": [],
   "source": [
    "decision_tree_acc = np.mean(decision_tree_scores['accuracy'])\n",
    "random_forest_acc = max([(x['depth'], np.mean(x['accuracy'])) for x in random_forest_scores], key=lambda x:x[1])\n",
    "knn_acc = max([(x['k'], np.mean(x['accuracy'])) for x in knn_scores], key=lambda x:x[1])\n",
    "kmeans_acc = max([(x['k'], np.mean(x['accuracy'])) for x in kmeans_scores], key=lambda x:x[1])\n",
    "mlp_acc = np.mean(mlp_scores['accuracy'])\n",
    "gnb_acc = np.mean(gnb_scores['accuracy'])\n",
    "cnb_acc = np.mean(cnb_scores['accuracy'])\n",
    "mnb_acc = np.mean(mnb_scores['accuracy'])"
   ]
  },
  {
   "cell_type": "code",
   "execution_count": 4,
   "id": "a840ba1d-5ce4-4d0f-8f57-68d9157922c3",
   "metadata": {},
   "outputs": [],
   "source": [
    "decision_tree_prec = np.mean(decision_tree_scores['precision'])\n",
    "random_forest_prec = max([(x['depth'], np.mean(x['precision'])) for x in random_forest_scores], key=lambda x:x[1])\n",
    "knn_prec = max([(x['k'], np.mean(x['precision'])) for x in knn_scores], key=lambda x:x[1])\n",
    "kmeans_prec = max([(x['k'], np.mean(x['precision'])) for x in kmeans_scores], key=lambda x:x[1])\n",
    "mlp_prec = np.mean(mlp_scores['precision'])\n",
    "gnb_prec = np.mean(gnb_scores['precision'])\n",
    "cnb_prec = np.mean(cnb_scores['precision'])\n",
    "mnb_prec = np.mean(mnb_scores['precision'])"
   ]
  },
  {
   "cell_type": "code",
   "execution_count": 5,
   "id": "c2cb5187-ea2a-411b-8e0f-6278ab7709b2",
   "metadata": {},
   "outputs": [],
   "source": [
    "decision_tree_recall = np.mean(decision_tree_scores['recall'])\n",
    "random_forest_recall = max([(x['depth'], np.mean(x['recall'])) for x in random_forest_scores], key=lambda x:x[1])\n",
    "knn_recall = max([(x['k'], np.mean(x['recall'])) for x in knn_scores], key=lambda x:x[1])\n",
    "kmeans_recall = max([(x['k'], np.mean(x['recall'])) for x in kmeans_scores], key=lambda x:x[1])\n",
    "mlp_recall = np.mean(mlp_scores['recall'])\n",
    "gnb_recall = np.mean(gnb_scores['recall'])\n",
    "cnb_recall = np.mean(cnb_scores['recall'])\n",
    "mnb_recall = np.mean(mnb_scores['recall'])"
   ]
  },
  {
   "cell_type": "code",
   "execution_count": 6,
   "id": "050d591a-07ae-4d0b-9c07-9b931da9c74a",
   "metadata": {},
   "outputs": [],
   "source": [
    "decision_tree_f1 = np.mean(decision_tree_scores['f1'])\n",
    "random_forest_f1 = max([(x['depth'], np.mean(x['f1'])) for x in random_forest_scores], key=lambda x:x[1])\n",
    "knn_f1 = max([(x['k'], np.mean(x['f1'])) for x in knn_scores], key=lambda x:x[1])\n",
    "kmeans_f1 = max([(x['k'], np.mean(x['f1'])) for x in kmeans_scores], key=lambda x:x[1])\n",
    "mlp_f1 = np.mean(mlp_scores['f1'])\n",
    "gnb_f1 = np.mean(gnb_scores['f1'])\n",
    "cnb_f1 = np.mean(cnb_scores['f1'])\n",
    "mnb_f1 = np.mean(mnb_scores['f1'])"
   ]
  },
  {
   "cell_type": "code",
   "execution_count": 7,
   "id": "e2db1a10-d775-4750-84a6-0bb911e88c8c",
   "metadata": {},
   "outputs": [],
   "source": [
    "decision_tree_rmse = np.mean(decision_tree_scores['rmse'])\n",
    "random_forest_rmse = min([(x['depth'], np.mean(x['rmse'])) for x in random_forest_scores], key=lambda x:x[1])\n",
    "knn_rmse = min([(x['k'], np.mean(x['rmse'])) for x in knn_scores], key=lambda x:x[1])\n",
    "kmeans_rmse = min([(x['k'], np.mean(x['rmse'])) for x in kmeans_scores], key=lambda x:x[1])\n",
    "mlp_rmse = np.mean(mlp_scores['rmse'])\n",
    "gnb_rmse = np.mean(gnb_scores['rmse'])\n",
    "cnb_rmse = np.mean(cnb_scores['rmse'])\n",
    "mnb_rmse = np.mean(mnb_scores['rmse'])"
   ]
  },
  {
   "cell_type": "markdown",
   "id": "80a5387b-f444-4624-a98f-ee4d1075b3d9",
   "metadata": {},
   "source": [
    "### Accuracy"
   ]
  },
  {
   "cell_type": "code",
   "execution_count": 8,
   "id": "873ee02a-e5a2-44fa-99a7-629e641f140e",
   "metadata": {},
   "outputs": [
    {
     "data": {
      "text/plain": [
       "0.6533117522871217"
      ]
     },
     "execution_count": 8,
     "metadata": {},
     "output_type": "execute_result"
    }
   ],
   "source": [
    "np.mean([np.mean(x['accuracy']) for x in random_forest_scores])"
   ]
  },
  {
   "cell_type": "markdown",
   "id": "df9d41f9-052d-4efd-8d4f-3f6f67ba166a",
   "metadata": {},
   "source": [
    "### Precision"
   ]
  },
  {
   "cell_type": "code",
   "execution_count": 9,
   "id": "7a2c9866-67f3-4a44-8c13-88d3d1c9642b",
   "metadata": {},
   "outputs": [
    {
     "data": {
      "text/plain": [
       "0.8503411636387088"
      ]
     },
     "execution_count": 9,
     "metadata": {},
     "output_type": "execute_result"
    }
   ],
   "source": [
    "np.mean([np.mean(x['precision']) for x in random_forest_scores])"
   ]
  },
  {
   "cell_type": "markdown",
   "id": "812486d5-caa8-4369-89bb-1bafac440a73",
   "metadata": {},
   "source": [
    "### Recall"
   ]
  },
  {
   "cell_type": "code",
   "execution_count": 10,
   "id": "084f8866-5f99-4b9f-ade3-0216928e3e0e",
   "metadata": {},
   "outputs": [
    {
     "data": {
      "text/plain": [
       "0.10092511013215859"
      ]
     },
     "execution_count": 10,
     "metadata": {},
     "output_type": "execute_result"
    }
   ],
   "source": [
    "np.mean([np.mean(x['recall']) for x in random_forest_scores])"
   ]
  },
  {
   "cell_type": "markdown",
   "id": "c23cf381-4aa8-4846-81a2-ef9f931625c3",
   "metadata": {},
   "source": [
    "### F1"
   ]
  },
  {
   "cell_type": "code",
   "execution_count": 11,
   "id": "462f7e09-77c6-4127-8595-190f74591f0c",
   "metadata": {},
   "outputs": [
    {
     "data": {
      "text/plain": [
       "0.01025795677466202"
      ]
     },
     "execution_count": 11,
     "metadata": {},
     "output_type": "execute_result"
    }
   ],
   "source": [
    "np.mean([np.mean(x['f1']) for x in random_forest_scores])"
   ]
  },
  {
   "cell_type": "markdown",
   "id": "b359293c-df68-4ad5-935f-498cbf76c6ff",
   "metadata": {},
   "source": [
    "### RMSE"
   ]
  },
  {
   "cell_type": "code",
   "execution_count": 12,
   "id": "ed9a39d8-408b-49dd-862c-59bab803fc7c",
   "metadata": {},
   "outputs": [
    {
     "data": {
      "text/plain": [
       "0.4831037033312918"
      ]
     },
     "execution_count": 12,
     "metadata": {},
     "output_type": "execute_result"
    }
   ],
   "source": [
    "np.mean([np.mean(x['rmse']) for x in random_forest_scores])"
   ]
  },
  {
   "cell_type": "code",
   "execution_count": 13,
   "id": "9043d8d9-a33f-4aca-b0a6-d85ffaf74d94",
   "metadata": {},
   "outputs": [
    {
     "name": "stdout",
     "output_type": "stream",
     "text": [
      "Decision tree\n",
      "Acc: 0.652674173117523 | Prec: 0.846320929819299 | Recall: 0.10088105726872247 | F1: 0.010139545299020666 | RMSE: 0.4839816589529088\n",
      "\n",
      "Random forest\n",
      "Acc: (4, 0.6540464461646729) | Prec: (8, 0.8550523676984827) | Recall: (5, 0.10117474302496329) | F1: (8, 0.010443834297913594) | RMSE: (4, 0.48247521716908703)\n",
      "\n",
      "KNN\n",
      "Acc: (2, 0.6652005629838142) | Prec: (2, 0.8642408755033386) | Recall: (1, 0.10014684287812041) | F1: (2, 0.009504671336482596) | RMSE: (2, 0.47542727475511815)\n",
      "\n",
      "KMeans\n",
      "Acc: (1, 0.9520760028149191) | Prec: (1, 0.91006887142248) | Recall: (1, 0.9520760028149191) | F1: (1, 0.9296932013109321) | RMSE: (1, 0.14091537025841241)\n",
      "\n",
      "Multilayer Perceptron\n",
      "Acc: 0.9520760028149192 | Prec: 0.9064487151360338 | Recall: 0.0 | F1: 0.0 | RMSE: 0.2189155023863795\n",
      "\n",
      "Gaussian Naive Bayes\n",
      "Acc: 0.6808163265306122 | Prec: 0.7902167989251903 | Recall: 0.9681350954478708 | F1: 0.6312595542078134 | RMSE: 0.36188536643900787\n",
      "\n",
      "Complement Naive Bayes\n",
      "Acc: 0.6612807881773399 | Prec: 0.7823681985091027 | Recall: 0.9455212922173274 | F1: 0.5033333875090309 | RMSE: 0.4305558902965111\n",
      "\n",
      "Multinomial Naive Bayes\n",
      "Acc: 0.6612807881773399 | Prec: 0.7823681985091027 | Recall: 0.9455212922173274 | F1: 0.5033333875090309 | RMSE: 0.4305558902965111\n"
     ]
    }
   ],
   "source": [
    "print(\"Decision tree\")\n",
    "print(\"Acc: {} | Prec: {} | Recall: {} | F1: {} | RMSE: {}\".format(decision_tree_acc, decision_tree_prec, decision_tree_recall, decision_tree_f1, decision_tree_rmse))\n",
    "print()\n",
    "print(\"Random forest\")\n",
    "print(\"Acc: {} | Prec: {} | Recall: {} | F1: {} | RMSE: {}\".format(random_forest_acc, random_forest_prec, random_forest_recall, random_forest_f1, random_forest_rmse))\n",
    "print()\n",
    "print(\"KNN\")\n",
    "print(\"Acc: {} | Prec: {} | Recall: {} | F1: {} | RMSE: {}\".format(knn_acc, knn_prec, knn_recall, knn_f1, knn_rmse))\n",
    "print()\n",
    "print(\"KMeans\")\n",
    "print(\"Acc: {} | Prec: {} | Recall: {} | F1: {} | RMSE: {}\".format(kmeans_acc, kmeans_prec, kmeans_recall, kmeans_f1, kmeans_rmse))\n",
    "print()\n",
    "print(\"Multilayer Perceptron\")\n",
    "print(\"Acc: {} | Prec: {} | Recall: {} | F1: {} | RMSE: {}\".format(mlp_acc, mlp_prec, mlp_recall, mlp_f1, mlp_rmse))\n",
    "print()\n",
    "print(\"Gaussian Naive Bayes\")\n",
    "print(\"Acc: {} | Prec: {} | Recall: {} | F1: {} | RMSE: {}\".format(gnb_acc, gnb_prec, gnb_recall, gnb_f1, gnb_rmse))\n",
    "print()\n",
    "print(\"Complement Naive Bayes\")\n",
    "print(\"Acc: {} | Prec: {} | Recall: {} | F1: {} | RMSE: {}\".format(cnb_acc, cnb_prec, cnb_recall, cnb_f1, cnb_rmse))\n",
    "print()\n",
    "print(\"Multinomial Naive Bayes\")\n",
    "print(\"Acc: {} | Prec: {} | Recall: {} | F1: {} | RMSE: {}\".format(mnb_acc, mnb_prec, mnb_recall, mnb_f1, mnb_rmse))"
   ]
  },
  {
   "cell_type": "code",
   "execution_count": 14,
   "id": "e7bf8856-14cd-41a9-ba0e-25a4ebedb8b8",
   "metadata": {},
   "outputs": [
    {
     "data": {
      "image/png": "[encoded data removed]",
      "text/plain": [
       "<Figure size 432x288 with 1 Axes>"
      ]
     },
     "metadata": {
      "needs_background": "light"
     },
     "output_type": "display_data"
    }
   ],
   "source": [
    "decision_tree_df_columns = ['metric', 'Value']\n",
    "decision_tree_df_data = [['accuracy', decision_tree_acc],\n",
    "                         ['precision', decision_tree_prec],\n",
    "                         ['recall', decision_tree_recall],\n",
    "                         ['f1', decision_tree_f1],\n",
    "                         ['rmse', decision_tree_rmse]]\n",
    "decision_tree_df = pd.DataFrame(decision_tree_df_data, columns=decision_tree_df_columns)\n",
    "decision_tree_plot = decision_tree_df.plot(kind='bar', x='metric', rot=1, xlabel='', title='Decision Tree', width=0.3)\n",
    "decision_tree_fig = decision_tree_plot.get_figure().savefig('decision_tree.jpg')"
   ]
  },
  {
   "cell_type": "code",
   "execution_count": 15,
   "id": "38f0846e-736b-45aa-a3a3-61b2736978bb",
   "metadata": {},
   "outputs": [
    {
     "data": {
      "image/png": "[encoded data removed]",
      "text/plain": [
       "<Figure size 432x288 with 1 Axes>"
      ]
     },
     "metadata": {
      "needs_background": "light"
     },
     "output_type": "display_data"
    },
    {
     "data": {
      "text/plain": [
       "<Figure size 432x288 with 0 Axes>"
      ]
     },
     "metadata": {},
     "output_type": "display_data"
    }
   ],
   "source": [
    "plt.bar(['accuracy','precision','recall','f1','rmse'], [random_forest_acc[1],\n",
    "                                                         random_forest_prec[1],\n",
    "                                                         random_forest_recall[1],\n",
    "                                                         random_forest_f1[1],\n",
    "                                                         random_forest_rmse[1]], width=0.3)\n",
    "plt.plot(['accuracy','precision','recall','f1','rmse'], [random_forest_acc[0],\n",
    "                                                         random_forest_prec[0],\n",
    "                                                         random_forest_recall[0],\n",
    "                                                         random_forest_f1[0],\n",
    "                                                         random_forest_rmse[0]], color='orange')\n",
    "plt.legend(['Depth', 'Value'])\n",
    "plt.title('Random Forest')\n",
    "plt.show()\n",
    "plt.savefig('random_forest.jpg')"
   ]
  },
  {
   "cell_type": "code",
   "execution_count": 16,
   "id": "5b412da6-1a8f-48af-b830-dce66f5e9854",
   "metadata": {},
   "outputs": [
    {
     "data": {
      "image/png": "[encoded data removed]",
      "text/plain": [
       "<Figure size 432x288 with 1 Axes>"
      ]
     },
     "metadata": {
      "needs_background": "light"
     },
     "output_type": "display_data"
    },
    {
     "data": {
      "text/plain": [
       "<Figure size 432x288 with 0 Axes>"
      ]
     },
     "metadata": {},
     "output_type": "display_data"
    }
   ],
   "source": [
    "plt.bar(['accuracy','precision','recall','f1','rmse'], [knn_acc[1],\n",
    "                                                         knn_prec[1],\n",
    "                                                         knn_recall[1],\n",
    "                                                         knn_f1[1],\n",
    "                                                         knn_rmse[1]], width=0.3)\n",
    "plt.plot(['accuracy','precision','recall','f1','rmse'], [knn_acc[0],\n",
    "                                                         knn_prec[0],\n",
    "                                                         knn_recall[0],\n",
    "                                                         knn_f1[0],\n",
    "                                                         knn_rmse[0]], color='orange')\n",
    "plt.legend(['K', 'Value'])\n",
    "plt.title('KNN')\n",
    "plt.show()\n",
    "plt.savefig('knn.jpg')"
   ]
  },
  {
   "cell_type": "code",
   "execution_count": 17,
   "id": "db27e2cd-e984-469d-a809-14db2e5d6955",
   "metadata": {},
   "outputs": [
    {
     "data": {
      "image/png": "[encoded data removed]",
      "text/plain": [
       "<Figure size 432x288 with 1 Axes>"
      ]
     },
     "metadata": {
      "needs_background": "light"
     },
     "output_type": "display_data"
    },
    {
     "data": {
      "text/plain": [
       "<Figure size 432x288 with 0 Axes>"
      ]
     },
     "metadata": {},
     "output_type": "display_data"
    }
   ],
   "source": [
    "plt.bar(['accuracy','precision','recall','f1','rmse'], [kmeans_acc[1],\n",
    "                                                         kmeans_prec[1],\n",
    "                                                         kmeans_recall[1],\n",
    "                                                         kmeans_f1[1],\n",
    "                                                         kmeans_rmse[1]], width=0.3)\n",
    "plt.plot(['accuracy','precision','recall','f1','rmse'], [kmeans_acc[0],\n",
    "                                                         kmeans_prec[0],\n",
    "                                                         kmeans_recall[0],\n",
    "                                                         kmeans_f1[0],\n",
    "                                                         kmeans_rmse[0]], color='orange')\n",
    "plt.legend(['K', 'Value'])\n",
    "plt.title('KMeans')\n",
    "plt.show()\n",
    "plt.savefig('kmeans.jpg')"
   ]
  },
  {
   "cell_type": "code",
   "execution_count": 18,
   "id": "88753325-767a-4fab-8e38-33f9cad0ea3c",
   "metadata": {},
   "outputs": [
    {
     "data": {
      "image/png": "[encoded data removed]",
      "text/plain": [
       "<Figure size 432x288 with 1 Axes>"
      ]
     },
     "metadata": {
      "needs_background": "light"
     },
     "output_type": "display_data"
    }
   ],
   "source": [
    "mlp_df_columns = ['metric', 'Value']\n",
    "mlp_df_data = [['accuracy', mlp_acc],\n",
    "                         ['precision', mlp_prec],\n",
    "                         ['recall', mlp_recall],\n",
    "                         ['f1', mlp_f1],\n",
    "                         ['rmse', mlp_rmse]]\n",
    "mlp_df = pd.DataFrame(mlp_df_data, columns=mlp_df_columns)\n",
    "mlp_plot = mlp_df.plot(kind='bar', x='metric', rot=1, xlabel='', title='Multilayer Perceptron', width=0.3)\n",
    "mlp_fig = mlp_plot.get_figure().savefig('mlp.jpg')"
   ]
  },
  {
   "cell_type": "code",
   "execution_count": 19,
   "id": "7bd81030-a3d1-4052-893f-47ca1fafdb87",
   "metadata": {},
   "outputs": [
    {
     "data": {
      "image/png": "[encoded data removed]",
      "text/plain": [
       "<Figure size 432x288 with 1 Axes>"
      ]
     },
     "metadata": {
      "needs_background": "light"
     },
     "output_type": "display_data"
    }
   ],
   "source": [
    "gnb_df_columns = ['metric', 'Value']\n",
    "gnb_df_data = [['accuracy', gnb_acc],\n",
    "                         ['precision', gnb_prec],\n",
    "                         ['recall', gnb_recall],\n",
    "                         ['f1', gnb_f1],\n",
    "                         ['rmse', gnb_rmse]]\n",
    "gnb_df = pd.DataFrame(gnb_df_data, columns=gnb_df_columns)\n",
    "gnb_plot = gnb_df.plot(kind='bar', x='metric', rot=1, xlabel='', title='Gaussian Naive Bayes', width=0.3)\n",
    "gnb_fig = gnb_plot.get_figure().savefig('gnb.jpg')"
   ]
  },
  {
   "cell_type": "code",
   "execution_count": 20,
   "id": "db1dc398-4b12-49ba-b10c-a3b7f0c8e2da",
   "metadata": {},
   "outputs": [
    {
     "data": {
      "image/png": "[encoded data removed]",
      "text/plain": [
       "<Figure size 432x288 with 1 Axes>"
      ]
     },
     "metadata": {
      "needs_background": "light"
     },
     "output_type": "display_data"
    }
   ],
   "source": [
    "cnb_df_columns = ['metric', 'Value']\n",
    "cnb_df_data = [['accuracy', cnb_acc],\n",
    "                         ['precision', cnb_prec],\n",
    "                         ['recall', cnb_recall],\n",
    "                         ['f1', cnb_f1],\n",
    "                         ['rmse', cnb_rmse]]\n",
    "cnb_df = pd.DataFrame(cnb_df_data, columns=cnb_df_columns)\n",
    "cnb_plot = cnb_df.plot(kind='bar', x='metric', rot=1, xlabel='', title='Complement Naive Bayes', width=0.3)\n",
    "cnb_fig = cnb_plot.get_figure().savefig('cnb.jpg')"
   ]
  },
  {
   "cell_type": "code",
   "execution_count": 21,
   "id": "ddef129c-424d-42be-b0eb-afa720a4e8bf",
   "metadata": {},
   "outputs": [
    {
     "data": {
      "image/png": "[encoded data removed]",
      "text/plain": [
       "<Figure size 432x288 with 1 Axes>"
      ]
     },
     "metadata": {
      "needs_background": "light"
     },
     "output_type": "display_data"
    }
   ],
   "source": [
    "mnb_df_columns = ['metric', 'Value']\n",
    "mnb_df_data = [['accuracy', mnb_acc],\n",
    "                         ['precision', mnb_prec],\n",
    "                         ['recall', mnb_recall],\n",
    "                         ['f1', mnb_f1],\n",
    "                         ['rmse', mnb_rmse]]\n",
    "mnb_df = pd.DataFrame(mnb_df_data, columns=mnb_df_columns)\n",
    "mnb_plot = mnb_df.plot(kind='bar', x='metric', rot=1, xlabel='', title='Multinomial Naive Bayes', width=0.3)\n",
    "mnb_fig = mnb_plot.get_figure().savefig('mnb')"
   ]
  },
  {
   "cell_type": "code",
   "execution_count": null,
   "id": "ad09daec-918f-498e-9206-a0c90c7a72d9",
   "metadata": {},
   "outputs": [],
   "source": []
  }
 ],
 "metadata": {
  "kernelspec": {
   "display_name": "Python 3 (ipykernel)",
   "language": "python",
   "name": "python3"
  },
  "language_info": {
   "codemirror_mode": {
    "name": "ipython",
    "version": 3
   },
   "file_extension": ".py",
   "mimetype": "text/x-python",
   "name": "python",
   "nbconvert_exporter": "python",
   "pygments_lexer": "ipython3",
   "version": "3.7.11"
  }
 },
 "nbformat": 4,
 "nbformat_minor": 5
}
