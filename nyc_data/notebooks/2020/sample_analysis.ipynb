{
 "cells": [
  {
   "cell_type": "markdown",
   "id": "d08a3bdc-6b63-486f-b7f2-0c1cf3e95b77",
   "metadata": {},
   "source": [
    "# Analysis\n",
    "Given Uber ride information and COVID information from NYC, what what is the likelihood"
   ]
  },
  {
   "cell_type": "code",
   "execution_count": 1,
   "id": "31366b3d-104b-4652-8186-5d543a6fdded",
   "metadata": {},
   "outputs": [],
   "source": [
    "import pandas as pd\n",
    "import numpy as np\n",
    "\n",
    "dataset = pd.read_csv('/home/felipe/repos/tcc/nyc_data/csv/preprocessed_sample.csv')"
   ]
  },
  {
   "cell_type": "code",
   "execution_count": 2,
   "id": "7f8d6af0-463e-4da4-a104-42df2f7945f4",
   "metadata": {},
   "outputs": [],
   "source": [
    "y = dataset['SR_Flag']\n",
    "X = dataset.drop('SR_Flag', axis=1)"
   ]
  },
  {
   "cell_type": "code",
   "execution_count": 3,
   "id": "76408bbb-0776-4e24-9a28-5eec4cd129fd",
   "metadata": {},
   "outputs": [],
   "source": [
    "pd.set_option('display.float_format', lambda x: '%.3f' % x)\n",
    "trip_max_idx = X['trip_duration'].idxmax()"
   ]
  },
  {
   "cell_type": "code",
   "execution_count": 4,
   "id": "206436b7-1386-4508-a130-aca7299d22fa",
   "metadata": {},
   "outputs": [
    {
     "name": "stderr",
     "output_type": "stream",
     "text": [
      "/home/felipe/anaconda3/envs/py37/lib/python3.7/site-packages/ipykernel_launcher.py:1: FutureWarning: In a future version of pandas all arguments of DataFrame.drop except for the argument 'labels' will be keyword-only\n",
      "  \"\"\"Entry point for launching an IPython kernel.\n",
      "/home/felipe/anaconda3/envs/py37/lib/python3.7/site-packages/ipykernel_launcher.py:2: FutureWarning: In a future version of pandas all arguments of Series.drop except for the argument 'labels' will be keyword-only\n",
      "  \n"
     ]
    }
   ],
   "source": [
    "X.drop(X.index[trip_max_idx], 0, inplace=True)\n",
    "y.drop(y.index[trip_max_idx], 0, inplace=True)"
   ]
  },
  {
   "cell_type": "code",
   "execution_count": 5,
   "id": "3a447249-d37a-40ff-b199-b93333372d0f",
   "metadata": {},
   "outputs": [],
   "source": [
    "y = y.apply(lambda x: 0 if x == 0 else 1)"
   ]
  },
  {
   "cell_type": "code",
   "execution_count": 6,
   "id": "03d52a6a-cc12-4b8a-85e2-116a8f9a9819",
   "metadata": {},
   "outputs": [],
   "source": [
    "#      trip_duration <= 5\n",
    "#  5 < trip_duration <= 10\n",
    "# 10 < trip_duration <= 15\n",
    "# 15 < trip_duration <= 20\n",
    "# 20 < trip_duration <= 30\n",
    "# 30 < trip_duration <= 45\n",
    "# 45 < trip_duration <= 60\n",
    "# 60 < trip_duration\n",
    "\n",
    "def get_trip_duration_category_from_duration(trip_duration):\n",
    "    trip_duration = trip_duration/60\n",
    "    if trip_duration <= 5:\n",
    "        return 1\n",
    "    elif 5 < trip_duration <= 10:\n",
    "        return 2\n",
    "    elif 10 < trip_duration <= 15:\n",
    "        return 3\n",
    "    elif 15 < trip_duration <= 20:\n",
    "        return 4\n",
    "    elif 20 < trip_duration <= 30:\n",
    "        return 5\n",
    "    elif 30 < trip_duration <= 45:\n",
    "        return 6\n",
    "    elif 45 < trip_duration <= 60:\n",
    "        return 7\n",
    "    elif 60 < trip_duration:\n",
    "        return 8\n",
    "\n",
    "X['trip_duration'] = X['trip_duration'].apply(get_trip_duration_category_from_duration)"
   ]
  },
  {
   "cell_type": "code",
   "execution_count": 7,
   "id": "8b6898ff-db26-49f3-9107-38cbe9efb0f1",
   "metadata": {},
   "outputs": [],
   "source": [
    "from sklearn.model_selection import cross_validate, cross_val_score\n",
    "from sklearn.metrics import accuracy_score, recall_score, f1_score, make_scorer\n",
    "\n",
    "accuracy_scorer = make_scorer(accuracy_score)\n",
    "recall_scorer = make_scorer(recall_score)\n",
    "f1_scorer = make_scorer(f1_score)"
   ]
  },
  {
   "cell_type": "code",
   "execution_count": 12,
   "id": "bc8cb063-3e25-4537-964b-480fbcdb83de",
   "metadata": {},
   "outputs": [],
   "source": [
    "from sklearn.tree import DecisionTreeClassifier\n",
    "decision_tree_clf = DecisionTreeClassifier(random_state=0)\n",
    "\n",
    "k_folds = range(2,12)\n",
    "\n",
    "decision_tree_scores_cv = cross_validate(decision_tree_clf, X, y, cv=10, scoring={'accuracy': accuracy_scorer, 'recall': recall_scorer, 'f1': f1_scorer})\n",
    "decision_tree_accuracy_scores = decision_tree_scores_cv['test_accuracy']\n",
    "decision_tree_recall_scores = decision_tree_scores_cv['test_recall']\n",
    "decision_tree_f1_scores = decision_tree_scores_cv['test_f1']\n",
    "\n",
    "decision_tree_scores = {'accuracy': decision_tree_accuracy_scores, 'recall': decision_tree_recall_scores, 'f1': decision_tree_f1_scores}"
   ]
  },
  {
   "cell_type": "code",
   "execution_count": 13,
   "id": "50974b7e-1f31-493d-9ab2-58e0e32993a8",
   "metadata": {},
   "outputs": [
    {
     "data": {
      "text/plain": [
       "{'accuracy': array([0.05411682, 0.05453906, 0.09845179, 0.61801548, 0.952076  ,\n",
       "        0.95214638, 0.94764251, 0.95200563, 0.95193526, 0.95214638]),\n",
       " 'recall': array([1.        , 0.        , 0.        , 0.00440529, 0.        ,\n",
       "        0.00146843, 0.00293686, 0.        , 0.        , 0.00146843]),\n",
       " 'f1': array([0.09200838, 0.        , 0.        , 0.00110416, 0.        ,\n",
       "        0.00293255, 0.00534759, 0.        , 0.        , 0.00293255])}"
      ]
     },
     "execution_count": 13,
     "metadata": {},
     "output_type": "execute_result"
    }
   ],
   "source": [
    "decision_tree_scores"
   ]
  },
  {
   "cell_type": "code",
   "execution_count": 14,
   "id": "a939c204-0f07-4ad0-ab35-0976cc5b2762",
   "metadata": {},
   "outputs": [],
   "source": [
    "from sklearn.ensemble import RandomForestClassifier\n",
    "\n",
    "depths = range(1,11)\n",
    "random_forest_scores = []\n",
    "\n",
    "for depth in depths:\n",
    "    random_forest = RandomForestClassifier(max_depth=depth, random_state=0)\n",
    "    scores = cross_validate(decision_tree_clf, X, y, cv=10, scoring={'accuracy': accuracy_scorer, 'recall': recall_scorer, 'f1': f1_scorer})\n",
    "    random_forest_scores.append(scores)"
   ]
  },
  {
   "cell_type": "code",
   "execution_count": 15,
   "id": "f1904fea-62eb-47b4-a3f4-e0f46dfaceb5",
   "metadata": {},
   "outputs": [
    {
     "data": {
      "text/plain": [
       "[{'fit_time': array([0.44908595, 0.37511659, 0.35484886, 0.37873745, 0.42142606,\n",
       "         0.43230247, 0.42915583, 0.41904831, 0.39918923, 0.34738207]),\n",
       "  'score_time': array([0.00647116, 0.00687599, 0.00703812, 0.00656533, 0.00664759,\n",
       "         0.0060885 , 0.00596619, 0.00607467, 0.00633764, 0.00625205]),\n",
       "  'test_accuracy': array([0.05411682, 0.05453906, 0.09845179, 0.61801548, 0.952076  ,\n",
       "         0.95214638, 0.94764251, 0.95200563, 0.95193526, 0.95214638]),\n",
       "  'test_recall': array([1.        , 0.        , 0.        , 0.00440529, 0.        ,\n",
       "         0.00146843, 0.00293686, 0.        , 0.        , 0.00146843]),\n",
       "  'test_f1': array([0.09200838, 0.        , 0.        , 0.00110416, 0.        ,\n",
       "         0.00293255, 0.00534759, 0.        , 0.        , 0.00293255])},\n",
       " {'fit_time': array([0.43662333, 0.37405038, 0.35597682, 0.38113689, 0.42293882,\n",
       "         0.42770171, 0.42503405, 0.41690803, 0.3948164 , 0.34085941]),\n",
       "  'score_time': array([0.00652313, 0.00697899, 0.00732446, 0.00679851, 0.00624394,\n",
       "         0.00613141, 0.00601983, 0.00593925, 0.00584555, 0.00590181]),\n",
       "  'test_accuracy': array([0.05411682, 0.05453906, 0.09845179, 0.61801548, 0.952076  ,\n",
       "         0.95214638, 0.94764251, 0.95200563, 0.95193526, 0.95214638]),\n",
       "  'test_recall': array([1.        , 0.        , 0.        , 0.00440529, 0.        ,\n",
       "         0.00146843, 0.00293686, 0.        , 0.        , 0.00146843]),\n",
       "  'test_f1': array([0.09200838, 0.        , 0.        , 0.00110416, 0.        ,\n",
       "         0.00293255, 0.00534759, 0.        , 0.        , 0.00293255])},\n",
       " {'fit_time': array([0.43189836, 0.36841202, 0.35051155, 0.37661195, 0.41917586,\n",
       "         0.42714   , 0.42602301, 0.41925669, 0.39477873, 0.34313941]),\n",
       "  'score_time': array([0.00638032, 0.00653005, 0.00703049, 0.00654483, 0.00608754,\n",
       "         0.00595832, 0.00629497, 0.00594211, 0.00640893, 0.00587869]),\n",
       "  'test_accuracy': array([0.05411682, 0.05453906, 0.09845179, 0.61801548, 0.952076  ,\n",
       "         0.95214638, 0.94764251, 0.95200563, 0.95193526, 0.95214638]),\n",
       "  'test_recall': array([1.        , 0.        , 0.        , 0.00440529, 0.        ,\n",
       "         0.00146843, 0.00293686, 0.        , 0.        , 0.00146843]),\n",
       "  'test_f1': array([0.09200838, 0.        , 0.        , 0.00110416, 0.        ,\n",
       "         0.00293255, 0.00534759, 0.        , 0.        , 0.00293255])},\n",
       " {'fit_time': array([0.43437314, 0.36875987, 0.35065508, 0.37745667, 0.42003107,\n",
       "         0.43195987, 0.43176436, 0.41691756, 0.39542842, 0.34506726]),\n",
       "  'score_time': array([0.00628352, 0.00667477, 0.00683308, 0.00622988, 0.00610137,\n",
       "         0.00626206, 0.00600076, 0.00602794, 0.00610399, 0.00603294]),\n",
       "  'test_accuracy': array([0.05411682, 0.05453906, 0.09845179, 0.61801548, 0.952076  ,\n",
       "         0.95214638, 0.94764251, 0.95200563, 0.95193526, 0.95214638]),\n",
       "  'test_recall': array([1.        , 0.        , 0.        , 0.00440529, 0.        ,\n",
       "         0.00146843, 0.00293686, 0.        , 0.        , 0.00146843]),\n",
       "  'test_f1': array([0.09200838, 0.        , 0.        , 0.00110416, 0.        ,\n",
       "         0.00293255, 0.00534759, 0.        , 0.        , 0.00293255])},\n",
       " {'fit_time': array([0.43163466, 0.36955619, 0.351753  , 0.3786633 , 0.42087626,\n",
       "         0.42774844, 0.42557907, 0.41736913, 0.39538097, 0.3430872 ]),\n",
       "  'score_time': array([0.00631905, 0.00679326, 0.00697541, 0.00671649, 0.00591159,\n",
       "         0.00608301, 0.00603414, 0.00588417, 0.00625753, 0.00603342]),\n",
       "  'test_accuracy': array([0.05411682, 0.05453906, 0.09845179, 0.61801548, 0.952076  ,\n",
       "         0.95214638, 0.94764251, 0.95200563, 0.95193526, 0.95214638]),\n",
       "  'test_recall': array([1.        , 0.        , 0.        , 0.00440529, 0.        ,\n",
       "         0.00146843, 0.00293686, 0.        , 0.        , 0.00146843]),\n",
       "  'test_f1': array([0.09200838, 0.        , 0.        , 0.00110416, 0.        ,\n",
       "         0.00293255, 0.00534759, 0.        , 0.        , 0.00293255])},\n",
       " {'fit_time': array([0.43272185, 0.37009501, 0.35674787, 0.37981772, 0.42979074,\n",
       "         0.44338727, 0.43057323, 0.42087603, 0.40196371, 0.34277701]),\n",
       "  'score_time': array([0.00641394, 0.00691867, 0.00708938, 0.00632   , 0.00604129,\n",
       "         0.00606441, 0.00660253, 0.00588226, 0.00623345, 0.0061307 ]),\n",
       "  'test_accuracy': array([0.05411682, 0.05453906, 0.09845179, 0.61801548, 0.952076  ,\n",
       "         0.95214638, 0.94764251, 0.95200563, 0.95193526, 0.95214638]),\n",
       "  'test_recall': array([1.        , 0.        , 0.        , 0.00440529, 0.        ,\n",
       "         0.00146843, 0.00293686, 0.        , 0.        , 0.00146843]),\n",
       "  'test_f1': array([0.09200838, 0.        , 0.        , 0.00110416, 0.        ,\n",
       "         0.00293255, 0.00534759, 0.        , 0.        , 0.00293255])},\n",
       " {'fit_time': array([0.43584251, 0.37297344, 0.35187316, 0.37793517, 0.44905448,\n",
       "         0.43623853, 0.43161106, 0.42243242, 0.40858459, 0.35275936]),\n",
       "  'score_time': array([0.00661826, 0.00747728, 0.00688028, 0.00668764, 0.00608182,\n",
       "         0.00696206, 0.00757742, 0.00748658, 0.00716138, 0.00631571]),\n",
       "  'test_accuracy': array([0.05411682, 0.05453906, 0.09845179, 0.61801548, 0.952076  ,\n",
       "         0.95214638, 0.94764251, 0.95200563, 0.95193526, 0.95214638]),\n",
       "  'test_recall': array([1.        , 0.        , 0.        , 0.00440529, 0.        ,\n",
       "         0.00146843, 0.00293686, 0.        , 0.        , 0.00146843]),\n",
       "  'test_f1': array([0.09200838, 0.        , 0.        , 0.00110416, 0.        ,\n",
       "         0.00293255, 0.00534759, 0.        , 0.        , 0.00293255])},\n",
       " {'fit_time': array([0.43367887, 0.36977696, 0.35165858, 0.37807655, 0.41946125,\n",
       "         0.42720699, 0.43070602, 0.4403255 , 0.40333033, 0.34793496]),\n",
       "  'score_time': array([0.00657558, 0.00666428, 0.00691581, 0.00672579, 0.00601459,\n",
       "         0.00614285, 0.00626302, 0.00609899, 0.0060153 , 0.00606823]),\n",
       "  'test_accuracy': array([0.05411682, 0.05453906, 0.09845179, 0.61801548, 0.952076  ,\n",
       "         0.95214638, 0.94764251, 0.95200563, 0.95193526, 0.95214638]),\n",
       "  'test_recall': array([1.        , 0.        , 0.        , 0.00440529, 0.        ,\n",
       "         0.00146843, 0.00293686, 0.        , 0.        , 0.00146843]),\n",
       "  'test_f1': array([0.09200838, 0.        , 0.        , 0.00110416, 0.        ,\n",
       "         0.00293255, 0.00534759, 0.        , 0.        , 0.00293255])},\n",
       " {'fit_time': array([0.43904352, 0.3740623 , 0.35832024, 0.38413477, 0.43104982,\n",
       "         0.43940139, 0.43636084, 0.42486048, 0.40055823, 0.34755182]),\n",
       "  'score_time': array([0.00682569, 0.00680518, 0.0071795 , 0.00682449, 0.00622702,\n",
       "         0.00612092, 0.00631976, 0.00625253, 0.00616002, 0.00678921]),\n",
       "  'test_accuracy': array([0.05411682, 0.05453906, 0.09845179, 0.61801548, 0.952076  ,\n",
       "         0.95214638, 0.94764251, 0.95200563, 0.95193526, 0.95214638]),\n",
       "  'test_recall': array([1.        , 0.        , 0.        , 0.00440529, 0.        ,\n",
       "         0.00146843, 0.00293686, 0.        , 0.        , 0.00146843]),\n",
       "  'test_f1': array([0.09200838, 0.        , 0.        , 0.00110416, 0.        ,\n",
       "         0.00293255, 0.00534759, 0.        , 0.        , 0.00293255])},\n",
       " {'fit_time': array([0.44006467, 0.37529349, 0.35919952, 0.385849  , 0.42976379,\n",
       "         0.43478465, 0.43399858, 0.42399335, 0.3996551 , 0.34762239]),\n",
       "  'score_time': array([0.00657415, 0.00701594, 0.00730634, 0.00679111, 0.00623894,\n",
       "         0.00624824, 0.00636196, 0.00626493, 0.00616717, 0.00609136]),\n",
       "  'test_accuracy': array([0.05411682, 0.05453906, 0.09845179, 0.61801548, 0.952076  ,\n",
       "         0.95214638, 0.94764251, 0.95200563, 0.95193526, 0.95214638]),\n",
       "  'test_recall': array([1.        , 0.        , 0.        , 0.00440529, 0.        ,\n",
       "         0.00146843, 0.00293686, 0.        , 0.        , 0.00146843]),\n",
       "  'test_f1': array([0.09200838, 0.        , 0.        , 0.00110416, 0.        ,\n",
       "         0.00293255, 0.00534759, 0.        , 0.        , 0.00293255])}]"
      ]
     },
     "execution_count": 15,
     "metadata": {},
     "output_type": "execute_result"
    }
   ],
   "source": [
    "random_forest_scores"
   ]
  },
  {
   "cell_type": "code",
   "execution_count": 16,
   "id": "db1eb508-1349-4e8b-86e5-206f033ffcd2",
   "metadata": {},
   "outputs": [],
   "source": [
    "from sklearn.neighbors import KNeighborsClassifier\n",
    "\n",
    "k_values = range(1,6)\n",
    "knn_scores = []\n",
    "\n",
    "for k in k_values:\n",
    "    knn = KNeighborsClassifier(n_neighbors=k)\n",
    "    scores = cross_validate(knn, X, y, cv=10, scoring={'accuracy': accuracy_scorer, 'recall': recall_scorer, 'f1': f1_scorer})\n",
    "    knn_scores.append(scores)"
   ]
  },
  {
   "cell_type": "code",
   "execution_count": 17,
   "id": "1e803da5-a85f-4dad-a998-de57ffcc1302",
   "metadata": {},
   "outputs": [
    {
     "data": {
      "text/plain": [
       "[{'fit_time': array([14.84459066, 14.89941931, 15.0635047 , 14.51857686, 12.56020975,\n",
       "         14.86787701, 15.76802921, 17.98520064, 15.79055738, 13.73194814]),\n",
       "  'score_time': array([0.24651337, 0.2575345 , 0.24527502, 0.24595094, 0.24759889,\n",
       "         0.25109887, 0.24246359, 0.24988508, 0.249156  , 0.25768733]),\n",
       "  'test_accuracy': array([0.05439831, 0.04447572, 0.08719212, 0.61090781, 0.952076  ,\n",
       "         0.952076  , 0.95087966, 0.952076  , 0.60190007, 0.952076  ]),\n",
       "  'test_recall': array([1.        , 0.        , 0.        , 0.        , 0.        ,\n",
       "         0.        , 0.        , 0.        , 0.00146843, 0.        ]),\n",
       "  'test_f1': array([0.09203325, 0.        , 0.        , 0.        , 0.        ,\n",
       "         0.        , 0.        , 0.        , 0.00035342, 0.        ])},\n",
       " {'fit_time': array([16.66842341, 15.97079182, 16.37093878, 14.59956241, 12.69203138,\n",
       "         14.47011161, 14.99907589, 15.41337824, 15.81996465, 13.33957505]),\n",
       "  'score_time': array([0.25226712, 0.2526691 , 0.25122786, 0.25068974, 0.25054955,\n",
       "         0.25060058, 0.25066543, 0.25236464, 0.24759603, 0.2599299 ]),\n",
       "  'test_accuracy': array([0.05531316, 0.07874736, 0.15066854, 0.65475018, 0.952076  ,\n",
       "         0.952076  , 0.952076  , 0.952076  , 0.95214638, 0.952076  ]),\n",
       "  'test_recall': array([1.        , 0.        , 0.        , 0.        , 0.        ,\n",
       "         0.        , 0.        , 0.        , 0.00146843, 0.        ]),\n",
       "  'test_f1': array([0.09211416, 0.        , 0.        , 0.        , 0.        ,\n",
       "         0.        , 0.        , 0.        , 0.00293255, 0.        ])},\n",
       " {'fit_time': array([14.35732269, 15.53993773, 15.67982125, 14.99840283, 13.43357754,\n",
       "         15.47011113, 15.32942653, 16.43032837, 16.58020544, 13.57002616]),\n",
       "  'score_time': array([0.24134374, 0.24974036, 0.25081086, 0.2547617 , 0.25278497,\n",
       "         0.2514739 , 0.25256729, 0.2555697 , 0.25214195, 0.25967693]),\n",
       "  'test_accuracy': array([0.05517241, 0.02610837, 0.04285714, 0.58550317, 0.952076  ,\n",
       "         0.952076  , 0.952076  , 0.952076  , 0.95214638, 0.952076  ]),\n",
       "  'test_recall': array([1.        , 0.        , 0.        , 0.        , 0.        ,\n",
       "         0.        , 0.        , 0.        , 0.00146843, 0.        ]),\n",
       "  'test_f1': array([0.0921017 , 0.        , 0.        , 0.        , 0.        ,\n",
       "         0.        , 0.        , 0.        , 0.00293255, 0.        ])},\n",
       " {'fit_time': array([14.63750482, 14.62923002, 15.06651282, 14.41893482, 13.37537909,\n",
       "         15.53981447, 15.20125508, 15.98372364, 15.11112761, 13.45975924]),\n",
       "  'score_time': array([0.24897933, 0.24986458, 0.2487452 , 0.26354742, 0.24839377,\n",
       "         0.24592662, 0.25693154, 0.25280619, 0.25142312, 0.26264787]),\n",
       "  'test_accuracy': array([0.05545391, 0.03807178, 0.0643209 , 0.6156228 , 0.952076  ,\n",
       "         0.952076  , 0.952076  , 0.952076  , 0.952076  , 0.952076  ]),\n",
       "  'test_recall': array([1., 0., 0., 0., 0., 0., 0., 0., 0., 0.]),\n",
       "  'test_f1': array([0.09212662, 0.        , 0.        , 0.        , 0.        ,\n",
       "         0.        , 0.        , 0.        , 0.        , 0.        ])},\n",
       " {'fit_time': array([15.66473937, 15.21270442, 15.4752357 , 14.80301905, 13.345469  ,\n",
       "         15.0468545 , 15.4168849 , 15.11970448, 14.83489203, 12.68433499]),\n",
       "  'score_time': array([0.25272369, 0.25091243, 0.24864626, 0.25944495, 0.26091242,\n",
       "         0.25060296, 0.25448966, 0.25154638, 0.2484591 , 0.25556231]),\n",
       "  'test_accuracy': array([0.05524279, 0.01766362, 0.02695285, 0.58494018, 0.952076  ,\n",
       "         0.952076  , 0.952076  , 0.952076  , 0.952076  , 0.952076  ]),\n",
       "  'test_recall': array([1., 0., 0., 0., 0., 0., 0., 0., 0., 0.]),\n",
       "  'test_f1': array([0.09210793, 0.        , 0.        , 0.        , 0.        ,\n",
       "         0.        , 0.        , 0.        , 0.        , 0.        ])}]"
      ]
     },
     "execution_count": 17,
     "metadata": {},
     "output_type": "execute_result"
    }
   ],
   "source": [
    "knn_scores"
   ]
  },
  {
   "cell_type": "code",
   "execution_count": 18,
   "id": "4f373bac-a3a1-44d8-987d-0818d4d351a1",
   "metadata": {},
   "outputs": [],
   "source": [
    "from sklearn.cluster import KMeans\n",
    "\n",
    "k_values = range(1,6)\n",
    "kmeans_scores = []\n",
    "\n",
    "kmeans_recall_scorer = make_scorer(recall_score, zero_division=1, average='weighted')\n",
    "kmeans_f1_scorer = make_scorer(f1_score, zero_division=1, average='weighted')\n",
    "\n",
    "for k in k_values:\n",
    "    kmeans = KMeans(n_clusters=k, random_state=0)\n",
    "    acc_scores = cross_val_score(kmeans, X, y, cv=10, scoring='accuracy')\n",
    "    recall_scores = cross_val_score(kmeans, X, y, cv=10, scoring=kmeans_recall_scorer)\n",
    "    f1_scores = cross_val_score(kmeans, X, y, cv=10, scoring=kmeans_f1_scorer)\n",
    "    kmeans_scores.append(scores)"
   ]
  },
  {
   "cell_type": "code",
   "execution_count": 19,
   "id": "6ab421d5-4acc-44a5-8bd0-8d4c3c9e076c",
   "metadata": {},
   "outputs": [
    {
     "data": {
      "text/plain": [
       "[{'fit_time': array([15.66473937, 15.21270442, 15.4752357 , 14.80301905, 13.345469  ,\n",
       "         15.0468545 , 15.4168849 , 15.11970448, 14.83489203, 12.68433499]),\n",
       "  'score_time': array([0.25272369, 0.25091243, 0.24864626, 0.25944495, 0.26091242,\n",
       "         0.25060296, 0.25448966, 0.25154638, 0.2484591 , 0.25556231]),\n",
       "  'test_accuracy': array([0.05524279, 0.01766362, 0.02695285, 0.58494018, 0.952076  ,\n",
       "         0.952076  , 0.952076  , 0.952076  , 0.952076  , 0.952076  ]),\n",
       "  'test_recall': array([1., 0., 0., 0., 0., 0., 0., 0., 0., 0.]),\n",
       "  'test_f1': array([0.09210793, 0.        , 0.        , 0.        , 0.        ,\n",
       "         0.        , 0.        , 0.        , 0.        , 0.        ])},\n",
       " {'fit_time': array([15.66473937, 15.21270442, 15.4752357 , 14.80301905, 13.345469  ,\n",
       "         15.0468545 , 15.4168849 , 15.11970448, 14.83489203, 12.68433499]),\n",
       "  'score_time': array([0.25272369, 0.25091243, 0.24864626, 0.25944495, 0.26091242,\n",
       "         0.25060296, 0.25448966, 0.25154638, 0.2484591 , 0.25556231]),\n",
       "  'test_accuracy': array([0.05524279, 0.01766362, 0.02695285, 0.58494018, 0.952076  ,\n",
       "         0.952076  , 0.952076  , 0.952076  , 0.952076  , 0.952076  ]),\n",
       "  'test_recall': array([1., 0., 0., 0., 0., 0., 0., 0., 0., 0.]),\n",
       "  'test_f1': array([0.09210793, 0.        , 0.        , 0.        , 0.        ,\n",
       "         0.        , 0.        , 0.        , 0.        , 0.        ])},\n",
       " {'fit_time': array([15.66473937, 15.21270442, 15.4752357 , 14.80301905, 13.345469  ,\n",
       "         15.0468545 , 15.4168849 , 15.11970448, 14.83489203, 12.68433499]),\n",
       "  'score_time': array([0.25272369, 0.25091243, 0.24864626, 0.25944495, 0.26091242,\n",
       "         0.25060296, 0.25448966, 0.25154638, 0.2484591 , 0.25556231]),\n",
       "  'test_accuracy': array([0.05524279, 0.01766362, 0.02695285, 0.58494018, 0.952076  ,\n",
       "         0.952076  , 0.952076  , 0.952076  , 0.952076  , 0.952076  ]),\n",
       "  'test_recall': array([1., 0., 0., 0., 0., 0., 0., 0., 0., 0.]),\n",
       "  'test_f1': array([0.09210793, 0.        , 0.        , 0.        , 0.        ,\n",
       "         0.        , 0.        , 0.        , 0.        , 0.        ])},\n",
       " {'fit_time': array([15.66473937, 15.21270442, 15.4752357 , 14.80301905, 13.345469  ,\n",
       "         15.0468545 , 15.4168849 , 15.11970448, 14.83489203, 12.68433499]),\n",
       "  'score_time': array([0.25272369, 0.25091243, 0.24864626, 0.25944495, 0.26091242,\n",
       "         0.25060296, 0.25448966, 0.25154638, 0.2484591 , 0.25556231]),\n",
       "  'test_accuracy': array([0.05524279, 0.01766362, 0.02695285, 0.58494018, 0.952076  ,\n",
       "         0.952076  , 0.952076  , 0.952076  , 0.952076  , 0.952076  ]),\n",
       "  'test_recall': array([1., 0., 0., 0., 0., 0., 0., 0., 0., 0.]),\n",
       "  'test_f1': array([0.09210793, 0.        , 0.        , 0.        , 0.        ,\n",
       "         0.        , 0.        , 0.        , 0.        , 0.        ])},\n",
       " {'fit_time': array([15.66473937, 15.21270442, 15.4752357 , 14.80301905, 13.345469  ,\n",
       "         15.0468545 , 15.4168849 , 15.11970448, 14.83489203, 12.68433499]),\n",
       "  'score_time': array([0.25272369, 0.25091243, 0.24864626, 0.25944495, 0.26091242,\n",
       "         0.25060296, 0.25448966, 0.25154638, 0.2484591 , 0.25556231]),\n",
       "  'test_accuracy': array([0.05524279, 0.01766362, 0.02695285, 0.58494018, 0.952076  ,\n",
       "         0.952076  , 0.952076  , 0.952076  , 0.952076  , 0.952076  ]),\n",
       "  'test_recall': array([1., 0., 0., 0., 0., 0., 0., 0., 0., 0.]),\n",
       "  'test_f1': array([0.09210793, 0.        , 0.        , 0.        , 0.        ,\n",
       "         0.        , 0.        , 0.        , 0.        , 0.        ])}]"
      ]
     },
     "execution_count": 19,
     "metadata": {},
     "output_type": "execute_result"
    }
   ],
   "source": [
    "kmeans_scores"
   ]
  },
  {
   "cell_type": "code",
   "execution_count": 20,
   "id": "5d6c5b17-2603-47b2-af96-7141c46a44bb",
   "metadata": {},
   "outputs": [],
   "source": [
    "from sklearn.neural_network import MLPClassifier\n",
    "from sklearn.model_selection import cross_validate\n",
    "\n",
    "mlp_classifier = MLPClassifier(solver='adam', alpha=1e-5, hidden_layer_sizes=(5, 2), random_state=1)\n",
    "mlp_scores = cross_validate(mlp_classifier, X, y, cv=10, scoring=('accuracy', 'recall', 'f1'))"
   ]
  },
  {
   "cell_type": "code",
   "execution_count": 21,
   "id": "df8aad11-b788-4cab-a062-2842ce2cf10c",
   "metadata": {},
   "outputs": [],
   "source": [
    "from sklearn.naive_bayes import GaussianNB\n",
    "\n",
    "gnb_classifier = GaussianNB()\n",
    "gnb_scores = cross_validate(gnb_classifier, X, y, cv=10, scoring=('accuracy', 'recall', 'f1'))"
   ]
  },
  {
   "cell_type": "code",
   "execution_count": null,
   "id": "ff3d7994-cfb6-418c-8670-400112f0dd8d",
   "metadata": {},
   "outputs": [],
   "source": [
    "supervised_scores = {'decision_tree': decision_tree_scores,\n",
    "                     'random_forest': random_forest_scores,\n",
    "                     'knn': knn_scores,\n",
    "                     'kmeans': kmeans_scores,\n",
    "                     'mlp': mlp_scores,\n",
    "                     'gnb': gnb_scores}"
   ]
  },
  {
   "cell_type": "code",
   "execution_count": null,
   "id": "5cf59fdc-10e7-45d4-9c6f-9c11b791c039",
   "metadata": {},
   "outputs": [],
   "source": [
    "supervised_scores"
   ]
  },
  {
   "cell_type": "code",
   "execution_count": null,
   "id": "74eb5183-517d-45d0-be66-9dd276d95e31",
   "metadata": {},
   "outputs": [],
   "source": []
  }
 ],
 "metadata": {
  "kernelspec": {
   "display_name": "Python 3 (ipykernel)",
   "language": "python",
   "name": "python3"
  },
  "language_info": {
   "codemirror_mode": {
    "name": "ipython",
    "version": 3
   },
   "file_extension": ".py",
   "mimetype": "text/x-python",
   "name": "python",
   "nbconvert_exporter": "python",
   "pygments_lexer": "ipython3",
   "version": "3.7.11"
  }
 },
 "nbformat": 4,
 "nbformat_minor": 5
}
