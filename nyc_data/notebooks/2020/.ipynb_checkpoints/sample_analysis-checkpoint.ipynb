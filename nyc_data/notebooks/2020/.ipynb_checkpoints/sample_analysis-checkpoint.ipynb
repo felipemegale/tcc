{
 "cells": [
  {
   "cell_type": "code",
   "execution_count": 1,
   "id": "b4216f3f-a979-414e-9f28-9450a116d0ff",
   "metadata": {},
   "outputs": [],
   "source": [
    "import pandas as pd\n",
    "\n",
    "dataset = pd.read_csv('/home/felipe/repos/tcc/nyc_data/csv/preprocessed_sample.csv')"
   ]
  },
  {
   "cell_type": "code",
   "execution_count": 2,
   "id": "7f8d6af0-463e-4da4-a104-42df2f7945f4",
   "metadata": {},
   "outputs": [
    {
     "data": {
      "text/plain": [
       "((1416073, 11), (1416073,))"
      ]
     },
     "execution_count": 2,
     "metadata": {},
     "output_type": "execute_result"
    }
   ],
   "source": [
    "import numpy as np\n",
    "from sklearn.svm import SVR\n",
    "from sklearn.pipeline import make_pipeline\n",
    "from sklearn.preprocessing import StandardScaler\n",
    "\n",
    "y = dataset['SR_Flag']\n",
    "X = dataset.drop('SR_Flag', axis=1)\n",
    "X.shape, y.shape"
   ]
  },
  {
   "cell_type": "code",
   "execution_count": 3,
   "id": "3a447249-d37a-40ff-b199-b93333372d0f",
   "metadata": {},
   "outputs": [],
   "source": [
    "y = y.apply(lambda x: 0 if x == 0 else 1)"
   ]
  },
  {
   "cell_type": "code",
   "execution_count": null,
   "id": "8b6898ff-db26-49f3-9107-38cbe9efb0f1",
   "metadata": {},
   "outputs": [],
   "source": [
    "from datetime import datetime\n",
    "init = datetime.now()\n",
    "\n",
    "# from sklearn.model_selection import cross_val_score\n",
    "regr = make_pipeline(StandardScaler(), SVR(C=1.0, epsilon=0.2))\n",
    "# f1_scores = cross_val_score(regr, X, y, cv=2, scoring='f1')\n",
    "fit = regr.fit(X, y)\n",
    "end = datetime.now()\n",
    "\n",
    "print(end-init)"
   ]
  },
  {
   "cell_type": "code",
   "execution_count": null,
   "id": "bbd1f3f7-53d8-496e-b90b-29bfa32263c8",
   "metadata": {},
   "outputs": [],
   "source": [
    "print(\"%0.2f accuracy with a standard deviation of %0.2f\" % (scores.mean(), scores.std()))"
   ]
  },
  {
   "cell_type": "code",
   "execution_count": null,
   "id": "bc8cb063-3e25-4537-964b-480fbcdb83de",
   "metadata": {},
   "outputs": [],
   "source": []
  }
 ],
 "metadata": {
  "kernelspec": {
   "display_name": "Python 3 (ipykernel)",
   "language": "python",
   "name": "python3"
  },
  "language_info": {
   "codemirror_mode": {
    "name": "ipython",
    "version": 3
   },
   "file_extension": ".py",
   "mimetype": "text/x-python",
   "name": "python",
   "nbconvert_exporter": "python",
   "pygments_lexer": "ipython3",
   "version": "3.7.11"
  }
 },
 "nbformat": 4,
 "nbformat_minor": 5
}
