{
 "cells": [
  {
   "cell_type": "code",
   "execution_count": 1,
   "id": "bd1d8a90-1170-434c-8379-abd60c575579",
   "metadata": {},
   "outputs": [
    {
     "name": "stderr",
     "output_type": "stream",
     "text": [
      "21/11/10 14:15:09 WARN Utils: Your hostname, LAPTOP-VD4O2HIL resolves to a loopback address: 127.0.1.1; using 172.17.55.88 instead (on interface eth0)\n",
      "21/11/10 14:15:09 WARN Utils: Set SPARK_LOCAL_IP if you need to bind to another address\n",
      "21/11/10 14:15:11 WARN NativeCodeLoader: Unable to load native-hadoop library for your platform... using builtin-java classes where applicable\n",
      "Using Spark's default log4j profile: org/apache/spark/log4j-defaults.properties\n",
      "Setting default log level to \"WARN\".\n",
      "To adjust logging level use sc.setLogLevel(newLevel). For SparkR, use setLogLevel(newLevel).\n",
      "21/11/10 14:15:12 WARN Utils: Service 'SparkUI' could not bind on port 4040. Attempting port 4041.\n"
     ]
    }
   ],
   "source": [
    "# import pyspark to process large files and create a new spark session\n",
    "from pyspark.sql import SparkSession\n",
    "from pyspark.sql.functions import col, asc, desc, to_timestamp, unix_timestamp, from_unixtime\n",
    "\n",
    "spark = SparkSession\\\n",
    "    .builder\\\n",
    "    .master('local[*]')\\\n",
    "    .config(\"spark.driver.memory\", \"4g\")\\\n",
    "    .appName('process_tripdata')\\\n",
    "    .getOrCreate()"
   ]
  },
  {
   "cell_type": "code",
   "execution_count": 2,
   "id": "1076d3a7-5723-4d4c-94bb-b7cb2e298fe1",
   "metadata": {},
   "outputs": [],
   "source": [
    "# read 2020 samples\n",
    "jan_sample = spark\\\n",
    "    .read\\\n",
    "    .csv('/home/felipe/repos/tcc/nyc_data/csv/202001_sample.csv', header=True)\n",
    "feb_sample = spark\\\n",
    "    .read\\\n",
    "    .csv('/home/felipe/repos/tcc/nyc_data/csv/202002_sample.csv', header=True)\n",
    "mar_sample = spark\\\n",
    "    .read\\\n",
    "    .csv('/home/felipe/repos/tcc/nyc_data/csv/202003_sample.csv', header=True)\n",
    "apr_sample = spark\\\n",
    "    .read\\\n",
    "    .csv('/home/felipe/repos/tcc/nyc_data/csv/202004_sample.csv', header=True)\n",
    "may_sample = spark\\\n",
    "    .read\\\n",
    "    .csv('/home/felipe/repos/tcc/nyc_data/csv/202005_sample.csv', header=True)\n",
    "jun_sample = spark\\\n",
    "    .read\\\n",
    "    .csv('/home/felipe/repos/tcc/nyc_data/csv/202006_sample.csv', header=True)\n",
    "jul_sample = spark\\\n",
    "    .read\\\n",
    "    .csv('/home/felipe/repos/tcc/nyc_data/csv/202007_sample.csv', header=True)\n",
    "aug_sample = spark\\\n",
    "    .read\\\n",
    "    .csv('/home/felipe/repos/tcc/nyc_data/csv/202008_sample.csv', header=True)\n",
    "sep_sample = spark\\\n",
    "    .read\\\n",
    "    .csv('/home/felipe/repos/tcc/nyc_data/csv/202009_sample.csv', header=True)\n",
    "oct_sample = spark\\\n",
    "    .read\\\n",
    "    .csv('/home/felipe/repos/tcc/nyc_data/csv/202010_sample.csv', header=True)\n",
    "nov_sample = spark\\\n",
    "    .read\\\n",
    "    .csv('/home/felipe/repos/tcc/nyc_data/csv/202011_sample.csv', header=True)\n",
    "dec_sample = spark\\\n",
    "    .read\\\n",
    "    .csv('/home/felipe/repos/tcc/nyc_data/csv/202012_sample.csv', header=True)"
   ]
  },
  {
   "cell_type": "code",
   "execution_count": 3,
   "id": "93e1af21-8ba3-4ba3-a95a-1962d045144b",
   "metadata": {},
   "outputs": [],
   "source": [
    "# cast string cols to appropriate data type\n",
    "jan_sample = jan_sample\\\n",
    "    .withColumn('pickup_datetime', to_timestamp('pickup_datetime'))\\\n",
    "    .withColumn('dropoff_datetime', to_timestamp('dropoff_datetime'))\\\n",
    "    .withColumn('PULocationID', col('PULocationID').cast('int'))\\\n",
    "    .withColumn('DOLocationID', col('DOLocationID').cast('int'))\\\n",
    "    .withColumn('SR_Flag', col('SR_Flag').cast('int'))\\\n",
    "    .na.fill(value=0, subset=[\"SR_Flag\"])\n",
    "\n",
    "feb_sample = feb_sample\\\n",
    "    .withColumn('pickup_datetime', to_timestamp('pickup_datetime'))\\\n",
    "    .withColumn('dropoff_datetime', to_timestamp('dropoff_datetime'))\\\n",
    "    .withColumn('PULocationID', col('PULocationID').cast('int'))\\\n",
    "    .withColumn('DOLocationID', col('DOLocationID').cast('int'))\\\n",
    "    .withColumn('SR_Flag', col('SR_Flag').cast('int'))\\\n",
    "    .na.fill(value=0, subset=[\"SR_Flag\"])\n",
    "\n",
    "mar_sample = mar_sample\\\n",
    "    .withColumn('pickup_datetime', to_timestamp('pickup_datetime'))\\\n",
    "    .withColumn('dropoff_datetime', to_timestamp('dropoff_datetime'))\\\n",
    "    .withColumn('PULocationID', col('PULocationID').cast('int'))\\\n",
    "    .withColumn('DOLocationID', col('DOLocationID').cast('int'))\\\n",
    "    .withColumn('SR_Flag', col('SR_Flag').cast('int'))\\\n",
    "    .na.fill(value=0, subset=[\"SR_Flag\"])\n",
    "\n",
    "apr_sample = apr_sample\\\n",
    "    .withColumn('pickup_datetime', to_timestamp('pickup_datetime'))\\\n",
    "    .withColumn('dropoff_datetime', to_timestamp('dropoff_datetime'))\\\n",
    "    .withColumn('PULocationID', col('PULocationID').cast('int'))\\\n",
    "    .withColumn('DOLocationID', col('DOLocationID').cast('int'))\\\n",
    "    .withColumn('SR_Flag', col('SR_Flag').cast('int'))\\\n",
    "    .na.fill(value=0, subset=[\"SR_Flag\"])\n",
    "\n",
    "may_sample = may_sample\\\n",
    "    .withColumn('pickup_datetime', to_timestamp('pickup_datetime'))\\\n",
    "    .withColumn('dropoff_datetime', to_timestamp('dropoff_datetime'))\\\n",
    "    .withColumn('PULocationID', col('PULocationID').cast('int'))\\\n",
    "    .withColumn('DOLocationID', col('DOLocationID').cast('int'))\\\n",
    "    .withColumn('SR_Flag', col('SR_Flag').cast('int'))\\\n",
    "    .na.fill(value=0, subset=[\"SR_Flag\"])\n",
    "\n",
    "jun_sample = jun_sample\\\n",
    "    .withColumn('pickup_datetime', to_timestamp('pickup_datetime'))\\\n",
    "    .withColumn('dropoff_datetime', to_timestamp('dropoff_datetime'))\\\n",
    "    .withColumn('PULocationID', col('PULocationID').cast('int'))\\\n",
    "    .withColumn('DOLocationID', col('DOLocationID').cast('int'))\\\n",
    "    .withColumn('SR_Flag', col('SR_Flag').cast('int'))\\\n",
    "    .na.fill(value=0, subset=[\"SR_Flag\"])\n",
    "\n",
    "jul_sample = jul_sample\\\n",
    "    .withColumn('pickup_datetime', to_timestamp('pickup_datetime'))\\\n",
    "    .withColumn('dropoff_datetime', to_timestamp('dropoff_datetime'))\\\n",
    "    .withColumn('PULocationID', col('PULocationID').cast('int'))\\\n",
    "    .withColumn('DOLocationID', col('DOLocationID').cast('int'))\\\n",
    "    .withColumn('SR_Flag', col('SR_Flag').cast('int'))\\\n",
    "    .na.fill(value=0, subset=[\"SR_Flag\"])\n",
    "\n",
    "aug_sample = aug_sample\\\n",
    "    .withColumn('pickup_datetime', to_timestamp('pickup_datetime'))\\\n",
    "    .withColumn('dropoff_datetime', to_timestamp('dropoff_datetime'))\\\n",
    "    .withColumn('PULocationID', col('PULocationID').cast('int'))\\\n",
    "    .withColumn('DOLocationID', col('DOLocationID').cast('int'))\\\n",
    "    .withColumn('SR_Flag', col('SR_Flag').cast('int'))\\\n",
    "    .na.fill(value=0, subset=[\"SR_Flag\"])\n",
    "\n",
    "sep_sample = sep_sample\\\n",
    "    .withColumn('pickup_datetime', to_timestamp('pickup_datetime'))\\\n",
    "    .withColumn('dropoff_datetime', to_timestamp('dropoff_datetime'))\\\n",
    "    .withColumn('PULocationID', col('PULocationID').cast('int'))\\\n",
    "    .withColumn('DOLocationID', col('DOLocationID').cast('int'))\\\n",
    "    .withColumn('SR_Flag', col('SR_Flag').cast('int'))\\\n",
    "    .na.fill(value=0, subset=[\"SR_Flag\"])\n",
    "\n",
    "oct_sample = oct_sample\\\n",
    "    .withColumn('pickup_datetime', to_timestamp('pickup_datetime'))\\\n",
    "    .withColumn('dropoff_datetime', to_timestamp('dropoff_datetime'))\\\n",
    "    .withColumn('PULocationID', col('PULocationID').cast('int'))\\\n",
    "    .withColumn('DOLocationID', col('DOLocationID').cast('int'))\\\n",
    "    .withColumn('SR_Flag', col('SR_Flag').cast('int'))\\\n",
    "    .na.fill(value=0, subset=[\"SR_Flag\"])\n",
    "\n",
    "nov_sample = nov_sample\\\n",
    "    .withColumn('pickup_datetime', to_timestamp('pickup_datetime'))\\\n",
    "    .withColumn('dropoff_datetime', to_timestamp('dropoff_datetime'))\\\n",
    "    .withColumn('PULocationID', col('PULocationID').cast('int'))\\\n",
    "    .withColumn('DOLocationID', col('DOLocationID').cast('int'))\\\n",
    "    .withColumn('SR_Flag', col('SR_Flag').cast('int'))\\\n",
    "    .na.fill(value=0, subset=[\"SR_Flag\"])\n",
    "\n",
    "dec_sample = dec_sample\\\n",
    "    .withColumn('pickup_datetime', to_timestamp('pickup_datetime'))\\\n",
    "    .withColumn('dropoff_datetime', to_timestamp('dropoff_datetime'))\\\n",
    "    .withColumn('PULocationID', col('PULocationID').cast('int'))\\\n",
    "    .withColumn('DOLocationID', col('DOLocationID').cast('int'))\\\n",
    "    .withColumn('SR_Flag', col('SR_Flag').cast('int'))\\\n",
    "    .na.fill(value=0, subset=[\"SR_Flag\"])"
   ]
  },
  {
   "cell_type": "code",
   "execution_count": 4,
   "id": "97c9a812-2d7d-41aa-8505-1238bafe3dac",
   "metadata": {},
   "outputs": [],
   "source": [
    "# read covid data cases by day\n",
    "covid_data = spark\\\n",
    "    .read\\\n",
    "    .csv('/home/felipe/repos/tcc/nyc_data/csv/coronavirus-data/trends/cases-by-day.csv', header=True)"
   ]
  },
  {
   "cell_type": "code",
   "execution_count": 5,
   "id": "aab30f32-efec-427a-82d3-f5b2fad2516d",
   "metadata": {},
   "outputs": [],
   "source": [
    "covid_data = covid_data\\\n",
    "    .drop(\"BX_CASE_COUNT\")\\\n",
    "    .drop(\"BX_PROBABLE_CASE_COUNT\")\\\n",
    "    .drop(\"BX_CASE_COUNT_7DAY_AVG\")\\\n",
    "    .drop(\"BX_ALL_CASE_COUNT_7DAY_AVG\")\\\n",
    "    .drop(\"BK_CASE_COUNT\")\\\n",
    "    .drop(\"BK_PROBABLE_CASE_COUNT\")\\\n",
    "    .drop(\"BK_CASE_COUNT_7DAY_AVG\")\\\n",
    "    .drop(\"BK_ALL_CASE_COUNT_7DAY_AVG\")\\\n",
    "    .drop(\"MN_CASE_COUNT\")\\\n",
    "    .drop(\"MN_PROBABLE_CASE_COUNT\")\\\n",
    "    .drop(\"MN_CASE_COUNT_7DAY_AVG\")\\\n",
    "    .drop(\"MN_ALL_CASE_COUNT_7DAY_AVG\")\\\n",
    "    .drop(\"QN_CASE_COUNT\")\\\n",
    "    .drop(\"QN_PROBABLE_CASE_COUNT\")\\\n",
    "    .drop(\"QN_CASE_COUNT_7DAY_AVG\")\\\n",
    "    .drop(\"QN_ALL_CASE_COUNT_7DAY_AVG\")\\\n",
    "    .drop(\"SI_CASE_COUNT\")\\\n",
    "    .drop(\"SI_PROBABLE_CASE_COUNT\")\\\n",
    "    .drop(\"SI_CASE_COUNT_7DAY_AVG\")\\\n",
    "    .drop(\"SI_ALL_CASE_COUNT_7DAY_AVG\")"
   ]
  },
  {
   "cell_type": "code",
   "execution_count": 6,
   "id": "72208f9f-c6e9-4827-89f6-9529c1621ac1",
   "metadata": {},
   "outputs": [],
   "source": [
    "covid_data = covid_data\\\n",
    "    .withColumn('date_of_interest', to_timestamp('date_of_interest', 'MM/dd/yyy'))\\\n",
    "    .withColumn('CASE_COUNT', col('CASE_COUNT').cast('int'))\\\n",
    "    .withColumn('PROBABLE_CASE_COUNT', col('PROBABLE_CASE_COUNT').cast('int'))\\\n",
    "    .withColumn('CASE_COUNT_7DAY_AVG', col('CASE_COUNT_7DAY_AVG').cast('int'))\\\n",
    "    .withColumn('ALL_CASE_COUNT_7DAY_AVG', col('ALL_CASE_COUNT_7DAY_AVG').cast('int'))\\\n",
    "    .withColumn('INCOMPLETE', col('INCOMPLETE').cast('int'))"
   ]
  },
  {
   "cell_type": "code",
   "execution_count": 7,
   "id": "b0feb1d8-aeac-4204-a3b6-b3adcf6b103a",
   "metadata": {},
   "outputs": [
    {
     "name": "stdout",
     "output_type": "stream",
     "text": [
      "root\n",
      " |-- date_of_interest: timestamp (nullable = true)\n",
      " |-- CASE_COUNT: integer (nullable = true)\n",
      " |-- PROBABLE_CASE_COUNT: integer (nullable = true)\n",
      " |-- CASE_COUNT_7DAY_AVG: integer (nullable = true)\n",
      " |-- ALL_CASE_COUNT_7DAY_AVG: integer (nullable = true)\n",
      " |-- INCOMPLETE: integer (nullable = true)\n",
      "\n"
     ]
    }
   ],
   "source": [
    "covid_data.printSchema()"
   ]
  },
  {
   "cell_type": "code",
   "execution_count": 8,
   "id": "d7afc851-d921-4e25-8bc1-b9de3f2394bf",
   "metadata": {},
   "outputs": [
    {
     "name": "stdout",
     "output_type": "stream",
     "text": [
      "+-------------------+----------+-------------------+-------------------+-----------------------+----------+\n",
      "|   date_of_interest|CASE_COUNT|PROBABLE_CASE_COUNT|CASE_COUNT_7DAY_AVG|ALL_CASE_COUNT_7DAY_AVG|INCOMPLETE|\n",
      "+-------------------+----------+-------------------+-------------------+-----------------------+----------+\n",
      "|2020-02-29 00:00:00|         1|                  0|                  0|                      0|         0|\n",
      "|2020-03-01 00:00:00|         0|                  0|                  0|                      0|         0|\n",
      "|2020-03-02 00:00:00|         0|                  0|                  0|                      0|         0|\n",
      "|2020-03-03 00:00:00|         1|                  0|                  0|                      0|         0|\n",
      "|2020-03-04 00:00:00|         5|                  0|                  0|                      0|         0|\n",
      "|2020-03-05 00:00:00|         3|                  0|                  0|                      0|         0|\n",
      "|2020-03-06 00:00:00|         8|                  0|                  3|                      3|         0|\n",
      "|2020-03-07 00:00:00|         7|                  0|                  3|                      3|         0|\n",
      "|2020-03-08 00:00:00|        21|                  0|                  6|                      6|         0|\n",
      "|2020-03-09 00:00:00|        57|                  0|                 15|                     15|         0|\n",
      "|2020-03-10 00:00:00|        69|                  0|                 24|                     24|         0|\n",
      "|2020-03-11 00:00:00|       155|                  0|                 46|                     46|         0|\n",
      "|2020-03-12 00:00:00|       355|                  0|                 96|                     96|         0|\n",
      "|2020-03-13 00:00:00|       619|                  0|                183|                    183|         0|\n",
      "|2020-03-14 00:00:00|       642|                  1|                274|                    274|         0|\n",
      "|2020-03-15 00:00:00|      1035|                  0|                419|                    419|         0|\n",
      "|2020-03-16 00:00:00|      2121|                  1|                714|                    714|         0|\n",
      "|2020-03-17 00:00:00|      2452|                  3|               1054|                   1055|         0|\n",
      "|2020-03-18 00:00:00|      2971|                  5|               1456|                   1458|         0|\n",
      "|2020-03-19 00:00:00|      3706|                  4|               1935|                   1937|         0|\n",
      "+-------------------+----------+-------------------+-------------------+-----------------------+----------+\n",
      "only showing top 20 rows\n",
      "\n"
     ]
    }
   ],
   "source": [
    "covid_data.show()"
   ]
  },
  {
   "cell_type": "code",
   "execution_count": 10,
   "id": "836651c1-2ee4-413b-9ae4-95d077222066",
   "metadata": {},
   "outputs": [],
   "source": [
    "sample_data = jan_sample.union(feb_sample)\\\n",
    "    .union(mar_sample)\\\n",
    "    .union(apr_sample)\\\n",
    "    .union(may_sample)\\\n",
    "    .union(jun_sample)\\\n",
    "    .union(jul_sample)\\\n",
    "    .union(aug_sample)\\\n",
    "    .union(sep_sample)\\\n",
    "    .union(oct_sample)\\\n",
    "    .union(nov_sample)\\\n",
    "    .union(dec_sample)"
   ]
  },
  {
   "cell_type": "code",
   "execution_count": 11,
   "id": "90773295-db3b-4c00-bf86-b3345cdba7df",
   "metadata": {},
   "outputs": [],
   "source": [
    "sample_data.createOrReplaceTempView(\"SAMPLE_DATA\")\n",
    "trip_by_month = spark.sql(\"SELECT COUNT(*) as trip_count, MONTH(pickup_datetime) AS month FROM SAMPLE_DATA GROUP BY MONTH(pickup_datetime) ORDER BY month\")"
   ]
  },
  {
   "cell_type": "code",
   "execution_count": 12,
   "id": "729a9c46-5037-414d-aa4d-326d82bdc901",
   "metadata": {},
   "outputs": [
    {
     "name": "stdout",
     "output_type": "stream",
     "text": [
      "root\n",
      " |-- trip_count: long (nullable = false)\n",
      " |-- month: integer (nullable = true)\n",
      "\n"
     ]
    }
   ],
   "source": [
    "trip_by_month.printSchema()"
   ]
  },
  {
   "cell_type": "code",
   "execution_count": 13,
   "id": "260b6931-0265-4480-b36e-643b43b696dd",
   "metadata": {},
   "outputs": [
    {
     "name": "stderr",
     "output_type": "stream",
     "text": [
      "[Stage 14:===================================================>    (22 + 2) / 24]\r"
     ]
    },
    {
     "name": "stdout",
     "output_type": "stream",
     "text": [
      "+----------+-----+\n",
      "|trip_count|month|\n",
      "+----------+-----+\n",
      "|    203329|    1|\n",
      "|    214980|    2|\n",
      "|    132170|    3|\n",
      "|     42989|    4|\n",
      "|     60947|    5|\n",
      "|     75113|    6|\n",
      "|     98307|    7|\n",
      "|    109628|    8|\n",
      "|    119553|    9|\n",
      "|    130542|   10|\n",
      "|    114107|   11|\n",
      "|    114408|   12|\n",
      "+----------+-----+\n",
      "\n"
     ]
    },
    {
     "name": "stderr",
     "output_type": "stream",
     "text": [
      "                                                                                \r"
     ]
    }
   ],
   "source": [
    "trip_by_month.show()"
   ]
  },
  {
   "cell_type": "code",
   "execution_count": 15,
   "id": "481d677d-dc90-4c59-8d03-01496f63c29f",
   "metadata": {},
   "outputs": [],
   "source": [
    "covid_data.createOrReplaceTempView(\"COVID_DATA_TEMP_VIEW\")\n",
    "covid_cases_by_month = spark.sql(\"SELECT SUM(CASE_COUNT) as case_count, MONTH(date_of_interest) as month_case, YEAR(date_of_interest) AS year FROM COVID_DATA_TEMP_VIEW GROUP BY MONTH(date_of_interest), YEAR(date_of_interest) ORDER BY year, month_case\")"
   ]
  },
  {
   "cell_type": "code",
   "execution_count": 16,
   "id": "063c04ab-27a7-4a4d-9eaa-9474f97da10e",
   "metadata": {},
   "outputs": [
    {
     "name": "stdout",
     "output_type": "stream",
     "text": [
      "root\n",
      " |-- case_count: long (nullable = true)\n",
      " |-- month_case: integer (nullable = true)\n",
      " |-- year: integer (nullable = true)\n",
      "\n"
     ]
    }
   ],
   "source": [
    "covid_cases_by_month.printSchema()"
   ]
  },
  {
   "cell_type": "code",
   "execution_count": 17,
   "id": "96a4ecb7-6504-465b-8a5d-1c99b6f0d627",
   "metadata": {},
   "outputs": [
    {
     "name": "stdout",
     "output_type": "stream",
     "text": [
      "+----------+----------+----+\n",
      "|case_count|month_case|year|\n",
      "+----------+----------+----+\n",
      "|         1|         2|2020|\n",
      "|     65184|         3|2020|\n",
      "|    109299|         4|2020|\n",
      "|     28420|         5|2020|\n",
      "|     10847|         6|2020|\n",
      "|      9786|         7|2020|\n",
      "|      7446|         8|2020|\n",
      "|     11042|         9|2020|\n",
      "|     16803|        10|2020|\n",
      "|     44434|        11|2020|\n",
      "|     97377|        12|2020|\n",
      "|    137495|         1|2021|\n",
      "|     86464|         2|2021|\n",
      "|     92018|         3|2021|\n",
      "|     54337|         4|2021|\n",
      "|     13562|         5|2021|\n",
      "|      5249|         6|2021|\n",
      "|     18688|         7|2021|\n",
      "|     46109|         8|2021|\n",
      "|     38725|         9|2021|\n",
      "+----------+----------+----+\n",
      "only showing top 20 rows\n",
      "\n"
     ]
    }
   ],
   "source": [
    "covid_cases_by_month.show()"
   ]
  },
  {
   "cell_type": "code",
   "execution_count": 18,
   "id": "863a3cb1-5ae1-426e-8c9b-6aea57564068",
   "metadata": {},
   "outputs": [],
   "source": [
    "covid_2020_cases = covid_cases_by_month.where(col('year') == 2020)"
   ]
  },
  {
   "cell_type": "code",
   "execution_count": 19,
   "id": "c77c454f-6f73-4be5-9a8e-800e52b8ac13",
   "metadata": {},
   "outputs": [
    {
     "name": "stdout",
     "output_type": "stream",
     "text": [
      "root\n",
      " |-- case_count: long (nullable = true)\n",
      " |-- month_case: integer (nullable = true)\n",
      " |-- year: integer (nullable = true)\n",
      "\n"
     ]
    }
   ],
   "source": [
    "covid_2020_cases.printSchema()"
   ]
  },
  {
   "cell_type": "code",
   "execution_count": 20,
   "id": "badf5ab7-7f77-4698-b42c-85d153a7bf9b",
   "metadata": {},
   "outputs": [
    {
     "name": "stdout",
     "output_type": "stream",
     "text": [
      "+----------+----------+----+\n",
      "|case_count|month_case|year|\n",
      "+----------+----------+----+\n",
      "|         1|         2|2020|\n",
      "|     65184|         3|2020|\n",
      "|    109299|         4|2020|\n",
      "|     28420|         5|2020|\n",
      "|     10847|         6|2020|\n",
      "|      9786|         7|2020|\n",
      "|      7446|         8|2020|\n",
      "|     11042|         9|2020|\n",
      "|     16803|        10|2020|\n",
      "|     44434|        11|2020|\n",
      "|     97377|        12|2020|\n",
      "+----------+----------+----+\n",
      "\n"
     ]
    }
   ],
   "source": [
    "covid_2020_cases.show()"
   ]
  },
  {
   "cell_type": "code",
   "execution_count": 21,
   "id": "b9a9df6f-0272-4863-a8b8-c31498f47866",
   "metadata": {},
   "outputs": [
    {
     "name": "stdout",
     "output_type": "stream",
     "text": [
      "+----------+----------+----+\n",
      "|case_count|month_case|year|\n",
      "+----------+----------+----+\n",
      "|         0|         1|2020|\n",
      "|         1|         2|2020|\n",
      "|     65184|         3|2020|\n",
      "|    109299|         4|2020|\n",
      "|     28420|         5|2020|\n",
      "|     10847|         6|2020|\n",
      "|      9786|         7|2020|\n",
      "|      7446|         8|2020|\n",
      "|     11042|         9|2020|\n",
      "|     16803|        10|2020|\n",
      "|     44434|        11|2020|\n",
      "|     97377|        12|2020|\n",
      "+----------+----------+----+\n",
      "\n"
     ]
    }
   ],
   "source": [
    "columns = ['case_count','month_case','year']\n",
    "vals = [(0,1,2020)]\n",
    "jan_2020_covid_row = spark.createDataFrame(vals, columns)\n",
    "covid_2020_cases = covid_2020_cases.union(jan_2020_covid_row).orderBy('month_case')\n",
    "covid_2020_cases.show()"
   ]
  },
  {
   "cell_type": "code",
   "execution_count": 25,
   "id": "a033dbc9-8ba5-4ffe-945e-94fbf9520788",
   "metadata": {},
   "outputs": [],
   "source": [
    "case_count_trip_count_2020 = trip_by_month.join(covid_2020_cases, trip_by_month.month == covid_2020_cases.month_case)"
   ]
  },
  {
   "cell_type": "code",
   "execution_count": 26,
   "id": "087f0023-801c-42c6-8f1a-53020fde593d",
   "metadata": {},
   "outputs": [],
   "source": [
    "case_count_trip_count_2020 = case_count_trip_count_2020.drop('month_case').orderBy('month')"
   ]
  },
  {
   "cell_type": "code",
   "execution_count": 27,
   "id": "849b3d76-e745-4a34-8c22-9968e2052136",
   "metadata": {},
   "outputs": [
    {
     "name": "stderr",
     "output_type": "stream",
     "text": [
      "[Stage 59:==============> (22 + 2) / 24][Stage 62:=========>   (139 + 14) / 200]\r"
     ]
    },
    {
     "name": "stdout",
     "output_type": "stream",
     "text": [
      "+----------+-----+----------+----+\n",
      "|trip_count|month|case_count|year|\n",
      "+----------+-----+----------+----+\n",
      "|    203329|    1|         0|2020|\n",
      "|    214980|    2|         1|2020|\n",
      "|    132170|    3|     65184|2020|\n",
      "|     42989|    4|    109299|2020|\n",
      "|     60947|    5|     28420|2020|\n",
      "|     75113|    6|     10847|2020|\n",
      "|     98307|    7|      9786|2020|\n",
      "|    109628|    8|      7446|2020|\n",
      "|    119553|    9|     11042|2020|\n",
      "|    130542|   10|     16803|2020|\n",
      "|    114107|   11|     44434|2020|\n",
      "|    114408|   12|     97377|2020|\n",
      "+----------+-----+----------+----+\n",
      "\n"
     ]
    },
    {
     "name": "stderr",
     "output_type": "stream",
     "text": [
      "                                                                                \r"
     ]
    }
   ],
   "source": [
    "case_count_trip_count_2020.show()"
   ]
  },
  {
   "cell_type": "code",
   "execution_count": 62,
   "id": "8727d84a-243b-4da2-aa08-7da554a6620b",
   "metadata": {},
   "outputs": [],
   "source": [
    "sample_data.createOrReplaceTempView(\"SAMPLE_DATA\")\n",
    "trip_by_day = spark.sql(\"SELECT COUNT(*) as trip_count, YEAR(pickup_datetime) as year, MONTH(pickup_datetime) as month, DAY(pickup_datetime) as day FROM SAMPLE_DATA GROUP BY YEAR(pickup_datetime), MONTH(pickup_datetime), DAY(pickup_datetime) ORDER BY day, month, year\")"
   ]
  },
  {
   "cell_type": "code",
   "execution_count": 69,
   "id": "123f5ad4-64e5-45bc-be35-98a6e40b9d73",
   "metadata": {},
   "outputs": [],
   "source": [
    "from pyspark.sql.functions import concat_ws\n",
    "trip_by_day = trip_by_day.select(col('trip_count'), to_timestamp(concat_ws('-', col('year'), col('month'), col('day'))).alias('date_time'))"
   ]
  },
  {
   "cell_type": "code",
   "execution_count": 70,
   "id": "104d2033-c920-4a2f-b1d1-6f999c087257",
   "metadata": {},
   "outputs": [
    {
     "name": "stdout",
     "output_type": "stream",
     "text": [
      "+----------+-------------------+\n",
      "|trip_count|          date_time|\n",
      "+----------+-------------------+\n",
      "|      6772|2020-01-01 00:00:00|\n",
      "|      8153|2020-02-01 00:00:00|\n",
      "|      7659|2020-03-01 00:00:00|\n",
      "|      1375|2020-04-01 00:00:00|\n",
      "|      1975|2020-05-01 00:00:00|\n",
      "|      2083|2020-06-01 00:00:00|\n",
      "|      2880|2020-07-01 00:00:00|\n",
      "|      4001|2020-08-01 00:00:00|\n",
      "|      3488|2020-09-01 00:00:00|\n",
      "|      4222|2020-10-01 00:00:00|\n",
      "|      4700|2020-11-01 00:00:00|\n",
      "|      3361|2020-12-01 00:00:00|\n",
      "|      4913|2020-01-02 00:00:00|\n",
      "|      7628|2020-02-02 00:00:00|\n",
      "|      6523|2020-03-02 00:00:00|\n",
      "|      1411|2020-04-02 00:00:00|\n",
      "|      1761|2020-05-02 00:00:00|\n",
      "|      1832|2020-06-02 00:00:00|\n",
      "|      2991|2020-07-02 00:00:00|\n",
      "|      3261|2020-08-02 00:00:00|\n",
      "+----------+-------------------+\n",
      "only showing top 20 rows\n",
      "\n"
     ]
    }
   ],
   "source": [
    "trip_by_day.show()"
   ]
  },
  {
   "cell_type": "code",
   "execution_count": 103,
   "id": "87a6a225-9286-427c-9c32-12fa164b663b",
   "metadata": {},
   "outputs": [
    {
     "name": "stdout",
     "output_type": "stream",
     "text": [
      "+-------------------+----------+\n",
      "|   date_of_interest|CASE_COUNT|\n",
      "+-------------------+----------+\n",
      "|2020-02-29 00:00:00|         1|\n",
      "|2020-03-01 00:00:00|         0|\n",
      "|2020-03-02 00:00:00|         0|\n",
      "|2020-03-03 00:00:00|         1|\n",
      "|2020-03-04 00:00:00|         5|\n",
      "|2020-03-05 00:00:00|         3|\n",
      "|2020-03-06 00:00:00|         8|\n",
      "|2020-03-07 00:00:00|         7|\n",
      "|2020-03-08 00:00:00|        21|\n",
      "|2020-03-09 00:00:00|        57|\n",
      "|2020-03-10 00:00:00|        69|\n",
      "|2020-03-11 00:00:00|       155|\n",
      "|2020-03-12 00:00:00|       355|\n",
      "|2020-03-13 00:00:00|       619|\n",
      "|2020-03-14 00:00:00|       642|\n",
      "|2020-03-15 00:00:00|      1035|\n",
      "|2020-03-16 00:00:00|      2121|\n",
      "|2020-03-17 00:00:00|      2452|\n",
      "|2020-03-18 00:00:00|      2971|\n",
      "|2020-03-19 00:00:00|      3706|\n",
      "+-------------------+----------+\n",
      "only showing top 20 rows\n",
      "\n"
     ]
    }
   ],
   "source": [
    "covid_data.createOrReplaceTempView(\"COVID_DATA\")\n",
    "covid_data_by_day = spark.sql(\"SELECT date_of_interest, CASE_COUNT from COVID_DATA where YEAR(date_of_interest) = 2020\")\n",
    "covid_data_by_day.show()"
   ]
  },
  {
   "cell_type": "code",
   "execution_count": 106,
   "id": "801b34da-1053-4c14-8699-819eadfa0e00",
   "metadata": {},
   "outputs": [],
   "source": [
    "covid_case_trip_by_day = covid_data_by_day\\\n",
    "    .join(trip_by_day, covid_data_by_day.date_of_interest == trip_by_day.date_time, \"full\")\\\n",
    "    .drop('date_of_interest')\\\n",
    "    .na.fill(value=0, subset=['CASE_COUNT'])\\\n",
    "    .orderBy('date_time')"
   ]
  },
  {
   "cell_type": "code",
   "execution_count": 108,
   "id": "300f94cb-4203-4ac8-a5bd-3b52d69f5326",
   "metadata": {},
   "outputs": [
    {
     "name": "stdout",
     "output_type": "stream",
     "text": [
      "+----------+----------+-------------------+\n",
      "|CASE_COUNT|trip_count|          date_time|\n",
      "+----------+----------+-------------------+\n",
      "|         0|      6772|2020-01-01 00:00:00|\n",
      "|         0|      4913|2020-01-02 00:00:00|\n",
      "|         0|      5890|2020-01-03 00:00:00|\n",
      "|         0|      6281|2020-01-04 00:00:00|\n",
      "|         0|      5921|2020-01-05 00:00:00|\n",
      "|         0|      5437|2020-01-06 00:00:00|\n",
      "|         0|      5527|2020-01-07 00:00:00|\n",
      "|         0|      5900|2020-01-08 00:00:00|\n",
      "|         0|      6542|2020-01-09 00:00:00|\n",
      "|         0|      6926|2020-01-10 00:00:00|\n",
      "|         0|      7642|2020-01-11 00:00:00|\n",
      "|         0|      6419|2020-01-12 00:00:00|\n",
      "|         0|      5757|2020-01-13 00:00:00|\n",
      "|         0|      6011|2020-01-14 00:00:00|\n",
      "|         0|      5894|2020-01-15 00:00:00|\n",
      "|         0|      6654|2020-01-16 00:00:00|\n",
      "|         0|      8048|2020-01-17 00:00:00|\n",
      "|         0|      8028|2020-01-18 00:00:00|\n",
      "|         0|      6988|2020-01-19 00:00:00|\n",
      "|         0|      5859|2020-01-20 00:00:00|\n",
      "+----------+----------+-------------------+\n",
      "only showing top 20 rows\n",
      "\n"
     ]
    }
   ],
   "source": [
    "covid_case_trip_by_day.show()"
   ]
  },
  {
   "cell_type": "code",
   "execution_count": 110,
   "id": "6e89006a-5a91-4564-b65a-4f1d0e06983a",
   "metadata": {},
   "outputs": [],
   "source": [
    "covid_case_trip_by_day_df = covid_case_trip_by_day.toPandas()"
   ]
  },
  {
   "cell_type": "code",
   "execution_count": 113,
   "id": "d332f473-2480-42ae-9bc9-6bd62aaf5cb1",
   "metadata": {},
   "outputs": [
    {
     "data": {
      "text/plain": [
       "<AxesSubplot:xlabel='date_time'>"
      ]
     },
     "execution_count": 113,
     "metadata": {},
     "output_type": "execute_result"
    },
    {
     "data": {
      "image/png": "[encoded data removed]",
      "text/plain": [
       "<Figure size 432x288 with 1 Axes>"
      ]
     },
     "metadata": {
      "needs_background": "light"
     },
     "output_type": "display_data"
    }
   ],
   "source": [
    "covid_case_trip_by_day_df.plot(x=\"date_time\")"
   ]
  },
  {
   "cell_type": "code",
   "execution_count": null,
   "id": "8a1b669a-3050-49e2-9925-a52d37c1efba",
   "metadata": {},
   "outputs": [],
   "source": []
  }
 ],
 "metadata": {
  "kernelspec": {
   "display_name": "Python 3 (ipykernel)",
   "language": "python",
   "name": "python3"
  },
  "language_info": {
   "codemirror_mode": {
    "name": "ipython",
    "version": 3
   },
   "file_extension": ".py",
   "mimetype": "text/x-python",
   "name": "python",
   "nbconvert_exporter": "python",
   "pygments_lexer": "ipython3",
   "version": "3.7.11"
  }
 },
 "nbformat": 4,
 "nbformat_minor": 5
}
