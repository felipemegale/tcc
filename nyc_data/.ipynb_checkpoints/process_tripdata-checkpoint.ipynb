{
 "cells": [
  {
   "cell_type": "code",
   "execution_count": 3,
   "id": "95e69bd7-fa19-4b3e-8095-c498a366fe13",
   "metadata": {},
   "outputs": [],
   "source": [
    "# import pyspark to process large files\n",
    "from pyspark.sql import SparkSession"
   ]
  },
  {
   "cell_type": "code",
   "execution_count": 39,
   "id": "090480ae-b584-43c1-bc1e-678425a3b164",
   "metadata": {},
   "outputs": [
    {
     "name": "stdout",
     "output_type": "stream",
     "text": [
      "Spark version:  2.4.0\n"
     ]
    }
   ],
   "source": [
    "# create a new spark session\n",
    "spark = SparkSession.builder.master('local[*]').appName('process_tripdata').getOrCreate()\n",
    "print(\"Spark version: \", spark.version)"
   ]
  },
  {
   "cell_type": "code",
   "execution_count": 30,
   "id": "8f157e1f-fac7-4c8b-bf7b-4fff8dc6aaae",
   "metadata": {},
   "outputs": [],
   "source": [
    "# read 2019 fhv data file\n",
    "fhv_data_2019 = spark.read.csv('csv/2019/fhv_data.csv', header=True)"
   ]
  },
  {
   "cell_type": "code",
   "execution_count": 31,
   "id": "8f44d5ca-a0cd-449c-b82f-66027c1cbae1",
   "metadata": {},
   "outputs": [
    {
     "name": "stdout",
     "output_type": "stream",
     "text": [
      "+--------------------+-------------------+-------------------+------------+------------+-------+\n",
      "|dispatching_base_num|    pickup_datetime|   dropoff_datetime|PULocationID|DOLocationID|SR_Flag|\n",
      "+--------------------+-------------------+-------------------+------------+------------+-------+\n",
      "|              B00001|2019-01-01 00:30:00|2019-01-01 02:51:55|        null|        null|   null|\n",
      "|              B00001|2019-01-01 00:45:00|2019-01-01 00:54:49|        null|        null|   null|\n",
      "|              B00001|2019-01-01 00:15:00|2019-01-01 00:54:52|        null|        null|   null|\n",
      "|              B00008|2019-01-01 00:19:00|2019-01-01 00:39:00|        null|        null|   null|\n",
      "|              B00008|2019-01-01 00:27:00|2019-01-01 00:37:00|        null|        null|   null|\n",
      "+--------------------+-------------------+-------------------+------------+------------+-------+\n",
      "only showing top 5 rows\n",
      "\n"
     ]
    }
   ],
   "source": [
    "# show first five rows in fhv_data file\n",
    "fhv_data_2019.show(5)"
   ]
  },
  {
   "cell_type": "code",
   "execution_count": 34,
   "id": "3b9abef4-7f14-4564-8920-4c95bcb769c0",
   "metadata": {},
   "outputs": [],
   "source": [
    "# keep lines with known PU (pickup) and DO (dropoff) locations\n",
    "filtered_fhv_data_2019 = fhv_data_2019.filter(fhv_data_2019.PULocationID.isNotNull() & fhv_data_2019.DOLocationID.isNotNull())"
   ]
  },
  {
   "cell_type": "code",
   "execution_count": 35,
   "id": "0744119b-59c4-4f0f-a319-7e8656a341b8",
   "metadata": {},
   "outputs": [
    {
     "name": "stdout",
     "output_type": "stream",
     "text": [
      "+--------------------+-------------------+-------------------+------------+------------+-------+\n",
      "|dispatching_base_num|    pickup_datetime|   dropoff_datetime|PULocationID|DOLocationID|SR_Flag|\n",
      "+--------------------+-------------------+-------------------+------------+------------+-------+\n",
      "|              B00254|2019-01-01 00:33:03|2019-01-01 01:37:24|         140|          52|   null|\n",
      "|              B00254|2019-01-01 00:03:00|2019-01-01 00:34:25|         141|         237|   null|\n",
      "|              B00254|2019-01-01 00:45:48|2019-01-01 01:26:01|         237|         236|   null|\n",
      "|              B00254|2019-01-01 00:37:39|2019-01-01 01:44:59|         162|          85|   null|\n",
      "|              B00254|2019-01-01 00:35:06|2019-01-01 01:30:21|         237|         246|   null|\n",
      "+--------------------+-------------------+-------------------+------------+------------+-------+\n",
      "only showing top 5 rows\n",
      "\n"
     ]
    }
   ],
   "source": [
    "# show first five rows in filtered_fhv_data_2019 data frame\n",
    "filtered_fhv_data_2019.show(5)"
   ]
  },
  {
   "cell_type": "code",
   "execution_count": 36,
   "id": "4946afa8-c6f0-4bb7-9dd9-6b5ab2461475",
   "metadata": {},
   "outputs": [],
   "source": [
    "# drop unused dispatching_base_num col\n",
    "dropped_filtered_fhv_data_2019 = filtered_fhv_data_2019.drop(filtered_fhv_data_2019.dispatching_base_num)"
   ]
  },
  {
   "cell_type": "code",
   "execution_count": 37,
   "id": "d274e991-58b8-40b7-b69f-6c551b464ad7",
   "metadata": {},
   "outputs": [
    {
     "name": "stdout",
     "output_type": "stream",
     "text": [
      "+-------------------+-------------------+------------+------------+-------+\n",
      "|    pickup_datetime|   dropoff_datetime|PULocationID|DOLocationID|SR_Flag|\n",
      "+-------------------+-------------------+------------+------------+-------+\n",
      "|2019-01-01 00:33:03|2019-01-01 01:37:24|         140|          52|   null|\n",
      "|2019-01-01 00:03:00|2019-01-01 00:34:25|         141|         237|   null|\n",
      "|2019-01-01 00:45:48|2019-01-01 01:26:01|         237|         236|   null|\n",
      "|2019-01-01 00:37:39|2019-01-01 01:44:59|         162|          85|   null|\n",
      "|2019-01-01 00:35:06|2019-01-01 01:30:21|         237|         246|   null|\n",
      "+-------------------+-------------------+------------+------------+-------+\n",
      "only showing top 5 rows\n",
      "\n"
     ]
    }
   ],
   "source": [
    "# show first five rows of processed file\n",
    "dropped_filtered_fhv_data_2019.show(5)"
   ]
  },
  {
   "cell_type": "code",
   "execution_count": 40,
   "id": "bb82bef3-864c-4f85-a9b3-1c4f843213f9",
   "metadata": {},
   "outputs": [],
   "source": [
    "# write processed file back to CSV\n",
    "dropped_filtered_fhv_data_2019.repartition(1).write.format(\"com.databricks.spark.csv\").option(\"header\", \"true\").save(\"csv/2019/processed_fhv_data.csv\")"
   ]
  },
  {
   "cell_type": "code",
   "execution_count": 41,
   "id": "977176bb-27c3-4efc-ba9b-9825061248ba",
   "metadata": {},
   "outputs": [],
   "source": [
    "# read fhv high volume 2019 data\n",
    "fhvhv_data_2019 = spark.read.csv('csv/2019/fhvhv_data.csv', header=True)"
   ]
  },
  {
   "cell_type": "code",
   "execution_count": 42,
   "id": "eec49e71-bc2a-4b9f-9048-5b9c4a68fa9f",
   "metadata": {},
   "outputs": [
    {
     "name": "stdout",
     "output_type": "stream",
     "text": [
      "+-----------------+--------------------+-------------------+-------------------+------------+------------+-------+\n",
      "|hvfhs_license_num|dispatching_base_num|    pickup_datetime|   dropoff_datetime|PULocationID|DOLocationID|SR_Flag|\n",
      "+-----------------+--------------------+-------------------+-------------------+------------+------------+-------+\n",
      "|           HV0003|              B02867|2019-02-01 00:05:18|2019-02-01 00:14:57|         245|         251|   null|\n",
      "|           HV0003|              B02879|2019-02-01 00:41:29|2019-02-01 00:49:39|         216|         197|   null|\n",
      "|           HV0005|              B02510|2019-02-01 00:51:34|2019-02-01 01:28:29|         261|         234|   null|\n",
      "|           HV0005|              B02510|2019-02-01 00:03:51|2019-02-01 00:07:16|          87|          87|   null|\n",
      "|           HV0005|              B02510|2019-02-01 00:09:44|2019-02-01 00:39:56|          87|         198|   null|\n",
      "+-----------------+--------------------+-------------------+-------------------+------------+------------+-------+\n",
      "only showing top 5 rows\n",
      "\n"
     ]
    }
   ],
   "source": [
    "# show first five rows of fhvhv data\n",
    "fhvhv_data_2019.show(5)"
   ]
  },
  {
   "cell_type": "code",
   "execution_count": 43,
   "id": "18b9edc8-a6d1-46ba-8d00-b785c9fd3354",
   "metadata": {},
   "outputs": [],
   "source": [
    "# drop unused columns hvfhs_license_num and dispatching_base_num\n",
    "no_hvfhs_fhvhv_data_2019 = fhvhv_data_2019.drop(fhvhv_data_2019.hvfhs_license_num)\n",
    "dropped = no_hvfhs_fhvhv_data_2019.drop(no_hvfhs_fhvhv_data_2019.dispatching_base_num)"
   ]
  },
  {
   "cell_type": "code",
   "execution_count": 44,
   "id": "1d099c7c-a18d-4852-8447-a5e38a65e210",
   "metadata": {},
   "outputs": [
    {
     "name": "stdout",
     "output_type": "stream",
     "text": [
      "+-------------------+-------------------+------------+------------+-------+\n",
      "|    pickup_datetime|   dropoff_datetime|PULocationID|DOLocationID|SR_Flag|\n",
      "+-------------------+-------------------+------------+------------+-------+\n",
      "|2019-02-01 00:05:18|2019-02-01 00:14:57|         245|         251|   null|\n",
      "|2019-02-01 00:41:29|2019-02-01 00:49:39|         216|         197|   null|\n",
      "|2019-02-01 00:51:34|2019-02-01 01:28:29|         261|         234|   null|\n",
      "|2019-02-01 00:03:51|2019-02-01 00:07:16|          87|          87|   null|\n",
      "|2019-02-01 00:09:44|2019-02-01 00:39:56|          87|         198|   null|\n",
      "+-------------------+-------------------+------------+------------+-------+\n",
      "only showing top 5 rows\n",
      "\n"
     ]
    }
   ],
   "source": [
    "# show first five rows of new data frame after dropping columns\n",
    "dropped.show(5)"
   ]
  },
  {
   "cell_type": "code",
   "execution_count": 45,
   "id": "8c4ffb38-2ce0-4df0-a24a-b749f8bd22df",
   "metadata": {},
   "outputs": [],
   "source": [
    "# remove from dropped lines where PU or DO have null value\n",
    "final_fhvhv = dropped.filter(dropped.PULocationID.isNotNull() & dropped.DOLocationID.isNotNull())"
   ]
  },
  {
   "cell_type": "code",
   "execution_count": 46,
   "id": "f2181178-e8e8-4a69-998a-347418c4a3b7",
   "metadata": {},
   "outputs": [
    {
     "name": "stdout",
     "output_type": "stream",
     "text": [
      "+-------------------+-------------------+------------+------------+-------+\n",
      "|    pickup_datetime|   dropoff_datetime|PULocationID|DOLocationID|SR_Flag|\n",
      "+-------------------+-------------------+------------+------------+-------+\n",
      "|2019-02-01 00:05:18|2019-02-01 00:14:57|         245|         251|   null|\n",
      "|2019-02-01 00:41:29|2019-02-01 00:49:39|         216|         197|   null|\n",
      "|2019-02-01 00:51:34|2019-02-01 01:28:29|         261|         234|   null|\n",
      "|2019-02-01 00:03:51|2019-02-01 00:07:16|          87|          87|   null|\n",
      "|2019-02-01 00:09:44|2019-02-01 00:39:56|          87|         198|   null|\n",
      "+-------------------+-------------------+------------+------------+-------+\n",
      "only showing top 5 rows\n",
      "\n"
     ]
    }
   ],
   "source": [
    "# show first five rows of final fhvhv data frame\n",
    "final_fhvhv.show(5)"
   ]
  },
  {
   "cell_type": "code",
   "execution_count": 47,
   "id": "141a5273-6ee1-4802-8d4d-31bcafe0c02c",
   "metadata": {},
   "outputs": [],
   "source": [
    "# write final_fhvhv to file\n",
    "final_fhvhv.repartition(1).write.format(\"com.databricks.spark.csv\").option(\"header\", \"true\").save(\"csv/2019/processed_fhvhv_data.csv\")"
   ]
  },
  {
   "cell_type": "code",
   "execution_count": 7,
   "id": "67cf5005-788e-4f1f-9cfc-7ddd512fc690",
   "metadata": {},
   "outputs": [],
   "source": [
    "# read fhv 2020 data\n",
    "fhv_2020_data = spark.read.csv('csv/2020/fhv_data.csv', header=True)"
   ]
  },
  {
   "cell_type": "code",
   "execution_count": 8,
   "id": "caed7fcf-8ada-45e3-84fc-c034fc296ce0",
   "metadata": {},
   "outputs": [
    {
     "name": "stdout",
     "output_type": "stream",
     "text": [
      "+--------------------+-------------------+-------------------+------------+------------+-------+\n",
      "|dispatching_base_num|    pickup_datetime|   dropoff_datetime|PULocationID|DOLocationID|SR_Flag|\n",
      "+--------------------+-------------------+-------------------+------------+------------+-------+\n",
      "|              B00001|2020-01-01 00:30:00|2020-01-01 01:44:00|         264|         264|   null|\n",
      "|              B00001|2020-01-01 00:30:00|2020-01-01 00:47:00|         264|         264|   null|\n",
      "|              B00009|2020-01-01 00:48:00|2020-01-01 01:19:00|         264|         264|   null|\n",
      "|              B00009|2020-01-01 00:34:00|2020-01-01 00:43:00|         264|         264|   null|\n",
      "|              B00009|2020-01-01 00:23:00|2020-01-01 00:32:00|         264|         264|   null|\n",
      "+--------------------+-------------------+-------------------+------------+------------+-------+\n",
      "only showing top 5 rows\n",
      "\n"
     ]
    }
   ],
   "source": [
    "# show first five rows of 2020 fhv data\n",
    "fhv_2020_data.show(5)"
   ]
  },
  {
   "cell_type": "code",
   "execution_count": 9,
   "id": "5eff4978-69b9-44d6-8ea1-7c82de9e5f5f",
   "metadata": {},
   "outputs": [],
   "source": [
    "# drop dispatching_base_num\n",
    "dropped_fhv_2020_data = fhv_2020_data.drop(fhv_2020_data.dispatching_base_num)"
   ]
  },
  {
   "cell_type": "code",
   "execution_count": 10,
   "id": "a27d3e13-439f-4312-b4e6-52f1702593f4",
   "metadata": {},
   "outputs": [
    {
     "name": "stdout",
     "output_type": "stream",
     "text": [
      "+-------------------+-------------------+------------+------------+-------+\n",
      "|    pickup_datetime|   dropoff_datetime|PULocationID|DOLocationID|SR_Flag|\n",
      "+-------------------+-------------------+------------+------------+-------+\n",
      "|2020-01-01 00:30:00|2020-01-01 01:44:00|         264|         264|   null|\n",
      "|2020-01-01 00:30:00|2020-01-01 00:47:00|         264|         264|   null|\n",
      "|2020-01-01 00:48:00|2020-01-01 01:19:00|         264|         264|   null|\n",
      "|2020-01-01 00:34:00|2020-01-01 00:43:00|         264|         264|   null|\n",
      "|2020-01-01 00:23:00|2020-01-01 00:32:00|         264|         264|   null|\n",
      "+-------------------+-------------------+------------+------------+-------+\n",
      "only showing top 5 rows\n",
      "\n"
     ]
    }
   ],
   "source": [
    "# show first 5 rows of after dropping dispatching_base_num column\n",
    "dropped_fhv_2020_data.show(5)"
   ]
  },
  {
   "cell_type": "code",
   "execution_count": 11,
   "id": "0ea40590-8c3b-483b-a03a-ab35bdd465fe",
   "metadata": {},
   "outputs": [],
   "source": [
    "# filter rows where PU and DO aren't null\n",
    "filtered_fhv_2020_data = dropped_fhv_2020_data.filter(dropped_fhv_2020_data.PULocationID.isNotNull() & dropped_fhv_2020_data.DOLocationID.isNotNull())"
   ]
  },
  {
   "cell_type": "code",
   "execution_count": 13,
   "id": "7d9e639e-4397-49b3-91b3-e07f98922475",
   "metadata": {},
   "outputs": [],
   "source": [
    "# write filtered 2020 fhv data to file\n",
    "filtered_fhv_2020_data.repartition(1).write.format(\"com.databricks.spark.csv\").option(\"header\", \"true\").save(\"csv/2020/processed_fhv_data.csv\")"
   ]
  },
  {
   "cell_type": "code",
   "execution_count": 14,
   "id": "cb58e64c-1b9d-47ad-99dc-5c407f6beaf6",
   "metadata": {},
   "outputs": [],
   "source": [
    "# read 2020 fhv high volume data\n",
    "fhvhv_2020_data = spark.read.csv('csv/2020/fhvhv_data.csv', header=True)"
   ]
  },
  {
   "cell_type": "code",
   "execution_count": 15,
   "id": "bee74b25-72b8-4045-916c-a87d81d6a960",
   "metadata": {},
   "outputs": [
    {
     "name": "stdout",
     "output_type": "stream",
     "text": [
      "+-----------------+--------------------+-------------------+-------------------+------------+------------+-------+\n",
      "|hvfhs_license_num|dispatching_base_num|    pickup_datetime|   dropoff_datetime|PULocationID|DOLocationID|SR_Flag|\n",
      "+-----------------+--------------------+-------------------+-------------------+------------+------------+-------+\n",
      "|           HV0003|              B02864|2020-01-01 00:45:34|2020-01-01 01:02:20|         148|          90|   null|\n",
      "|           HV0003|              B02682|2020-01-01 00:47:50|2020-01-01 00:53:23|         114|          79|   null|\n",
      "|           HV0003|              B02764|2020-01-01 00:04:37|2020-01-01 00:21:49|           4|         125|   null|\n",
      "|           HV0003|              B02764|2020-01-01 00:26:36|2020-01-01 00:33:00|         231|         113|   null|\n",
      "|           HV0003|              B02764|2020-01-01 00:37:49|2020-01-01 00:46:59|         114|         144|   null|\n",
      "+-----------------+--------------------+-------------------+-------------------+------------+------------+-------+\n",
      "only showing top 5 rows\n",
      "\n"
     ]
    }
   ],
   "source": [
    "# show first five rows of 2020 fhvhv data\n",
    "fhvhv_2020_data.show(5)"
   ]
  },
  {
   "cell_type": "code",
   "execution_count": 17,
   "id": "5334ffa7-e07e-40f8-b831-4c8d755dba41",
   "metadata": {},
   "outputs": [],
   "source": [
    "# drop hvfhs_license_num column\n",
    "dropped_hvfhs = fhvhv_2020_data.drop(fhvhv_2020_data.hvfhs_license_num)"
   ]
  },
  {
   "cell_type": "code",
   "execution_count": 18,
   "id": "0d9f1c5d-09aa-450d-b988-9e02f81c9fd8",
   "metadata": {},
   "outputs": [
    {
     "name": "stdout",
     "output_type": "stream",
     "text": [
      "+--------------------+-------------------+-------------------+------------+------------+-------+\n",
      "|dispatching_base_num|    pickup_datetime|   dropoff_datetime|PULocationID|DOLocationID|SR_Flag|\n",
      "+--------------------+-------------------+-------------------+------------+------------+-------+\n",
      "|              B02864|2020-01-01 00:45:34|2020-01-01 01:02:20|         148|          90|   null|\n",
      "|              B02682|2020-01-01 00:47:50|2020-01-01 00:53:23|         114|          79|   null|\n",
      "|              B02764|2020-01-01 00:04:37|2020-01-01 00:21:49|           4|         125|   null|\n",
      "|              B02764|2020-01-01 00:26:36|2020-01-01 00:33:00|         231|         113|   null|\n",
      "|              B02764|2020-01-01 00:37:49|2020-01-01 00:46:59|         114|         144|   null|\n",
      "+--------------------+-------------------+-------------------+------------+------------+-------+\n",
      "only showing top 5 rows\n",
      "\n"
     ]
    }
   ],
   "source": [
    "# show first five rows after dropping hvfhs column\n",
    "dropped_hvfhs.show(5)"
   ]
  },
  {
   "cell_type": "code",
   "execution_count": 19,
   "id": "a94a3227-e131-41ac-8578-c38e2556c951",
   "metadata": {},
   "outputs": [],
   "source": [
    "# drop dispatching base num col\n",
    "dropped_disp_col = dropped_hvfhs.drop(dropped_hvfhs.dispatching_base_num)"
   ]
  },
  {
   "cell_type": "code",
   "execution_count": 20,
   "id": "25500bc7-8126-49ae-b3b4-8750b87975da",
   "metadata": {},
   "outputs": [
    {
     "name": "stdout",
     "output_type": "stream",
     "text": [
      "+-------------------+-------------------+------------+------------+-------+\n",
      "|    pickup_datetime|   dropoff_datetime|PULocationID|DOLocationID|SR_Flag|\n",
      "+-------------------+-------------------+------------+------------+-------+\n",
      "|2020-01-01 00:45:34|2020-01-01 01:02:20|         148|          90|   null|\n",
      "|2020-01-01 00:47:50|2020-01-01 00:53:23|         114|          79|   null|\n",
      "|2020-01-01 00:04:37|2020-01-01 00:21:49|           4|         125|   null|\n",
      "|2020-01-01 00:26:36|2020-01-01 00:33:00|         231|         113|   null|\n",
      "|2020-01-01 00:37:49|2020-01-01 00:46:59|         114|         144|   null|\n",
      "+-------------------+-------------------+------------+------------+-------+\n",
      "only showing top 5 rows\n",
      "\n"
     ]
    }
   ],
   "source": [
    "# show first 5 rows after dropping second col\n",
    "dropped_disp_col.show(5)"
   ]
  },
  {
   "cell_type": "code",
   "execution_count": 21,
   "id": "3a2fbec3-98f5-4cc5-a615-6438b4988691",
   "metadata": {},
   "outputs": [],
   "source": [
    "# filter off columns where PU or DO is null\n",
    "filtered_fhvhv_2020_data = dropped_disp_col.filter(dropped_disp_col.PULocationID.isNotNull() & dropped_disp_col.DOLocationID.isNotNull())"
   ]
  },
  {
   "cell_type": "code",
   "execution_count": 22,
   "id": "461d38bd-0a52-4f36-a4dc-d7d97fa53c00",
   "metadata": {},
   "outputs": [
    {
     "name": "stdout",
     "output_type": "stream",
     "text": [
      "+-------------------+-------------------+------------+------------+-------+\n",
      "|    pickup_datetime|   dropoff_datetime|PULocationID|DOLocationID|SR_Flag|\n",
      "+-------------------+-------------------+------------+------------+-------+\n",
      "|2020-01-01 00:45:34|2020-01-01 01:02:20|         148|          90|   null|\n",
      "|2020-01-01 00:47:50|2020-01-01 00:53:23|         114|          79|   null|\n",
      "|2020-01-01 00:04:37|2020-01-01 00:21:49|           4|         125|   null|\n",
      "|2020-01-01 00:26:36|2020-01-01 00:33:00|         231|         113|   null|\n",
      "|2020-01-01 00:37:49|2020-01-01 00:46:59|         114|         144|   null|\n",
      "+-------------------+-------------------+------------+------------+-------+\n",
      "only showing top 5 rows\n",
      "\n"
     ]
    }
   ],
   "source": [
    "# show first five rows after filtering\n",
    "filtered_fhvhv_2020_data.show(5)"
   ]
  },
  {
   "cell_type": "code",
   "execution_count": 24,
   "id": "dee3ec1a-5d87-4d2e-b7ce-12b65cdc95a5",
   "metadata": {},
   "outputs": [],
   "source": [
    "# write 2020 fhvhv data to file\n",
    "filtered_fhvhv_2020_data.repartition(1).write.format(\"com.databricks.spark.csv\").option(\"header\", \"true\").save(\"csv/2020/processed_fhvhv_data.csv\")"
   ]
  },
  {
   "cell_type": "code",
   "execution_count": null,
   "id": "110da7ef-d9d0-4972-bf3c-b5d5694a46ee",
   "metadata": {},
   "outputs": [],
   "source": []
  }
 ],
 "metadata": {
  "kernelspec": {
   "display_name": "Python 3",
   "language": "python",
   "name": "python3"
  },
  "language_info": {
   "codemirror_mode": {
    "name": "ipython",
    "version": 3
   },
   "file_extension": ".py",
   "mimetype": "text/x-python",
   "name": "python",
   "nbconvert_exporter": "python",
   "pygments_lexer": "ipython3",
   "version": "3.7.10"
  }
 },
 "nbformat": 4,
 "nbformat_minor": 5
}
